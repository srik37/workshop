{
 "cells": [
  {
   "cell_type": "markdown",
   "metadata": {},
   "source": [
    "# Check that the Notebook Instance was Created Correctly"
   ]
  },
  {
   "cell_type": "code",
   "execution_count": 1,
   "metadata": {},
   "outputs": [],
   "source": [
    "setup_instance_check_passed = False"
   ]
  },
  {
   "cell_type": "code",
   "execution_count": 2,
   "metadata": {},
   "outputs": [],
   "source": [
    "import boto3\n",
    "\n",
    "region = boto3.Session().region_name\n",
    "session = boto3.session.Session()\n",
    "\n",
    "ec2 = boto3.Session().client(service_name='ec2', region_name=region)\n",
    "sm = boto3.Session().client(service_name='sagemaker', region_name=region)"
   ]
  },
  {
   "cell_type": "markdown",
   "metadata": {},
   "source": [
    "# Check Notebook Instance Name and Instance Type"
   ]
  },
  {
   "cell_type": "code",
   "execution_count": 3,
   "metadata": {},
   "outputs": [
    {
     "name": "stdout",
     "output_type": "stream",
     "text": [
      "Notebook Instance Name: workshop\n"
     ]
    }
   ],
   "source": [
    "import json\n",
    "notebook_instance_name = None\n",
    "\n",
    "try:\n",
    "    with open('/opt/ml/metadata/resource-metadata.json') as notebook_info:\n",
    "        data = json.load(notebook_info)\n",
    "        resource_arn = data['ResourceArn']\n",
    "        region = resource_arn.split(':')[3]\n",
    "        notebook_instance_name = data['ResourceName']\n",
    "    print('Notebook Instance Name: {}'.format(notebook_instance_name))\n",
    "except:\n",
    "    print('+++++++++++++++++++++++++++++++++++++++++++++++++++++++++++')\n",
    "    print('[ERROR]: COULD NOT RETRIEVE THE NOTEBOOK INSTANCE METADATA.')\n",
    "    print('+++++++++++++++++++++++++++++++++++++++++++++++++++++++++++')"
   ]
  },
  {
   "cell_type": "markdown",
   "metadata": {},
   "source": [
    "# Check Notebook Instance Settings"
   ]
  },
  {
   "cell_type": "code",
   "execution_count": 4,
   "metadata": {},
   "outputs": [
    {
     "name": "stdout",
     "output_type": "stream",
     "text": [
      "{'NotebookInstanceArn': 'arn:aws:sagemaker:us-west-2:085964654406:notebook-instance/workshop', 'NotebookInstanceName': 'workshop', 'NotebookInstanceStatus': 'InService', 'Url': 'workshop.notebook.us-west-2.sagemaker.aws', 'InstanceType': 'ml.c5.2xlarge', 'RoleArn': 'arn:aws:iam::085964654406:role/TeamRole', 'LastModifiedTime': datetime.datetime(2020, 9, 26, 15, 24, 30, 807000, tzinfo=tzlocal()), 'CreationTime': datetime.datetime(2020, 9, 26, 15, 22, 6, 206000, tzinfo=tzlocal()), 'DirectInternetAccess': 'Enabled', 'VolumeSizeInGB': 250, 'RootAccess': 'Enabled', 'ResponseMetadata': {'RequestId': '3c96bb94-2cf2-45a0-8689-9c45ba872220', 'HTTPStatusCode': 200, 'HTTPHeaders': {'x-amzn-requestid': '3c96bb94-2cf2-45a0-8689-9c45ba872220', 'content-type': 'application/x-amz-json-1.1', 'content-length': '442', 'date': 'Sat, 26 Sep 2020 15:41:12 GMT'}, 'RetryAttempts': 0}}\n"
     ]
    }
   ],
   "source": [
    "response = sm.describe_notebook_instance(\n",
    "        NotebookInstanceName=notebook_instance_name\n",
    ")\n",
    "print(response)"
   ]
  },
  {
   "cell_type": "code",
   "execution_count": 5,
   "metadata": {},
   "outputs": [
    {
     "name": "stdout",
     "output_type": "stream",
     "text": [
      "[OK] Notebook Instance ARN: arn:aws:sagemaker:us-west-2:085964654406:notebook-instance/workshop\n",
      "\n"
     ]
    }
   ],
   "source": [
    "notebook_instance_arn = None\n",
    "\n",
    "try: \n",
    "    notebook_instance_arn = response['NotebookInstanceArn']\n",
    "    print('[OK] Notebook Instance ARN: {}\\n'.format(notebook_instance_arn))\n",
    "except:\n",
    "    print('+++++++++++++++++++++++++++++++++++++++++++++++++++++++++++')\n",
    "    print('[ERROR]: Could not find the notebook instance ARN in {}.'.format(response))\n",
    "    print('+++++++++++++++++++++++++++++++++++++++++++++++++++++++++++')"
   ]
  },
  {
   "cell_type": "code",
   "execution_count": 6,
   "metadata": {},
   "outputs": [
    {
     "name": "stdout",
     "output_type": "stream",
     "text": [
      "[OK] Direct Internet Access: Enabled\n"
     ]
    }
   ],
   "source": [
    "direct_internet_access = None\n",
    "\n",
    "try: \n",
    "    direct_internet_access = response['DirectInternetAccess']\n",
    "    if direct_internet_access == 'Disabled':\n",
    "        print('+++++++++++++++++++++++++++++++++++++++++++++++++++++++++++')\n",
    "        print('[ERROR]: YOU NEED TO SET UP THE INSTANCE WITH INTERNET ACCESS ENABLED')\n",
    "        print('+++++++++++++++++++++++++++++++++++++++++++++++++++++++++++')\n",
    "    else:\n",
    "        print('[OK] Direct Internet Access: {}'.format(direct_internet_access))\n",
    "except:\n",
    "    print('+++++++++++++++++++++++++++++++++++++++++++++++++++++++++++')\n",
    "    print('[ERROR]: CHECK YOU SET A VPC AND HAVE DIRECT INTERNET ACCESS ENABLED')\n",
    "    print('+++++++++++++++++++++++++++++++++++++++++++++++++++++++++++')"
   ]
  },
  {
   "cell_type": "code",
   "execution_count": 7,
   "metadata": {},
   "outputs": [],
   "source": [
    "min_volume_size=250"
   ]
  },
  {
   "cell_type": "code",
   "execution_count": 8,
   "metadata": {},
   "outputs": [
    {
     "name": "stdout",
     "output_type": "stream",
     "text": [
      "[OK] Volume Size: 250\n"
     ]
    }
   ],
   "source": [
    "volume_size = None\n",
    "\n",
    "try:\n",
    "    volume_size = response['VolumeSizeInGB']\n",
    "    int(volume_size)\n",
    "    if volume_size < min_volume_size: \n",
    "        print('+++++++++++++++++++++++++++++++++++++++++++++++++++++++++++')\n",
    "        print('[ERROR]: YOU ONLY HAVE {} GB VOLUME SIZE. YOU NEED TO SET UP YOUR INSTANCE WITH 250 GB VOLUME SIZE'.format(volume_size))\n",
    "        print('+++++++++++++++++++++++++++++++++++++++++++++++++++++++++++')\n",
    "    else:\n",
    "        print('[OK] Volume Size: {}'.format(volume_size))\n",
    "except:\n",
    "    print('+++++++++++++++++++++++++++++++++++++++++++++++++++++++++++')\n",
    "    print('[ERROR]: COULD NOT FIND THE VOLUME SIZE IN {}'.format(response))\n",
    "    print('+++++++++++++++++++++++++++++++++++++++++++++++++++++++++++')"
   ]
  },
  {
   "cell_type": "markdown",
   "metadata": {},
   "source": [
    "# Summary: Check All Required Settings Are Set Correctly"
   ]
  },
  {
   "cell_type": "code",
   "execution_count": 9,
   "metadata": {},
   "outputs": [
    {
     "name": "stdout",
     "output_type": "stream",
     "text": [
      "[OK] Great Job!  Please Continue.\n"
     ]
    }
   ],
   "source": [
    "if volume_size >= min_volume_size and direct_internet_access == 'Enabled' and notebook_instance_arn:\n",
    "    setup_instance_check_passed=True\n",
    "    print('[OK] Great Job!  Please Continue.')\n",
    "else:\n",
    "    print('+++++++++++++++++++++++++++++++++++++++++++++++++++++++++++')\n",
    "    print('[ERROR]: WE HAVE IDENTIFIED A MISCONFIGURATION.')\n",
    "    print('[ERROR]: STOP/DELETE THIS NOTEBOOK INSTANCE AND CREATE A NEW ONE FOLLOWING THE INSTRUCTIONS')\n",
    "    print('[ERROR]: CURRENT (MISCONFIGURED) SETTINGS: volume_size = {}, direct_internet_access = {}, notebook_instance_arn = {}'.format(volume_size, direct_internet_access, notebook_instance_arn))\n",
    "    print('+++++++++++++++++++++++++++++++++++++++++++++++++++++++++++')"
   ]
  },
  {
   "cell_type": "markdown",
   "metadata": {},
   "source": [
    "# Please Make Sure You Don't See ^^ ERROR ^^ Message Above\n",
    "\n",
    "# **_If You See Any ERROR Messages Above, You Must Do The Following:_** \n",
    "\n",
    "# **_1) Stop This Notebook Instance, 2) Wait For The Notebook Instance To Stop, 3) Delete This Notebook Instance, and 4) Re-Create This Notebook Instance._**"
   ]
  },
  {
   "cell_type": "code",
   "execution_count": 10,
   "metadata": {},
   "outputs": [
    {
     "name": "stdout",
     "output_type": "stream",
     "text": [
      "True\n"
     ]
    }
   ],
   "source": [
    "print(setup_instance_check_passed)"
   ]
  },
  {
   "cell_type": "code",
   "execution_count": 11,
   "metadata": {},
   "outputs": [
    {
     "name": "stdout",
     "output_type": "stream",
     "text": [
      "Stored 'setup_instance_check_passed' (bool)\n"
     ]
    }
   ],
   "source": [
    "%store setup_instance_check_passed"
   ]
  },
  {
   "cell_type": "code",
   "execution_count": 12,
   "metadata": {},
   "outputs": [
    {
     "name": "stdout",
     "output_type": "stream",
     "text": [
      "Stored variables and their in-db values:\n",
      "setup_dependencies_passed               -> True\n",
      "setup_instance_check_passed             -> True\n"
     ]
    }
   ],
   "source": [
    "%store "
   ]
  },
  {
   "cell_type": "markdown",
   "metadata": {},
   "source": [
    "# Release Resources"
   ]
  },
  {
   "cell_type": "code",
   "execution_count": null,
   "metadata": {},
   "outputs": [],
   "source": [
    "%%javascript\n",
    "Jupyter.notebook.save_checkpoint();\n",
    "Jupyter.notebook.session.delete();"
   ]
  }
 ],
 "metadata": {
  "kernelspec": {
   "display_name": "conda_python3",
   "language": "python",
   "name": "conda_python3"
  },
  "language_info": {
   "codemirror_mode": {
    "name": "ipython",
    "version": 3
   },
   "file_extension": ".py",
   "mimetype": "text/x-python",
   "name": "python",
   "nbconvert_exporter": "python",
   "pygments_lexer": "ipython3",
   "version": "3.6.10"
  }
 },
 "nbformat": 4,
 "nbformat_minor": 4
}
