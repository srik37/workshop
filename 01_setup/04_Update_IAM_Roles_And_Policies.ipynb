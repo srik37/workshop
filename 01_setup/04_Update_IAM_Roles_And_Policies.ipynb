{
 "cells": [
  {
   "cell_type": "markdown",
   "metadata": {},
   "source": [
    "# Update IAM Roles and Policies"
   ]
  },
  {
   "cell_type": "code",
   "execution_count": 1,
   "metadata": {},
   "outputs": [],
   "source": [
    "import boto3\n",
    "import sagemaker\n",
    "import time\n",
    "from time import gmtime, strftime\n",
    "\n",
    "sagemaker_session = sagemaker.Session()\n",
    "role = sagemaker.get_execution_role()\n",
    "bucket = sagemaker_session.default_bucket()\n",
    "region = boto3.Session().region_name\n",
    "\n",
    "from botocore.config import Config\n",
    "\n",
    "config = Config(\n",
    "   retries = {\n",
    "      'max_attempts': 10,\n",
    "      'mode': 'adaptive'\n",
    "   }\n",
    ")\n",
    "\n",
    "iam = boto3.client('iam', config=config)"
   ]
  },
  {
   "cell_type": "code",
   "execution_count": 2,
   "metadata": {},
   "outputs": [
    {
     "name": "stdout",
     "output_type": "stream",
     "text": [
      "Role name: TeamRole\n"
     ]
    }
   ],
   "source": [
    "role_name = role.split('/')[-1]\n",
    "\n",
    "print('Role name: {}'.format(role_name))"
   ]
  },
  {
   "cell_type": "code",
   "execution_count": 3,
   "metadata": {},
   "outputs": [],
   "source": [
    "setup_iam_roles_passed=False"
   ]
  },
  {
   "cell_type": "markdown",
   "metadata": {},
   "source": [
    "# **Pre-Requisite:  SageMaker notebook instance ExecutionRole contains `IAMFullAccess` Policy.**"
   ]
  },
  {
   "cell_type": "code",
   "execution_count": 4,
   "metadata": {},
   "outputs": [
    {
     "name": "stdout",
     "output_type": "stream",
     "text": [
      "Attached: IAMFullAccess\n",
      "[OK] You are all set to continue with this notebook!\n"
     ]
    }
   ],
   "source": [
    "pre_policies = iam.list_attached_role_policies(RoleName=role_name)['AttachedPolicies']\n",
    "\n",
    "required_policies = ['IAMFullAccess']\n",
    "\n",
    "for pre_policy in pre_policies:\n",
    "    for role_req in required_policies:\n",
    "        if pre_policy['PolicyName'] == role_req:\n",
    "            print('Attached: {}'.format(pre_policy['PolicyName']))\n",
    "            try:\n",
    "                required_policies.remove(pre_policy['PolicyName'])\n",
    "            except:\n",
    "                pass\n",
    "    \n",
    "if len(required_policies) > 0:\n",
    "    print('*************** [ERROR] You need to attach the following policies in order to continue with this workshop *****************\\n')\n",
    "    for required_policy in required_policies:\n",
    "        print('Not Attached: {}'.format(required_policy))\n",
    "else:\n",
    "    print('[OK] You are all set to continue with this notebook!')"
   ]
  },
  {
   "cell_type": "markdown",
   "metadata": {},
   "source": [
    "# **If you see an ERROR message ^^ above ^^, please attach the IAMFullAccess Policy to the SageMaker notebook instance ExecutionRole.**"
   ]
  },
  {
   "cell_type": "code",
   "execution_count": 5,
   "metadata": {},
   "outputs": [
    {
     "name": "stdout",
     "output_type": "stream",
     "text": [
      "Policy AdministratorAccess has been succesfully attached to role: TeamRole\n"
     ]
    }
   ],
   "source": [
    "from botocore.exceptions import ClientError\n",
    "\n",
    "try:\n",
    "    policy='AdministratorAccess'\n",
    "    response = iam.attach_role_policy(\n",
    "        PolicyArn='arn:aws:iam::aws:policy/{}'.format(policy),\n",
    "        RoleName=role_name\n",
    "    )\n",
    "    print('Policy {} has been succesfully attached to role: {}'.format(policy, role_name))\n",
    "except ClientError as e:\n",
    "    if e.response['Error']['Code'] == 'EntityAlreadyExists':\n",
    "        print('[OK] Policy is already attached.')\n",
    "    elif e.response['Error']['Code'] == 'LimitExceeded':\n",
    "        print('[OK]')\n",
    "    else:\n",
    "        print('*************** [ERROR] {} *****************'.format(e))\n",
    "\n",
    "time.sleep(5)"
   ]
  },
  {
   "cell_type": "code",
   "execution_count": 6,
   "metadata": {},
   "outputs": [
    {
     "name": "stdout",
     "output_type": "stream",
     "text": [
      "Policy AmazonSageMakerFullAccess has been succesfully attached to role: TeamRole\n"
     ]
    }
   ],
   "source": [
    "from botocore.exceptions import ClientError\n",
    "\n",
    "try:\n",
    "    policy='AmazonSageMakerFullAccess'\n",
    "    response = iam.attach_role_policy(\n",
    "        PolicyArn='arn:aws:iam::aws:policy/{}'.format(policy),\n",
    "        RoleName=role_name\n",
    "    )\n",
    "    print('Policy {} has been succesfully attached to role: {}'.format(policy, role_name))\n",
    "except ClientError as e:\n",
    "    if e.response['Error']['Code'] == 'EntityAlreadyExists':\n",
    "        print('[OK] Policy is already attached.')\n",
    "    elif e.response['Error']['Code'] == 'LimitExceeded':\n",
    "        print('[OK]')\n",
    "    else:\n",
    "        print('*************** [ERROR] {} *****************'.format(e))\n",
    "\n",
    "time.sleep(5)"
   ]
  },
  {
   "cell_type": "code",
   "execution_count": 7,
   "metadata": {},
   "outputs": [
    {
     "name": "stdout",
     "output_type": "stream",
     "text": [
      "Policy IAMFullAccess has been succesfully attached to role: TeamRole\n"
     ]
    }
   ],
   "source": [
    "from botocore.exceptions import ClientError\n",
    "\n",
    "try:\n",
    "    policy='IAMFullAccess'\n",
    "    response = iam.attach_role_policy(\n",
    "        PolicyArn='arn:aws:iam::aws:policy/{}'.format(policy),\n",
    "        RoleName=role_name\n",
    "    )\n",
    "    print('Policy {} has been succesfully attached to role: {}'.format(policy, role_name))\n",
    "except ClientError as e:\n",
    "    if e.response['Error']['Code'] == 'EntityAlreadyExists':\n",
    "        print('[OK] Policy is already attached.')\n",
    "    elif e.response['Error']['Code'] == 'LimitExceeded':\n",
    "        print('[OK]')\n",
    "    else:\n",
    "        print('*************** [ERROR] {} *****************'.format(e))\n",
    "\n",
    "time.sleep(5)"
   ]
  },
  {
   "cell_type": "code",
   "execution_count": 8,
   "metadata": {},
   "outputs": [
    {
     "name": "stdout",
     "output_type": "stream",
     "text": [
      "Policy AmazonS3FullAccess has been succesfully attached to role: TeamRole\n"
     ]
    }
   ],
   "source": [
    "from botocore.exceptions import ClientError\n",
    "\n",
    "try:\n",
    "    policy='AmazonS3FullAccess'\n",
    "    response = iam.attach_role_policy(\n",
    "        PolicyArn='arn:aws:iam::aws:policy/{}'.format(policy),\n",
    "        RoleName=role_name\n",
    "    )\n",
    "    print('Policy {} has been succesfully attached to role: {}'.format(policy, role_name))\n",
    "except ClientError as e:\n",
    "    if e.response['Error']['Code'] == 'EntityAlreadyExists':\n",
    "        print('[OK] Policy is already attached.')\n",
    "    elif e.response['Error']['Code'] == 'LimitExceeded':\n",
    "        print('[OK]')\n",
    "    else:\n",
    "        print('*************** [ERROR] {} *****************'.format(e))\n",
    "        \n",
    "time.sleep(5)"
   ]
  },
  {
   "cell_type": "code",
   "execution_count": 9,
   "metadata": {},
   "outputs": [
    {
     "name": "stdout",
     "output_type": "stream",
     "text": [
      "Policy ComprehendFullAccess has been succesfully attached to role: TeamRole\n"
     ]
    }
   ],
   "source": [
    "from botocore.exceptions import ClientError\n",
    "\n",
    "try:\n",
    "    policy='ComprehendFullAccess'\n",
    "    response = iam.attach_role_policy(\n",
    "        PolicyArn='arn:aws:iam::aws:policy/{}'.format(policy),\n",
    "        RoleName=role_name\n",
    "    )\n",
    "    print('Policy {} has been succesfully attached to role: {}'.format(policy, role_name))\n",
    "except ClientError as e:\n",
    "    if e.response['Error']['Code'] == 'EntityAlreadyExists':\n",
    "        print('[OK] Policy is already attached.')\n",
    "    elif e.response['Error']['Code'] == 'LimitExceeded':\n",
    "        print('[OK]')\n",
    "    else:\n",
    "        print('*************** [ERROR] {} *****************'.format(e))\n",
    "        \n",
    "time.sleep(5)"
   ]
  },
  {
   "cell_type": "code",
   "execution_count": 10,
   "metadata": {},
   "outputs": [
    {
     "name": "stdout",
     "output_type": "stream",
     "text": [
      "Policy AmazonAthenaFullAccess has been succesfully attached to role: TeamRole\n"
     ]
    }
   ],
   "source": [
    "from botocore.exceptions import ClientError\n",
    "\n",
    "try:\n",
    "    policy='AmazonAthenaFullAccess'\n",
    "    response = iam.attach_role_policy(\n",
    "        PolicyArn='arn:aws:iam::aws:policy/{}'.format(policy),\n",
    "        RoleName=role_name\n",
    "    )\n",
    "    print('Policy {} has been succesfully attached to role: {}'.format(policy, role_name))\n",
    "except ClientError as e:\n",
    "    if e.response['Error']['Code'] == 'EntityAlreadyExists':\n",
    "        print('[OK] Policy is already attached.')\n",
    "    elif e.response['Error']['Code'] == 'LimitExceeded':\n",
    "        print('[OK]')\n",
    "    else:\n",
    "        print('*************** [ERROR] {} *****************'.format(e))\n",
    "        \n",
    "time.sleep(5)"
   ]
  },
  {
   "cell_type": "code",
   "execution_count": 11,
   "metadata": {},
   "outputs": [
    {
     "name": "stdout",
     "output_type": "stream",
     "text": [
      "Policy SecretsManagerReadWrite has been succesfully attached to role: TeamRole\n"
     ]
    }
   ],
   "source": [
    "from botocore.exceptions import ClientError\n",
    "\n",
    "try:\n",
    "    policy='SecretsManagerReadWrite'\n",
    "    response = iam.attach_role_policy(\n",
    "        PolicyArn='arn:aws:iam::aws:policy/{}'.format(policy),\n",
    "        RoleName=role_name\n",
    "    )\n",
    "    print('Policy {} has been succesfully attached to role: {}'.format(policy, role_name))\n",
    "except ClientError as e:\n",
    "    if e.response['Error']['Code'] == 'EntityAlreadyExists':\n",
    "        print('[OK] Policy is already attached.')\n",
    "    elif e.response['Error']['Code'] == 'LimitExceeded':\n",
    "        print('[OK]')\n",
    "    else:\n",
    "        print('*************** [ERROR] {} *****************'.format(e))\n",
    "        \n",
    "time.sleep(5)"
   ]
  },
  {
   "cell_type": "code",
   "execution_count": 12,
   "metadata": {},
   "outputs": [
    {
     "name": "stdout",
     "output_type": "stream",
     "text": [
      "Policy AmazonRedshiftFullAccess has been succesfully attached to role: TeamRole\n"
     ]
    }
   ],
   "source": [
    "from botocore.exceptions import ClientError\n",
    "\n",
    "try:\n",
    "    policy='AmazonRedshiftFullAccess'\n",
    "    response = iam.attach_role_policy(\n",
    "        PolicyArn='arn:aws:iam::aws:policy/{}'.format(policy),\n",
    "        RoleName=role_name\n",
    "    )\n",
    "    print('Policy {} has been succesfully attached to role: {}'.format(policy, role_name))\n",
    "except ClientError as e:\n",
    "    if e.response['Error']['Code'] == 'EntityAlreadyExists':\n",
    "        print('[OK] Policy is already attached.')\n",
    "    elif e.response['Error']['Code'] == 'LimitExceeded':\n",
    "        print('[OK]')\n",
    "    else:\n",
    "        print('*************** [ERROR] {} *****************'.format(e))\n",
    "        \n",
    "time.sleep(5)"
   ]
  },
  {
   "cell_type": "code",
   "execution_count": 13,
   "metadata": {},
   "outputs": [
    {
     "name": "stdout",
     "output_type": "stream",
     "text": [
      "[OK]\n"
     ]
    }
   ],
   "source": [
    "from botocore.exceptions import ClientError\n",
    "\n",
    "try:\n",
    "    policy='AmazonEC2ContainerRegistryFullAccess'\n",
    "    response = iam.attach_role_policy(\n",
    "        PolicyArn='arn:aws:iam::aws:policy/{}'.format(policy),\n",
    "        RoleName=role_name\n",
    "    )\n",
    "    print('Policy {} has been succesfully attached to role: {}'.format(policy, role_name))\n",
    "except ClientError as e:\n",
    "    if e.response['Error']['Code'] == 'EntityAlreadyExists':\n",
    "        print('[OK] Policy is already attached.')\n",
    "    elif e.response['Error']['Code'] == 'LimitExceeded':\n",
    "        print('[OK]')\n",
    "    else:\n",
    "        print('*************** [ERROR] {} *****************'.format(e))\n",
    "        \n",
    "time.sleep(5)"
   ]
  },
  {
   "cell_type": "code",
   "execution_count": 14,
   "metadata": {},
   "outputs": [
    {
     "name": "stdout",
     "output_type": "stream",
     "text": [
      "[OK]\n"
     ]
    }
   ],
   "source": [
    "from botocore.exceptions import ClientError\n",
    "\n",
    "try:\n",
    "    policy='AWSStepFunctionsFullAccess'\n",
    "    response = iam.attach_role_policy(\n",
    "        PolicyArn='arn:aws:iam::aws:policy/{}'.format(policy),\n",
    "        RoleName=role_name\n",
    "    )\n",
    "    print('Policy {} has been succesfully attached to role: {}'.format(policy, role_name))\n",
    "except ClientError as e:\n",
    "    if e.response['Error']['Code'] == 'EntityAlreadyExists':\n",
    "        print('[OK] Policy is already attached.')\n",
    "    elif e.response['Error']['Code'] == 'LimitExceeded':\n",
    "        print('[OK]')\n",
    "    else:\n",
    "        print('*************** [ERROR] {} *****************'.format(e))\n",
    "        \n",
    "time.sleep(5)"
   ]
  },
  {
   "cell_type": "code",
   "execution_count": 15,
   "metadata": {},
   "outputs": [
    {
     "name": "stdout",
     "output_type": "stream",
     "text": [
      "[OK]\n"
     ]
    }
   ],
   "source": [
    "from botocore.exceptions import ClientError\n",
    "\n",
    "try:\n",
    "    policy='AmazonKinesisFullAccess'\n",
    "    response = iam.attach_role_policy(\n",
    "        PolicyArn='arn:aws:iam::aws:policy/{}'.format(policy),\n",
    "        RoleName=role_name\n",
    "    )\n",
    "    print('Policy {} has been succesfully attached to role: {}'.format(policy, role_name))\n",
    "except ClientError as e:\n",
    "    if e.response['Error']['Code'] == 'EntityAlreadyExists':\n",
    "        print('[OK] Policy is already attached.')\n",
    "    elif e.response['Error']['Code'] == 'LimitExceeded':\n",
    "        print('[OK]')\n",
    "    else:\n",
    "        print('*************** [ERROR] {} *****************'.format(e))\n",
    "        \n",
    "time.sleep(5)"
   ]
  },
  {
   "cell_type": "code",
   "execution_count": 16,
   "metadata": {},
   "outputs": [
    {
     "name": "stdout",
     "output_type": "stream",
     "text": [
      "[OK]\n"
     ]
    }
   ],
   "source": [
    "from botocore.exceptions import ClientError\n",
    "\n",
    "try:\n",
    "    policy='AmazonKinesisFirehoseFullAccess'\n",
    "    response = iam.attach_role_policy(\n",
    "        PolicyArn='arn:aws:iam::aws:policy/{}'.format(policy),\n",
    "        RoleName=role_name\n",
    "    )\n",
    "    print('Policy {} has been succesfully attached to role: {}'.format(policy, role_name))\n",
    "except ClientError as e:\n",
    "    if e.response['Error']['Code'] == 'EntityAlreadyExists':\n",
    "        print('[OK] Policy is already attached.')\n",
    "    elif e.response['Error']['Code'] == 'LimitExceeded':\n",
    "        print('[OK]')\n",
    "    else:\n",
    "        print('*************** [ERROR] {} *****************'.format(e))\n",
    "        \n",
    "time.sleep(5)"
   ]
  },
  {
   "cell_type": "code",
   "execution_count": 17,
   "metadata": {},
   "outputs": [
    {
     "name": "stdout",
     "output_type": "stream",
     "text": [
      "[OK]\n"
     ]
    }
   ],
   "source": [
    "from botocore.exceptions import ClientError\n",
    "\n",
    "try:\n",
    "    policy='AmazonKinesisAnalyticsFullAccess'\n",
    "    response = iam.attach_role_policy(\n",
    "        PolicyArn='arn:aws:iam::aws:policy/{}'.format(policy),\n",
    "        RoleName=role_name\n",
    "    )\n",
    "    print('Policy {} has been succesfully attached to role: {}'.format(policy, role_name))\n",
    "except ClientError as e:\n",
    "    if e.response['Error']['Code'] == 'EntityAlreadyExists':\n",
    "        print('[OK] Policy is already attached.')\n",
    "    elif e.response['Error']['Code'] == 'LimitExceeded':\n",
    "        print('[OK]')\n",
    "    else:\n",
    "        print('*************** [ERROR] {} *****************'.format(e))\n",
    "        \n",
    "time.sleep(5)"
   ]
  },
  {
   "cell_type": "markdown",
   "metadata": {},
   "source": [
    "# *Final Check*"
   ]
  },
  {
   "cell_type": "code",
   "execution_count": 18,
   "metadata": {},
   "outputs": [
    {
     "name": "stdout",
     "output_type": "stream",
     "text": [
      "[OK] You are all set up to continue with this workshop!\n"
     ]
    }
   ],
   "source": [
    "#role = iam.get_role(RoleName=role_name)\n",
    "post_policies = iam.list_attached_role_policies(RoleName=role_name)['AttachedPolicies']\n",
    "\n",
    "required_policies = [\n",
    "                     'AdministratorAccess',\n",
    "                     'SecretsManagerReadWrite', \n",
    "                     'IAMFullAccess', \n",
    "                     'AmazonS3FullAccess', \n",
    "                     'AmazonAthenaFullAccess', \n",
    "                     'ComprehendFullAccess',\n",
    "                     'AmazonEC2ContainerRegistryFullAccess',\n",
    "                     'AmazonRedshiftFullAccess',\n",
    "                     'AWSStepFunctionsFullAccess',\n",
    "                     'AmazonSageMakerFullAccess',\n",
    "                     'AmazonKinesisFullAccess',\n",
    "                     'AmazonKinesisFirehoseFullAccess',\n",
    "                     'AmazonKinesisAnalyticsFullAccess'\n",
    "                    ]\n",
    "\n",
    "admin = False\n",
    "\n",
    "for post_policy in post_policies:\n",
    "    if post_policy['PolicyName'] == 'AdministratorAccess':\n",
    "        admin = True\n",
    "        try:\n",
    "            required_policies.remove(post_policy['PolicyName'])\n",
    "        except:\n",
    "            break\n",
    "    else: \n",
    "        try:\n",
    "            required_policies.remove(post_policy['PolicyName'])\n",
    "        except:\n",
    "            pass\n",
    "\n",
    "if not admin and len(required_policies) > 0:\n",
    "    print('*************** [ERROR] RE-RUN THIS NOTEBOOK *****************')\n",
    "    for required_policy in required_policies:\n",
    "        print('Not Attached: {}'.format(required_policy))\n",
    "else:\n",
    "    setup_iam_roles_passed=True\n",
    "    print('[OK] You are all set up to continue with this workshop!')"
   ]
  },
  {
   "cell_type": "code",
   "execution_count": 19,
   "metadata": {},
   "outputs": [
    {
     "name": "stdout",
     "output_type": "stream",
     "text": [
      "Stored 'setup_iam_roles_passed' (bool)\n"
     ]
    }
   ],
   "source": [
    "%store setup_iam_roles_passed"
   ]
  },
  {
   "cell_type": "code",
   "execution_count": 20,
   "metadata": {},
   "outputs": [
    {
     "name": "stdout",
     "output_type": "stream",
     "text": [
      "Stored variables and their in-db values:\n",
      "setup_dependencies_passed               -> True\n",
      "setup_iam_roles_passed                  -> True\n",
      "setup_instance_check_passed             -> True\n",
      "setup_s3_bucket_passed                  -> True\n"
     ]
    }
   ],
   "source": [
    "%store"
   ]
  },
  {
   "cell_type": "markdown",
   "metadata": {},
   "source": [
    "# Release Resources"
   ]
  },
  {
   "cell_type": "code",
   "execution_count": null,
   "metadata": {},
   "outputs": [],
   "source": [
    "%%javascript\n",
    "Jupyter.notebook.save_checkpoint();\n",
    "Jupyter.notebook.session.delete();"
   ]
  }
 ],
 "metadata": {
  "kernelspec": {
   "display_name": "conda_python3",
   "language": "python",
   "name": "conda_python3"
  },
  "language_info": {
   "codemirror_mode": {
    "name": "ipython",
    "version": 3
   },
   "file_extension": ".py",
   "mimetype": "text/x-python",
   "name": "python",
   "nbconvert_exporter": "python",
   "pygments_lexer": "ipython3",
   "version": "3.6.10"
  }
 },
 "nbformat": 4,
 "nbformat_minor": 4
}
