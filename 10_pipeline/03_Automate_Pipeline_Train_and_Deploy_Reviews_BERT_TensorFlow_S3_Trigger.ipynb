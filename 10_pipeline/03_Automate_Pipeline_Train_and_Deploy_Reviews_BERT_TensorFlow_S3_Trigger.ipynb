{
 "cells": [
  {
   "cell_type": "markdown",
   "metadata": {},
   "source": [
    "# Setup Amazon EventBridge To Trigger a Pipeline Execution with S3"
   ]
  },
  {
   "cell_type": "markdown",
   "metadata": {},
   "source": [
    "Amazon EventBridge is a serverless event bus that makes it easy to connect applications together using data from your own applications, integrated Software-as-a-Service (SaaS) applications, and AWS services.\n",
    "\n",
    "You can choose an event source (i.e. Amazon S3) and select a target from a number of AWS services including AWS Step Functions, AWS Lambda, Amazon SNS, and Amazon Kinesis Data Firehose. Amazon EventBridge will automatically deliver the events in near real-time."
   ]
  },
  {
   "cell_type": "markdown",
   "metadata": {},
   "source": [
    "<img src=\"img/automated_pipeline.png\" width=\"90%\" align=\"left\">"
   ]
  },
  {
   "cell_type": "code",
   "execution_count": 1,
   "metadata": {},
   "outputs": [],
   "source": [
    "import os\n",
    "import sagemaker\n",
    "import logging\n",
    "import boto3\n",
    "import sagemaker\n",
    "import pandas as pd\n",
    "import json\n",
    "from botocore.exceptions import ClientError\n",
    "\n",
    "sess   = sagemaker.Session()\n",
    "bucket = sess.default_bucket()\n",
    "role = sagemaker.get_execution_role()\n",
    "region = boto3.Session().region_name\n",
    "\n",
    "sm = boto3.Session().client(service_name='sagemaker', region_name=region)\n",
    "account_id = boto3.client('sts').get_caller_identity().get('Account')"
   ]
  },
  {
   "cell_type": "markdown",
   "metadata": {},
   "source": [
    "# Get the StepFunctions ARN and Name"
   ]
  },
  {
   "cell_type": "code",
   "execution_count": 2,
   "metadata": {},
   "outputs": [],
   "source": [
    "%store -r stepfunction_arn"
   ]
  },
  {
   "cell_type": "code",
   "execution_count": 3,
   "metadata": {},
   "outputs": [
    {
     "name": "stdout",
     "output_type": "stream",
     "text": [
      "[OK]\n"
     ]
    }
   ],
   "source": [
    "try:\n",
    "    stepfunction_arn\n",
    "    print('[OK]')\n",
    "except NameError:\n",
    "    print('+++++++++++++++++++++++++++++++')\n",
    "    print('[ERROR] Please run the notebooks in this section before you continue.')\n",
    "    print('+++++++++++++++++++++++++++++++')"
   ]
  },
  {
   "cell_type": "code",
   "execution_count": 4,
   "metadata": {},
   "outputs": [
    {
     "name": "stdout",
     "output_type": "stream",
     "text": [
      "arn:aws:states:us-west-2:085964654406:stateMachine:training-pipeline-2020-09-26-20-24-49\n"
     ]
    }
   ],
   "source": [
    "print(stepfunction_arn)"
   ]
  },
  {
   "cell_type": "code",
   "execution_count": 5,
   "metadata": {},
   "outputs": [],
   "source": [
    "%store -r stepfunction_name"
   ]
  },
  {
   "cell_type": "code",
   "execution_count": 6,
   "metadata": {},
   "outputs": [
    {
     "name": "stdout",
     "output_type": "stream",
     "text": [
      "[OK]\n"
     ]
    }
   ],
   "source": [
    "try:\n",
    "    stepfunction_name\n",
    "    print('[OK]')    \n",
    "except NameError:\n",
    "    print('+++++++++++++++++++++++++++++++')\n",
    "    print('[ERROR] Please run the notebooks in this section before you continue.')\n",
    "    print('+++++++++++++++++++++++++++++++')"
   ]
  },
  {
   "cell_type": "code",
   "execution_count": 7,
   "metadata": {},
   "outputs": [
    {
     "name": "stdout",
     "output_type": "stream",
     "text": [
      "training-pipeline-2020-09-26-20-24-49\n"
     ]
    }
   ],
   "source": [
    "print(stepfunction_name)"
   ]
  },
  {
   "cell_type": "markdown",
   "metadata": {},
   "source": [
    "## Steps\n",
    "1. Create S3 Buckets\n",
    "2. Enable CloudTrail Logging\n",
    "3. Get StepFunctions Pipeline\n",
    "4. Create EventBridge Rule\n",
    "5. Test Trigger"
   ]
  },
  {
   "cell_type": "markdown",
   "metadata": {},
   "source": [
    "# Create S3 Data Upload Bucket (watched) & S3 Bucket for CloudTrail Logs"
   ]
  },
  {
   "cell_type": "code",
   "execution_count": 8,
   "metadata": {},
   "outputs": [
    {
     "name": "stdout",
     "output_type": "stream",
     "text": [
      "dsoaws-test-upload-085964654406\n"
     ]
    }
   ],
   "source": [
    "watched_bucket = 'dsoaws-test-upload-{}'.format(account_id)\n",
    "print(watched_bucket)"
   ]
  },
  {
   "cell_type": "code",
   "execution_count": 9,
   "metadata": {},
   "outputs": [
    {
     "name": "stdout",
     "output_type": "stream",
     "text": [
      "make_bucket: dsoaws-test-upload-085964654406\r\n"
     ]
    }
   ],
   "source": [
    "!aws s3 mb s3://$watched_bucket"
   ]
  },
  {
   "cell_type": "code",
   "execution_count": 10,
   "metadata": {},
   "outputs": [],
   "source": [
    "!aws s3 ls $watched_bucket"
   ]
  },
  {
   "cell_type": "code",
   "execution_count": 11,
   "metadata": {},
   "outputs": [
    {
     "name": "stdout",
     "output_type": "stream",
     "text": [
      "cloudtrail-dsoaws-085964654406\n"
     ]
    }
   ],
   "source": [
    "cloudtrail_bucket = 'cloudtrail-dsoaws-{}'.format(account_id)\n",
    "print(cloudtrail_bucket)"
   ]
  },
  {
   "cell_type": "code",
   "execution_count": 12,
   "metadata": {},
   "outputs": [
    {
     "name": "stdout",
     "output_type": "stream",
     "text": [
      "make_bucket: cloudtrail-dsoaws-085964654406\r\n"
     ]
    }
   ],
   "source": [
    "!aws s3 mb s3://$cloudtrail_bucket"
   ]
  },
  {
   "cell_type": "code",
   "execution_count": 13,
   "metadata": {},
   "outputs": [],
   "source": [
    "!aws s3 ls $cloudtrail_bucket"
   ]
  },
  {
   "cell_type": "markdown",
   "metadata": {},
   "source": [
    "# Attach an S3 Policy to the Cloud Trail ^^ Logging Bucket ^^ Above"
   ]
  },
  {
   "cell_type": "code",
   "execution_count": 14,
   "metadata": {},
   "outputs": [
    {
     "name": "stdout",
     "output_type": "stream",
     "text": [
      "{'Version': '2012-10-17', 'Statement': [{'Sid': 'AWSCloudTrailAclCheck20150319', 'Effect': 'Allow', 'Principal': {'Service': 'cloudtrail.amazonaws.com'}, 'Action': 's3:GetBucketAcl', 'Resource': 'arn:aws:s3:::cloudtrail-dsoaws-085964654406'}, {'Sid': 'AWSCloudTrailWrite20150319', 'Effect': 'Allow', 'Principal': {'Service': 'cloudtrail.amazonaws.com'}, 'Action': 's3:PutObject', 'Resource': 'arn:aws:s3:::cloudtrail-dsoaws-085964654406/AWSLogs/085964654406/*', 'Condition': {'StringEquals': {'s3:x-amz-acl': 'bucket-owner-full-control'}}}, {'Sid': 'AWSCloudTrailHTTPSOnly20180329', 'Effect': 'Deny', 'Principal': {'Service': 'cloudtrail.amazonaws.com'}, 'Action': 's3:*', 'Resource': ['arn:aws:s3:::cloudtrail-dsoaws-085964654406/AWSLogs/085964654406/*', 'arn:aws:s3:::cloudtrail-dsoaws-085964654406'], 'Condition': {'Bool': {'aws:SecureTransport': 'false'}}}]}\n"
     ]
    }
   ],
   "source": [
    "policy = {\n",
    "    \"Version\": \"2012-10-17\",\n",
    "    \"Statement\": [\n",
    "        {\n",
    "            \"Sid\": \"AWSCloudTrailAclCheck20150319\",\n",
    "            \"Effect\": \"Allow\",\n",
    "            \"Principal\": {\n",
    "                \"Service\": \"cloudtrail.amazonaws.com\"\n",
    "            },\n",
    "            \"Action\": \"s3:GetBucketAcl\",\n",
    "            \"Resource\": \"arn:aws:s3:::{}\".format(cloudtrail_bucket)\n",
    "        },\n",
    "        {\n",
    "            \"Sid\": \"AWSCloudTrailWrite20150319\",\n",
    "            \"Effect\": \"Allow\",\n",
    "            \"Principal\": {\n",
    "                \"Service\": \"cloudtrail.amazonaws.com\"\n",
    "            },\n",
    "            \"Action\": \"s3:PutObject\",\n",
    "            \"Resource\": \"arn:aws:s3:::{}/AWSLogs/{}/*\".format(cloudtrail_bucket, account_id),\n",
    "            \"Condition\": {\n",
    "                \"StringEquals\": {\n",
    "                    \"s3:x-amz-acl\": \"bucket-owner-full-control\"\n",
    "                }\n",
    "            }\n",
    "        },\n",
    "        {\n",
    "            \"Sid\": \"AWSCloudTrailHTTPSOnly20180329\",\n",
    "            \"Effect\": \"Deny\",\n",
    "            \"Principal\": {\n",
    "                \"Service\": \"cloudtrail.amazonaws.com\"\n",
    "            },\n",
    "            \"Action\": \"s3:*\",\n",
    "            \"Resource\": [\n",
    "                \"arn:aws:s3:::{}/AWSLogs/{}/*\".format(cloudtrail_bucket, account_id),\n",
    "                \"arn:aws:s3:::{}\".format(cloudtrail_bucket)\n",
    "            ],\n",
    "            \"Condition\": {\n",
    "                \"Bool\": {\n",
    "                    \"aws:SecureTransport\": \"false\"\n",
    "                }\n",
    "            }\n",
    "        }\n",
    "    ]\n",
    "}\n",
    "\n",
    "print(policy)"
   ]
  },
  {
   "cell_type": "code",
   "execution_count": 15,
   "metadata": {},
   "outputs": [],
   "source": [
    "policy_json = json.dumps(policy)"
   ]
  },
  {
   "cell_type": "code",
   "execution_count": 16,
   "metadata": {},
   "outputs": [],
   "source": [
    "with open(\"policy.json\", \"w\") as outfile: \n",
    "    json.dump(policy, outfile)"
   ]
  },
  {
   "cell_type": "code",
   "execution_count": 17,
   "metadata": {},
   "outputs": [
    {
     "name": "stdout",
     "output_type": "stream",
     "text": [
      "{\"Version\": \"2012-10-17\", \"Statement\": [{\"Sid\": \"AWSCloudTrailAclCheck20150319\", \"Effect\": \"Allow\", \"Principal\": {\"Service\": \"cloudtrail.amazonaws.com\"}, \"Action\": \"s3:GetBucketAcl\", \"Resource\": \"arn:aws:s3:::cloudtrail-dsoaws-085964654406\"}, {\"Sid\": \"AWSCloudTrailWrite20150319\", \"Effect\": \"Allow\", \"Principal\": {\"Service\": \"cloudtrail.amazonaws.com\"}, \"Action\": \"s3:PutObject\", \"Resource\": \"arn:aws:s3:::cloudtrail-dsoaws-085964654406/AWSLogs/085964654406/*\", \"Condition\": {\"StringEquals\": {\"s3:x-amz-acl\": \"bucket-owner-full-control\"}}}, {\"Sid\": \"AWSCloudTrailHTTPSOnly20180329\", \"Effect\": \"Deny\", \"Principal\": {\"Service\": \"cloudtrail.amazonaws.com\"}, \"Action\": \"s3:*\", \"Resource\": [\"arn:aws:s3:::cloudtrail-dsoaws-085964654406/AWSLogs/085964654406/*\", \"arn:aws:s3:::cloudtrail-dsoaws-085964654406\"], \"Condition\": {\"Bool\": {\"aws:SecureTransport\": \"false\"}}}]}"
     ]
    }
   ],
   "source": [
    "!cat policy.json"
   ]
  },
  {
   "cell_type": "code",
   "execution_count": 18,
   "metadata": {},
   "outputs": [],
   "source": [
    "!aws s3api put-bucket-policy --bucket $cloudtrail_bucket --policy file://policy.json"
   ]
  },
  {
   "cell_type": "markdown",
   "metadata": {},
   "source": [
    "# Create Cloud Trail"
   ]
  },
  {
   "cell_type": "code",
   "execution_count": 19,
   "metadata": {},
   "outputs": [],
   "source": [
    "cloudtrail = boto3.client('cloudtrail')\n",
    "s3 = boto3.client('s3')"
   ]
  },
  {
   "cell_type": "code",
   "execution_count": 20,
   "metadata": {},
   "outputs": [],
   "source": [
    "trails = cloudtrail.describe_trails()"
   ]
  },
  {
   "cell_type": "code",
   "execution_count": 21,
   "metadata": {},
   "outputs": [
    {
     "name": "stdout",
     "output_type": "stream",
     "text": [
      "{'trailList': [{'Name': 'EventEngineTrail', 'S3BucketName': 'event-engine-cloudtrail', 'IncludeGlobalServiceEvents': True, 'IsMultiRegionTrail': True, 'HomeRegion': 'us-east-1', 'TrailARN': 'arn:aws:cloudtrail:us-east-1:764081917971:trail/EventEngineTrail', 'LogFileValidationEnabled': True, 'HasCustomEventSelectors': False, 'HasInsightSelectors': False, 'IsOrganizationTrail': True}], 'ResponseMetadata': {'RequestId': '2978bd35-92d1-4271-807d-a40ebfdd5a4b', 'HTTPStatusCode': 200, 'HTTPHeaders': {'x-amzn-requestid': '2978bd35-92d1-4271-807d-a40ebfdd5a4b', 'content-type': 'application/x-amz-json-1.1', 'content-length': '366', 'date': 'Sat, 26 Sep 2020 21:20:29 GMT'}, 'RetryAttempts': 0}}\n"
     ]
    }
   ],
   "source": [
    "print(trails)"
   ]
  },
  {
   "cell_type": "code",
   "execution_count": 22,
   "metadata": {},
   "outputs": [
    {
     "name": "stdout",
     "output_type": "stream",
     "text": [
      "Cloud Trail created. Started logging.\n",
      "--------------------------------------\n",
      "New Trail name: dsoaws\n",
      "New Trail arn: arn:aws:cloudtrail:us-west-2:085964654406:trail/dsoaws\n"
     ]
    }
   ],
   "source": [
    "try:\n",
    "    t = cloudtrail.create_trail(Name='dsoaws', S3BucketName=cloudtrail_bucket, IsMultiRegionTrail=True)\n",
    "    trail_name = t['Name']\n",
    "    trail_arn = t['TrailARN']\n",
    "    cloudtrail.start_logging(Name=trail_arn)\n",
    "    print(\"Cloud Trail created. Started logging.\")\n",
    "    print('--------------------------------------')\n",
    "    print('New Trail name: {}'.format(trail_name))\n",
    "    print('New Trail arn: {}'.format(trail_arn))\n",
    "except ClientError as e:\n",
    "    if e.response['Error']['Code'] == 'TrailAlreadyExistsException':\n",
    "        print(\"Trail already exists. This is OK.\")\n",
    "        print('------------------')\n",
    "        t = cloudtrail.get_trail(Name='dsoaws')\n",
    "        trail_name = t['Trail']['Name']\n",
    "        trail_arn = t['Trail']['TrailARN']\n",
    "        print('Trail name: {}'.format(trail_name))\n",
    "        print('Trail arn: {}'.format(trail_arn))\n",
    "    else:\n",
    "        print(\"Unexpected error: %s\" % e)"
   ]
  },
  {
   "cell_type": "markdown",
   "metadata": {},
   "source": [
    "## Get Default EventBridge EventBus"
   ]
  },
  {
   "cell_type": "code",
   "execution_count": 23,
   "metadata": {},
   "outputs": [],
   "source": [
    "events = boto3.client('events')"
   ]
  },
  {
   "cell_type": "code",
   "execution_count": 24,
   "metadata": {},
   "outputs": [
    {
     "name": "stdout",
     "output_type": "stream",
     "text": [
      "Bus arn:aws:events:us-west-2:085964654406:event-bus/default\n"
     ]
    }
   ],
   "source": [
    "response = events.describe_event_bus(Name='default')\n",
    "eventbus_arn = response['Arn']\n",
    "print('Bus {}'.format(eventbus_arn))"
   ]
  },
  {
   "cell_type": "markdown",
   "metadata": {},
   "source": [
    "## Create Data Event Logging on CloudTrail for our S3 bucket"
   ]
  },
  {
   "cell_type": "code",
   "execution_count": 25,
   "metadata": {},
   "outputs": [
    {
     "name": "stdout",
     "output_type": "stream",
     "text": [
      "{\r\n",
      "    \"Trails\": [\r\n",
      "        {\r\n",
      "            \"TrailARN\": \"arn:aws:cloudtrail:us-east-1:764081917971:trail/EventEngineTrail\",\r\n",
      "            \"Name\": \"EventEngineTrail\",\r\n",
      "            \"HomeRegion\": \"us-east-1\"\r\n",
      "        },\r\n",
      "        {\r\n",
      "            \"TrailARN\": \"arn:aws:cloudtrail:us-west-2:085964654406:trail/dsoaws\",\r\n",
      "            \"Name\": \"dsoaws\",\r\n",
      "            \"HomeRegion\": \"us-west-2\"\r\n",
      "        }\r\n",
      "    ]\r\n",
      "}\r\n"
     ]
    }
   ],
   "source": [
    "!aws cloudtrail list-trails"
   ]
  },
  {
   "cell_type": "code",
   "execution_count": 26,
   "metadata": {},
   "outputs": [
    {
     "name": "stdout",
     "output_type": "stream",
     "text": [
      "{\r\n",
      "    \"TrailARN\": \"arn:aws:cloudtrail:us-west-2:085964654406:trail/dsoaws\",\r\n",
      "    \"EventSelectors\": [\r\n",
      "        {\r\n",
      "            \"ReadWriteType\": \"All\",\r\n",
      "            \"IncludeManagementEvents\": true,\r\n",
      "            \"DataResources\": [],\r\n",
      "            \"ExcludeManagementEventSources\": []\r\n",
      "        }\r\n",
      "    ]\r\n",
      "}\r\n"
     ]
    }
   ],
   "source": [
    "!aws cloudtrail get-event-selectors --trail-name $trail_name\n"
   ]
  },
  {
   "cell_type": "code",
   "execution_count": 27,
   "metadata": {},
   "outputs": [
    {
     "name": "stdout",
     "output_type": "stream",
     "text": [
      "arn:aws:s3:::dsoaws-test-upload-085964654406/\n"
     ]
    }
   ],
   "source": [
    "watched_bucket_arn = \"arn:aws:s3:::{}/\".format(watched_bucket)\n",
    "print(watched_bucket_arn)"
   ]
  },
  {
   "cell_type": "code",
   "execution_count": 28,
   "metadata": {},
   "outputs": [],
   "source": [
    "event_selector = '\\'[{ \"ReadWriteType\": \"WriteOnly\", \"IncludeManagementEvents\":true, \"DataResources\": [{ \"Type\": \"AWS::S3::Object\", \"Values\": [\"' + watched_bucket_arn + '\"] }] }]\\''\n"
   ]
  },
  {
   "cell_type": "code",
   "execution_count": 29,
   "metadata": {},
   "outputs": [
    {
     "name": "stdout",
     "output_type": "stream",
     "text": [
      "'[{ \"ReadWriteType\": \"WriteOnly\", \"IncludeManagementEvents\":true, \"DataResources\": [{ \"Type\": \"AWS::S3::Object\", \"Values\": [\"arn:aws:s3:::dsoaws-test-upload-085964654406/\"] }] }]'\n"
     ]
    }
   ],
   "source": [
    "print(event_selector)"
   ]
  },
  {
   "cell_type": "code",
   "execution_count": 30,
   "metadata": {},
   "outputs": [
    {
     "name": "stdout",
     "output_type": "stream",
     "text": [
      "{\r\n",
      "    \"TrailARN\": \"arn:aws:cloudtrail:us-west-2:085964654406:trail/dsoaws\",\r\n",
      "    \"EventSelectors\": [\r\n",
      "        {\r\n",
      "            \"ReadWriteType\": \"WriteOnly\",\r\n",
      "            \"IncludeManagementEvents\": true,\r\n",
      "            \"DataResources\": [\r\n",
      "                {\r\n",
      "                    \"Type\": \"AWS::S3::Object\",\r\n",
      "                    \"Values\": [\r\n",
      "                        \"arn:aws:s3:::dsoaws-test-upload-085964654406/\"\r\n",
      "                    ]\r\n",
      "                }\r\n",
      "            ],\r\n",
      "            \"ExcludeManagementEventSources\": []\r\n",
      "        }\r\n",
      "    ]\r\n",
      "}\r\n"
     ]
    }
   ],
   "source": [
    "!aws cloudtrail put-event-selectors --trail-name $trail_name --event-selectors $event_selector"
   ]
  },
  {
   "cell_type": "markdown",
   "metadata": {},
   "source": [
    "## Create Custom EventBridge Rule"
   ]
  },
  {
   "cell_type": "code",
   "execution_count": 31,
   "metadata": {},
   "outputs": [
    {
     "name": "stdout",
     "output_type": "stream",
     "text": [
      "{\"source\": [\"aws.s3\"], \"detail-type\": [\"AWS API Call via CloudTrail\"], \"detail\": {\"eventSource\": [\"s3.amazonaws.com\"], \"eventName\": [\"PutObject\", \"CompleteMultipartUpload\", \"CopyObject\"], \"requestParameters\": {\"bucketName\": [\"dsoaws-test-upload-085964654406\"]}}}\n"
     ]
    }
   ],
   "source": [
    "pattern = {\n",
    "  \"source\": [\n",
    "    \"aws.s3\"\n",
    "  ],\n",
    "  \"detail-type\": [\n",
    "    \"AWS API Call via CloudTrail\"\n",
    "  ],\n",
    "  \"detail\": {\n",
    "    \"eventSource\": [\n",
    "      \"s3.amazonaws.com\"\n",
    "    ],\n",
    "    \"eventName\": [\n",
    "      \"PutObject\",\n",
    "      \"CompleteMultipartUpload\",\n",
    "      \"CopyObject\"\n",
    "    ],\n",
    "    \"requestParameters\": {\n",
    "      \"bucketName\": [\n",
    "        \"{}\".format(watched_bucket)\n",
    "      ]\n",
    "    }\n",
    "  }\n",
    "}\n",
    "\n",
    "pattern_json = json.dumps(pattern)\n",
    "print(pattern_json)"
   ]
  },
  {
   "cell_type": "code",
   "execution_count": 32,
   "metadata": {},
   "outputs": [
    {
     "name": "stdout",
     "output_type": "stream",
     "text": [
      "{'RuleArn': 'arn:aws:events:us-west-2:085964654406:rule/S3-Trigger', 'ResponseMetadata': {'RequestId': '0fe30ab3-d453-4aca-97cd-509baa06cea7', 'HTTPStatusCode': 200, 'HTTPHeaders': {'x-amzn-requestid': '0fe30ab3-d453-4aca-97cd-509baa06cea7', 'content-type': 'application/x-amz-json-1.1', 'content-length': '67', 'date': 'Sat, 26 Sep 2020 21:20:34 GMT'}, 'RetryAttempts': 0}}\n"
     ]
    }
   ],
   "source": [
    "response = events.put_rule(\n",
    "    Name='S3-Trigger',\n",
    "    EventPattern=pattern_json,\n",
    "    State='ENABLED',\n",
    "    Description='Triggers an event on S3 PUT',\n",
    "    EventBusName='default'\n",
    ")\n",
    "print(response)"
   ]
  },
  {
   "cell_type": "code",
   "execution_count": 33,
   "metadata": {},
   "outputs": [
    {
     "name": "stdout",
     "output_type": "stream",
     "text": [
      "arn:aws:events:us-west-2:085964654406:rule/S3-Trigger\n"
     ]
    }
   ],
   "source": [
    "rule_arn = response['RuleArn']\n",
    "print(rule_arn)"
   ]
  },
  {
   "cell_type": "markdown",
   "metadata": {},
   "source": [
    "# Add Target"
   ]
  },
  {
   "cell_type": "markdown",
   "metadata": {},
   "source": [
    "## Create IAM Role"
   ]
  },
  {
   "cell_type": "code",
   "execution_count": 34,
   "metadata": {},
   "outputs": [],
   "source": [
    "iam = boto3.client('iam')"
   ]
  },
  {
   "cell_type": "code",
   "execution_count": 35,
   "metadata": {},
   "outputs": [],
   "source": [
    "iam_role_name_eventbridge = 'DSOAWS_EventBridge_Invoke_StepFunctions'"
   ]
  },
  {
   "cell_type": "markdown",
   "metadata": {},
   "source": [
    "### Create AssumeRolePolicyDocument"
   ]
  },
  {
   "cell_type": "code",
   "execution_count": 36,
   "metadata": {},
   "outputs": [],
   "source": [
    "assume_role_policy_doc = {\n",
    "  \"Version\": \"2012-10-17\",\n",
    "  \"Statement\": [\n",
    "    {\n",
    "      \"Effect\": \"Allow\",\n",
    "      \"Principal\": {\n",
    "        \"Service\": \"events.amazonaws.com\"\n",
    "      },\n",
    "      \"Action\": \"sts:AssumeRole\"\n",
    "    }\n",
    "  ]\n",
    "}"
   ]
  },
  {
   "cell_type": "code",
   "execution_count": 37,
   "metadata": {},
   "outputs": [],
   "source": [
    "try:\n",
    "    iam_role_eventbridge = iam.create_role(\n",
    "        RoleName=iam_role_name_eventbridge,\n",
    "        AssumeRolePolicyDocument=json.dumps(assume_role_policy_doc),\n",
    "        Description='DSOAWS EventBridge Role'\n",
    "    )\n",
    "except ClientError as e:\n",
    "    if e.response['Error']['Code'] == 'EntityAlreadyExists':\n",
    "        print(\"Role already exists\")\n",
    "    else:\n",
    "        print(\"Unexpected error: %s\" % e)"
   ]
  },
  {
   "cell_type": "markdown",
   "metadata": {},
   "source": [
    "### Get the Role ARN"
   ]
  },
  {
   "cell_type": "code",
   "execution_count": 38,
   "metadata": {},
   "outputs": [
    {
     "name": "stdout",
     "output_type": "stream",
     "text": [
      "arn:aws:iam::085964654406:role/DSOAWS_EventBridge_Invoke_StepFunctions\n"
     ]
    }
   ],
   "source": [
    "role_eventbridge = iam.get_role(RoleName=iam_role_name_eventbridge)\n",
    "iam_role_eventbridge_arn = role_eventbridge['Role']['Arn']\n",
    "print(iam_role_eventbridge_arn)"
   ]
  },
  {
   "cell_type": "markdown",
   "metadata": {},
   "source": [
    "# Define Eventbridge Policy"
   ]
  },
  {
   "cell_type": "code",
   "execution_count": 39,
   "metadata": {},
   "outputs": [
    {
     "name": "stdout",
     "output_type": "stream",
     "text": [
      "{'Version': '2012-10-17', 'Statement': [{'Sid': 'VisualEditor0', 'Effect': 'Allow', 'Action': 'states:StartExecution', 'Resource': '*'}]}\n"
     ]
    }
   ],
   "source": [
    "eventbridge_sfn_policy = {\n",
    "    \"Version\": \"2012-10-17\",\n",
    "    \"Statement\": [\n",
    "        {\n",
    "            \"Sid\": \"VisualEditor0\",\n",
    "            \"Effect\": \"Allow\",\n",
    "            \"Action\": \"states:StartExecution\",\n",
    "            \"Resource\": \"*\"\n",
    "        }\n",
    "    ]\n",
    "}\n",
    "\n",
    "print(eventbridge_sfn_policy)"
   ]
  },
  {
   "cell_type": "markdown",
   "metadata": {},
   "source": [
    "# Create Policy Object"
   ]
  },
  {
   "cell_type": "code",
   "execution_count": 40,
   "metadata": {},
   "outputs": [
    {
     "name": "stdout",
     "output_type": "stream",
     "text": [
      "Done.\n"
     ]
    }
   ],
   "source": [
    "try:\n",
    "    policy_eventbridge_sfn = iam.create_policy(\n",
    "      PolicyName='DSOAWS_EventBridgeInvokeStepFunction',\n",
    "      PolicyDocument=json.dumps(eventbridge_sfn_policy)\n",
    "    )\n",
    "    print(\"Done.\")\n",
    "except ClientError as e:\n",
    "    if e.response['Error']['Code'] == 'EntityAlreadyExists':\n",
    "        print(\"Policy already exists\")\n",
    "        policy_eventbridge_sfn_arn = f'arn:aws:iam::{account_id}:policy/DSOAWS_EventBridgeInvokeStepFunction'\n",
    "        iam.create_policy_version(\n",
    "            PolicyArn=policy_eventbridge_sfn_arn,\n",
    "            PolicyDocument=json.dumps(eventbridge_sfn_policy),\n",
    "            SetAsDefault=True)\n",
    "        print(\"Policy updated.\")\n",
    "    else:\n",
    "        print(\"Unexpected error: %s\" % e)"
   ]
  },
  {
   "cell_type": "markdown",
   "metadata": {},
   "source": [
    "# Get ARN"
   ]
  },
  {
   "cell_type": "code",
   "execution_count": 41,
   "metadata": {},
   "outputs": [
    {
     "name": "stdout",
     "output_type": "stream",
     "text": [
      "arn:aws:iam::085964654406:policy/DSOAWS_EventBridgeInvokeStepFunction\n"
     ]
    }
   ],
   "source": [
    "policy_eventbridge_sfn_arn = f'arn:aws:iam::{account_id}:policy/DSOAWS_EventBridgeInvokeStepFunction'\n",
    "print(policy_eventbridge_sfn_arn)"
   ]
  },
  {
   "cell_type": "markdown",
   "metadata": {},
   "source": [
    "# Attach Policy To Role"
   ]
  },
  {
   "cell_type": "code",
   "execution_count": 42,
   "metadata": {},
   "outputs": [
    {
     "name": "stdout",
     "output_type": "stream",
     "text": [
      "Done.\n"
     ]
    }
   ],
   "source": [
    "try:\n",
    "    response = iam.attach_role_policy(\n",
    "        PolicyArn=policy_eventbridge_sfn_arn,\n",
    "        RoleName=iam_role_name_eventbridge\n",
    "    )\n",
    "    print(\"Done.\")\n",
    "except ClientError as e:\n",
    "    if e.response['Error']['Code'] == 'EntityAlreadyExists':\n",
    "        print(\"Policy is already attached. This is ok.\")\n",
    "    else:\n",
    "        print(\"Unexpected error: %s\" % e)"
   ]
  },
  {
   "cell_type": "markdown",
   "metadata": {},
   "source": [
    "# Setup EventBridge Rule Target"
   ]
  },
  {
   "cell_type": "code",
   "execution_count": 43,
   "metadata": {},
   "outputs": [],
   "source": [
    "sfn = boto3.client('stepfunctions')"
   ]
  },
  {
   "cell_type": "markdown",
   "metadata": {},
   "source": [
    "# Define Model Pipeline Inputs"
   ]
  },
  {
   "cell_type": "code",
   "execution_count": 44,
   "metadata": {},
   "outputs": [
    {
     "name": "stdout",
     "output_type": "stream",
     "text": [
      "run-1601155236\n"
     ]
    }
   ],
   "source": [
    "import time\n",
    "timestamp = int(time.time())\n",
    "\n",
    "execution_name = 'run-{}'.format(timestamp)\n",
    "print(execution_name)"
   ]
  },
  {
   "cell_type": "markdown",
   "metadata": {},
   "source": [
    "# Specify the Raw Inputs S3 Location\n",
    "TODO:  Change this to the watched input location"
   ]
  },
  {
   "cell_type": "code",
   "execution_count": 45,
   "metadata": {},
   "outputs": [
    {
     "name": "stdout",
     "output_type": "stream",
     "text": [
      "s3://sagemaker-us-west-2-085964654406/amazon-reviews-pds/tsv/\n"
     ]
    }
   ],
   "source": [
    "raw_input_data_s3_uri = 's3://{}/amazon-reviews-pds/tsv/'.format(bucket)\n",
    "print(raw_input_data_s3_uri)"
   ]
  },
  {
   "cell_type": "markdown",
   "metadata": {},
   "source": [
    "# Set the Processing Hyper-Parameters"
   ]
  },
  {
   "cell_type": "code",
   "execution_count": 46,
   "metadata": {},
   "outputs": [],
   "source": [
    "max_seq_length=64\n",
    "train_split_percentage=0.90\n",
    "validation_split_percentage=0.05\n",
    "test_split_percentage=0.05\n",
    "balance_dataset=True\n",
    "processing_instance_count=2\n",
    "processing_instance_type='ml.c5.2xlarge'"
   ]
  },
  {
   "cell_type": "markdown",
   "metadata": {},
   "source": [
    "# Setup Training Hyper-Parameters"
   ]
  },
  {
   "cell_type": "code",
   "execution_count": 47,
   "metadata": {},
   "outputs": [],
   "source": [
    "epochs=1\n",
    "learning_rate=0.00001\n",
    "epsilon=0.00000001\n",
    "train_batch_size=128\n",
    "validation_batch_size=128\n",
    "test_batch_size=128\n",
    "train_steps_per_epoch=100\n",
    "validation_steps=100\n",
    "test_steps=100\n",
    "train_instance_count=1\n",
    "train_instance_type='ml.c5.9xlarge'\n",
    "train_volume_size=1024\n",
    "use_xla=True\n",
    "use_amp=True\n",
    "freeze_bert_layer=False\n",
    "enable_sagemaker_debugger=False\n",
    "enable_checkpointing=False\n",
    "enable_tensorboard=False\n",
    "input_mode='Pipe'\n",
    "run_validation=True\n",
    "run_test=True\n",
    "run_sample_predictions=True\n",
    "deploy_instance_count=1\n",
    "deploy_instance_type='ml.m5.4xlarge'\n",
    "#deploy_instance_type='ml.m5.large'"
   ]
  },
  {
   "cell_type": "markdown",
   "metadata": {},
   "source": [
    "Note:  Below, we are re-using the `sourcedir.tar.gz` (contains `tf_bert_reviews.py`) uploaded during a previous notebook's `sagemaker.estimator.TensorFlow.fit()` invocation.  We could manually copy the source to an S3 location and use this for the location of the `sourcedir.tar.gz`, but we choose to re-use for now."
   ]
  },
  {
   "cell_type": "code",
   "execution_count": 48,
   "metadata": {},
   "outputs": [],
   "source": [
    "%store -r processing_code_s3_prefix"
   ]
  },
  {
   "cell_type": "code",
   "execution_count": 49,
   "metadata": {},
   "outputs": [
    {
     "name": "stdout",
     "output_type": "stream",
     "text": [
      "pipeline_sklearn_processing/1601151884/code\n"
     ]
    }
   ],
   "source": [
    "print(processing_code_s3_prefix)"
   ]
  },
  {
   "cell_type": "markdown",
   "metadata": {},
   "source": [
    "## Find the AWS ECR account which hosts the scikit-learn docker image"
   ]
  },
  {
   "cell_type": "code",
   "execution_count": 50,
   "metadata": {},
   "outputs": [],
   "source": [
    "# You find the regional AWS ECR account IDs storing the docker images here: \n",
    "# https://docs.aws.amazon.com/sagemaker/latest/dg/pre-built-docker-containers-frameworks.html\n",
    "account_id_scikit_learn_image_us_east_1 = '683313688378'\n",
    "account_id_scikit_learn_image_us_west_2 = '246618743249'"
   ]
  },
  {
   "cell_type": "code",
   "execution_count": 51,
   "metadata": {},
   "outputs": [],
   "source": [
    "account_id_scikit_learn_image = ''\n",
    "if region == 'us-east-1':\n",
    "    account_id_scikit_learn_image = account_id_scikit_learn_image_us_east_1\n",
    "elif region == 'us-west-2':\n",
    "    account_id_scikit_learn_image = account_id_scikit_learn_image_us_west_2\n",
    "else:\n",
    "    print('Please look up the correct AWS ECR Account ID per Link above.')"
   ]
  },
  {
   "cell_type": "code",
   "execution_count": 52,
   "metadata": {},
   "outputs": [
    {
     "name": "stdout",
     "output_type": "stream",
     "text": [
      "246618743249\n"
     ]
    }
   ],
   "source": [
    "print(account_id_scikit_learn_image)"
   ]
  },
  {
   "cell_type": "code",
   "execution_count": 53,
   "metadata": {},
   "outputs": [],
   "source": [
    "inputs = {\n",
    "   \"Processing Job\": {\n",
    "     \"ProcessingJobName\": \"training-pipeline-{}\".format(execution_name), \n",
    "     \"ProcessingInputs\": [\n",
    "       {\n",
    "         \"InputName\": \"raw_input\",\n",
    "         \"S3Input\": {\n",
    "# TODO:  Change to watched_bucket + watched_s3_prefix             \n",
    "#           \"S3Uri\": \"s3://{}/{}/\".format(watched_bucket, watched_s3_prefix),\n",
    "           \"S3Uri\": \"{}\".format(raw_input_data_s3_uri),             \n",
    "           \"LocalPath\": \"/opt/ml/processing/input/data/\",\n",
    "           \"S3DataType\": \"S3Prefix\",\n",
    "           \"S3InputMode\": \"File\",\n",
    "           \"S3DataDistributionType\": \"ShardedByS3Key\",\n",
    "           \"S3CompressionType\": \"None\"\n",
    "         }\n",
    "       },\n",
    "       {\n",
    "         \"InputName\": \"code\",\n",
    "         \"S3Input\": {\n",
    "           \"S3Uri\": \"s3://{}/{}/preprocess-scikit-text-to-bert.py\".format(bucket, processing_code_s3_prefix),\n",
    "           \"LocalPath\": \"/opt/ml/processing/input/code\",\n",
    "           \"S3DataType\": \"S3Prefix\",\n",
    "           \"S3InputMode\": \"File\",\n",
    "           \"S3DataDistributionType\": \"FullyReplicated\",\n",
    "           \"S3CompressionType\": \"None\"\n",
    "         }\n",
    "       }\n",
    "     ],\n",
    "     \"ProcessingOutputConfig\": {\n",
    "       \"Outputs\": [\n",
    "        {\n",
    "          \"OutputName\": \"bert-train\",\n",
    "          \"S3Output\": {\n",
    "            \"S3Uri\": \"s3://{}/{}/processing/output/bert-train\".format(bucket, execution_name),\n",
    "            \"LocalPath\": \"/opt/ml/processing/output/bert/train\",\n",
    "            \"S3UploadMode\": \"EndOfJob\"\n",
    "          }\n",
    "        },\n",
    "        {\n",
    "          \"OutputName\": \"bert-validation\",\n",
    "          \"S3Output\": {\n",
    "            \"S3Uri\": \"s3://{}/{}/processing/output/bert-validation\".format(bucket, execution_name),\n",
    "            \"LocalPath\": \"/opt/ml/processing/output/bert/validation\",\n",
    "            \"S3UploadMode\": \"EndOfJob\"\n",
    "          }\n",
    "        },\n",
    "        {\n",
    "          \"OutputName\": \"bert-test\",\n",
    "          \"S3Output\": {\n",
    "            \"S3Uri\": \"s3://{}/{}/processing/output/bert-test\".format(bucket, execution_name),\n",
    "            \"LocalPath\": \"/opt/ml/processing/output/bert/test\",\n",
    "            \"S3UploadMode\": \"EndOfJob\"\n",
    "          }\n",
    "        }\n",
    "      ]\n",
    "     },\n",
    "     \"AppSpecification\": {\n",
    "       \"ImageUri\": \"{}.dkr.ecr.{}.amazonaws.com/sagemaker-scikit-learn:0.23-1-cpu-py3\".format(account_id_scikit_learn_image, region),\n",
    "       \"ContainerArguments\": [\n",
    "         \"--train-split-percentage\",\n",
    "         \"{}\".format(train_split_percentage),\n",
    "        \"--validation-split-percentage\",\n",
    "        \"{}\".format(validation_split_percentage),\n",
    "        \"--test-split-percentage\",\n",
    "        \"{}\".format(test_split_percentage),\n",
    "        \"--max-seq-length\",\n",
    "        \"{}\".format(max_seq_length),\n",
    "        \"--balance-dataset\",\n",
    "        \"{}\".format(balance_dataset)\n",
    "      ],\n",
    "      \"ContainerEntrypoint\": [\n",
    "        \"python3\",\n",
    "        \"/opt/ml/processing/input/code/preprocess-scikit-text-to-bert.py\"\n",
    "      ]\n",
    "    },\n",
    "    \"RoleArn\": \"{}\".format(role),\n",
    "     \"ProcessingResources\": {\n",
    "       \"ClusterConfig\": {\n",
    "         \"InstanceCount\": processing_instance_count,\n",
    "         \"InstanceType\": \"{}\".format(processing_instance_type),\n",
    "         \"VolumeSizeInGB\": 30\n",
    "       }\n",
    "     },\n",
    "     \"StoppingCondition\": {\n",
    "       \"MaxRuntimeInSeconds\": 7200\n",
    "     }\n",
    "   },    \n",
    "  \"Training\": {\n",
    "    \"AlgorithmSpecification\": {\n",
    "      \"TrainingImage\": \"763104351884.dkr.ecr.{}.amazonaws.com/tensorflow-training:2.1.0-cpu-py36-ubuntu18.04\".format(region),\n",
    "      \"TrainingInputMode\": \"{}\".format(input_mode)\n",
    "    },\n",
    "    \"OutputDataConfig\": {\n",
    "      \"S3OutputPath\": \"s3://{}/training-pipeline-{}/models\".format(bucket, execution_name)\n",
    "    },\n",
    "    \"StoppingCondition\": {\n",
    "      \"MaxRuntimeInSeconds\": 7200\n",
    "    },\n",
    "    \"ResourceConfig\": {\n",
    "      \"InstanceCount\": train_instance_count,\n",
    "      \"InstanceType\": \"{}\".format(train_instance_type),\n",
    "      \"VolumeSizeInGB\": train_volume_size\n",
    "    },\n",
    "    \"RoleArn\": \"{}\".format(role),\n",
    "    \"InputDataConfig\": [\n",
    "      {\n",
    "        \"DataSource\": {\n",
    "          \"S3DataSource\": {\n",
    "            \"S3DataType\": \"S3Prefix\",\n",
    "            \"S3Uri\": \"s3://{}/{}/processing/output/bert-train\".format(bucket, execution_name),\n",
    "            \"S3DataDistributionType\": \"ShardedByS3Key\"\n",
    "          }\n",
    "        },\n",
    "        \"ChannelName\": \"train\"\n",
    "      },\n",
    "      {\n",
    "        \"DataSource\": {\n",
    "          \"S3DataSource\": {\n",
    "            \"S3DataType\": \"S3Prefix\",\n",
    "            \"S3Uri\": \"s3://{}/{}/processing/output/bert-validation\".format(bucket, execution_name),\n",
    "            \"S3DataDistributionType\": \"ShardedByS3Key\"\n",
    "          }\n",
    "        },\n",
    "        \"ChannelName\": \"validation\"\n",
    "      },\n",
    "      {\n",
    "        \"DataSource\": {\n",
    "          \"S3DataSource\": {\n",
    "            \"S3DataType\": \"S3Prefix\",\n",
    "            \"S3Uri\": \"s3://{}/{}/processing/output/bert-test\".format(bucket, execution_name),\n",
    "            \"S3DataDistributionType\": \"ShardedByS3Key\"\n",
    "          }\n",
    "        },\n",
    "        \"ChannelName\": \"test\"\n",
    "      }\n",
    "    ],\n",
    "    \"HyperParameters\": {\n",
    "      \"epochs\": \"{}\".format(epochs),\n",
    "      \"learning_rate\": \"{}\".format(learning_rate),\n",
    "      \"epsilon\": \"{}\".format(epsilon),\n",
    "      \"train_batch_size\": \"{}\".format(train_batch_size),\n",
    "      \"validation_batch_size\": \"{}\".format(validation_batch_size),\n",
    "      \"test_batch_size\": \"{}\".format(test_batch_size),\n",
    "      \"train_steps_per_epoch\": \"{}\".format(train_steps_per_epoch),\n",
    "      \"validation_steps\": \"{}\".format(validation_steps),\n",
    "      \"test_steps\": \"{}\".format(test_steps),\n",
    "      \"use_xla\": \"{}\".format(str(use_xla).lower()),\n",
    "      \"use_amp\": \"{}\".format(str(use_amp).lower()),\n",
    "      \"max_seq_length\": \"{}\".format(max_seq_length),\n",
    "      \"freeze_bert_layer\": \"{}\".format(str(freeze_bert_layer).lower()),\n",
    "      \"enable_sagemaker_debugger\": \"{}\".format(str(enable_sagemaker_debugger).lower()),\n",
    "      \"enable_checkpointing\": \"{}\".format(str(enable_checkpointing).lower()),\n",
    "      \"enable_tensorboard\": \"{}\".format(str(enable_tensorboard).lower()),\n",
    "      \"run_validation\": \"{}\".format(str(run_validation).lower()),\n",
    "      \"run_test\": \"{}\".format(str(run_test).lower()),\n",
    "      \"run_sample_predictions\": \"{}\".format(str(run_sample_predictions).lower()),\n",
    "      \"sagemaker_submit_directory\": \"\\\"s3://{}/{}/estimator-source/source/sourcedir.tar.gz\\\"\".format(bucket, stepfunction_name),\n",
    "      \"sagemaker_program\": \"\\\"tf_bert_reviews.py\\\"\",\n",
    "      \"sagemaker_enable_cloudwatch_metrics\": \"false\",\n",
    "      \"sagemaker_container_log_level\": \"20\",\n",
    "      \"sagemaker_job_name\": \"\\\"training-pipeline-{}/estimator-source\\\"\".format(execution_name),\n",
    "      \"sagemaker_region\": \"\\\"{}\\\"\".format(region),\n",
    "      \"model_dir\": \"\\\"s3://{}/training-pipeline-{}/estimator-source/model\\\"\".format(bucket, execution_name)\n",
    "    },  \n",
    "    \"TrainingJobName\": \"estimator-training-pipeline-{}\".format(execution_name),\n",
    "    \"DebugHookConfig\": {\n",
    "      \"S3OutputPath\": \"s3://{}/\".format(bucket)\n",
    "    }\n",
    "  },\n",
    "  \"Create Model\": {\n",
    "    \"ModelName\": \"training-pipeline-{}\".format(execution_name),\n",
    "    \"PrimaryContainer\": {\n",
    "      \"Image\": \"763104351884.dkr.ecr.{}.amazonaws.com/tensorflow-inference:2.1.0-cpu-py36-ubuntu18.04\".format(region),\n",
    "      \"Environment\": {\n",
    "        \"SAGEMAKER_PROGRAM\": \"null\",\n",
    "        \"SAGEMAKER_SUBMIT_DIRECTORY\": \"null\",\n",
    "        \"SAGEMAKER_ENABLE_CLOUDWATCH_METRICS\": \"false\",\n",
    "        \"SAGEMAKER_CONTAINER_LOG_LEVEL\": \"20\",\n",
    "        \"SAGEMAKER_REGION\": \"{}\".format(region)\n",
    "      },\n",
    "      \"ModelDataUrl\": \"s3://{}/training-pipeline-{}/models/estimator-training-pipeline-{}/output/model.tar.gz\".format(bucket, execution_name, execution_name)\n",
    "    },\n",
    "    \"ExecutionRoleArn\": \"{}\".format(role)\n",
    "  },\n",
    "  \"Configure Endpoint\": {\n",
    "    \"EndpointConfigName\": \"training-pipeline-{}\".format(execution_name),\n",
    "    \"ProductionVariants\": [\n",
    "      {\n",
    "        \"InitialInstanceCount\": deploy_instance_count,\n",
    "        \"InstanceType\": \"{}\".format(deploy_instance_type),\n",
    "        \"ModelName\": \"training-pipeline-{}\".format(execution_name),\n",
    "        \"VariantName\": \"AllTraffic\"\n",
    "      }\n",
    "    ]\n",
    "  },\n",
    "  \"Deploy\": {\n",
    "    \"EndpointConfigName\": \"training-pipeline-{}\".format(execution_name),\n",
    "    \"EndpointName\": \"training-pipeline-{}\".format(execution_name)\n",
    "  }\n",
    "}"
   ]
  },
  {
   "cell_type": "code",
   "execution_count": 54,
   "metadata": {},
   "outputs": [
    {
     "name": "stdout",
     "output_type": "stream",
     "text": [
      "{\"Processing Job\": {\"ProcessingJobName\": \"training-pipeline-run-1601155236\", \"ProcessingInputs\": [{\"InputName\": \"raw_input\", \"S3Input\": {\"S3Uri\": \"s3://sagemaker-us-west-2-085964654406/amazon-reviews-pds/tsv/\", \"LocalPath\": \"/opt/ml/processing/input/data/\", \"S3DataType\": \"S3Prefix\", \"S3InputMode\": \"File\", \"S3DataDistributionType\": \"ShardedByS3Key\", \"S3CompressionType\": \"None\"}}, {\"InputName\": \"code\", \"S3Input\": {\"S3Uri\": \"s3://sagemaker-us-west-2-085964654406/pipeline_sklearn_processing/1601151884/code/preprocess-scikit-text-to-bert.py\", \"LocalPath\": \"/opt/ml/processing/input/code\", \"S3DataType\": \"S3Prefix\", \"S3InputMode\": \"File\", \"S3DataDistributionType\": \"FullyReplicated\", \"S3CompressionType\": \"None\"}}], \"ProcessingOutputConfig\": {\"Outputs\": [{\"OutputName\": \"bert-train\", \"S3Output\": {\"S3Uri\": \"s3://sagemaker-us-west-2-085964654406/run-1601155236/processing/output/bert-train\", \"LocalPath\": \"/opt/ml/processing/output/bert/train\", \"S3UploadMode\": \"EndOfJob\"}}, {\"OutputName\": \"bert-validation\", \"S3Output\": {\"S3Uri\": \"s3://sagemaker-us-west-2-085964654406/run-1601155236/processing/output/bert-validation\", \"LocalPath\": \"/opt/ml/processing/output/bert/validation\", \"S3UploadMode\": \"EndOfJob\"}}, {\"OutputName\": \"bert-test\", \"S3Output\": {\"S3Uri\": \"s3://sagemaker-us-west-2-085964654406/run-1601155236/processing/output/bert-test\", \"LocalPath\": \"/opt/ml/processing/output/bert/test\", \"S3UploadMode\": \"EndOfJob\"}}]}, \"AppSpecification\": {\"ImageUri\": \"246618743249.dkr.ecr.us-west-2.amazonaws.com/sagemaker-scikit-learn:0.23-1-cpu-py3\", \"ContainerArguments\": [\"--train-split-percentage\", \"0.9\", \"--validation-split-percentage\", \"0.05\", \"--test-split-percentage\", \"0.05\", \"--max-seq-length\", \"64\", \"--balance-dataset\", \"True\"], \"ContainerEntrypoint\": [\"python3\", \"/opt/ml/processing/input/code/preprocess-scikit-text-to-bert.py\"]}, \"RoleArn\": \"arn:aws:iam::085964654406:role/TeamRole\", \"ProcessingResources\": {\"ClusterConfig\": {\"InstanceCount\": 2, \"InstanceType\": \"ml.c5.2xlarge\", \"VolumeSizeInGB\": 30}}, \"StoppingCondition\": {\"MaxRuntimeInSeconds\": 7200}}, \"Training\": {\"AlgorithmSpecification\": {\"TrainingImage\": \"763104351884.dkr.ecr.us-west-2.amazonaws.com/tensorflow-training:2.1.0-cpu-py36-ubuntu18.04\", \"TrainingInputMode\": \"Pipe\"}, \"OutputDataConfig\": {\"S3OutputPath\": \"s3://sagemaker-us-west-2-085964654406/training-pipeline-run-1601155236/models\"}, \"StoppingCondition\": {\"MaxRuntimeInSeconds\": 7200}, \"ResourceConfig\": {\"InstanceCount\": 1, \"InstanceType\": \"ml.c5.9xlarge\", \"VolumeSizeInGB\": 1024}, \"RoleArn\": \"arn:aws:iam::085964654406:role/TeamRole\", \"InputDataConfig\": [{\"DataSource\": {\"S3DataSource\": {\"S3DataType\": \"S3Prefix\", \"S3Uri\": \"s3://sagemaker-us-west-2-085964654406/run-1601155236/processing/output/bert-train\", \"S3DataDistributionType\": \"ShardedByS3Key\"}}, \"ChannelName\": \"train\"}, {\"DataSource\": {\"S3DataSource\": {\"S3DataType\": \"S3Prefix\", \"S3Uri\": \"s3://sagemaker-us-west-2-085964654406/run-1601155236/processing/output/bert-validation\", \"S3DataDistributionType\": \"ShardedByS3Key\"}}, \"ChannelName\": \"validation\"}, {\"DataSource\": {\"S3DataSource\": {\"S3DataType\": \"S3Prefix\", \"S3Uri\": \"s3://sagemaker-us-west-2-085964654406/run-1601155236/processing/output/bert-test\", \"S3DataDistributionType\": \"ShardedByS3Key\"}}, \"ChannelName\": \"test\"}], \"HyperParameters\": {\"epochs\": \"1\", \"learning_rate\": \"1e-05\", \"epsilon\": \"1e-08\", \"train_batch_size\": \"128\", \"validation_batch_size\": \"128\", \"test_batch_size\": \"128\", \"train_steps_per_epoch\": \"100\", \"validation_steps\": \"100\", \"test_steps\": \"100\", \"use_xla\": \"true\", \"use_amp\": \"true\", \"max_seq_length\": \"64\", \"freeze_bert_layer\": \"false\", \"enable_sagemaker_debugger\": \"false\", \"enable_checkpointing\": \"false\", \"enable_tensorboard\": \"false\", \"run_validation\": \"true\", \"run_test\": \"true\", \"run_sample_predictions\": \"true\", \"sagemaker_submit_directory\": \"\\\"s3://sagemaker-us-west-2-085964654406/training-pipeline-2020-09-26-20-24-49/estimator-source/source/sourcedir.tar.gz\\\"\", \"sagemaker_program\": \"\\\"tf_bert_reviews.py\\\"\", \"sagemaker_enable_cloudwatch_metrics\": \"false\", \"sagemaker_container_log_level\": \"20\", \"sagemaker_job_name\": \"\\\"training-pipeline-run-1601155236/estimator-source\\\"\", \"sagemaker_region\": \"\\\"us-west-2\\\"\", \"model_dir\": \"\\\"s3://sagemaker-us-west-2-085964654406/training-pipeline-run-1601155236/estimator-source/model\\\"\"}, \"TrainingJobName\": \"estimator-training-pipeline-run-1601155236\", \"DebugHookConfig\": {\"S3OutputPath\": \"s3://sagemaker-us-west-2-085964654406/\"}}, \"Create Model\": {\"ModelName\": \"training-pipeline-run-1601155236\", \"PrimaryContainer\": {\"Image\": \"763104351884.dkr.ecr.us-west-2.amazonaws.com/tensorflow-inference:2.1.0-cpu-py36-ubuntu18.04\", \"Environment\": {\"SAGEMAKER_PROGRAM\": \"null\", \"SAGEMAKER_SUBMIT_DIRECTORY\": \"null\", \"SAGEMAKER_ENABLE_CLOUDWATCH_METRICS\": \"false\", \"SAGEMAKER_CONTAINER_LOG_LEVEL\": \"20\", \"SAGEMAKER_REGION\": \"us-west-2\"}, \"ModelDataUrl\": \"s3://sagemaker-us-west-2-085964654406/training-pipeline-run-1601155236/models/estimator-training-pipeline-run-1601155236/output/model.tar.gz\"}, \"ExecutionRoleArn\": \"arn:aws:iam::085964654406:role/TeamRole\"}, \"Configure Endpoint\": {\"EndpointConfigName\": \"training-pipeline-run-1601155236\", \"ProductionVariants\": [{\"InitialInstanceCount\": 1, \"InstanceType\": \"ml.m5.4xlarge\", \"ModelName\": \"training-pipeline-run-1601155236\", \"VariantName\": \"AllTraffic\"}]}, \"Deploy\": {\"EndpointConfigName\": \"training-pipeline-run-1601155236\", \"EndpointName\": \"training-pipeline-run-1601155236\"}}\n"
     ]
    }
   ],
   "source": [
    "inputs_json = json.dumps(inputs)\n",
    "\n",
    "print(inputs_json)"
   ]
  },
  {
   "cell_type": "markdown",
   "metadata": {},
   "source": [
    "## Create EventBridge Rule Target"
   ]
  },
  {
   "cell_type": "code",
   "execution_count": 55,
   "metadata": {},
   "outputs": [],
   "source": [
    "# Check for exsting targets\n",
    "targets = events.list_targets_by_rule(\n",
    "    Rule='S3-Trigger',\n",
    "    EventBusName='default'\n",
    ")"
   ]
  },
  {
   "cell_type": "code",
   "execution_count": 56,
   "metadata": {},
   "outputs": [
    {
     "name": "stdout",
     "output_type": "stream",
     "text": [
      "No targets defined yet.\n"
     ]
    }
   ],
   "source": [
    "number_targets = len(targets['Targets'])\n",
    "\n",
    "if number_targets > 0:\n",
    "    for target in targets['Targets']:\n",
    "        print(target['Id'])\n",
    "        events.remove_targets(\n",
    "            Rule='S3-Trigger',\n",
    "            EventBusName='default',\n",
    "            Ids=[target['Id']],\n",
    "        Force=True\n",
    ")\n",
    "    print(\"Target: \" +target['Id']+ \" removed.\")\n",
    "else:\n",
    "    print(\"No targets defined yet.\")"
   ]
  },
  {
   "cell_type": "code",
   "execution_count": 57,
   "metadata": {},
   "outputs": [],
   "source": [
    "import uuid\n",
    "\n",
    "target_id = str(uuid.uuid4())\n",
    "\n",
    "response = events.put_targets(\n",
    "    Rule='S3-Trigger',\n",
    "    EventBusName='default',\n",
    "    Targets=[\n",
    "        {\n",
    "            'Id': target_id,\n",
    "            'Arn': stepfunction_arn,\n",
    "            'RoleArn': iam_role_eventbridge_arn,\n",
    "            'Input': inputs_json\n",
    "        }\n",
    "    ]\n",
    ")"
   ]
  },
  {
   "cell_type": "code",
   "execution_count": 58,
   "metadata": {},
   "outputs": [
    {
     "name": "stdout",
     "output_type": "stream",
     "text": [
      "{'FailedEntryCount': 0, 'FailedEntries': [], 'ResponseMetadata': {'RequestId': '67d1a144-1447-43f3-ba00-b7f2c3a99d11', 'HTTPStatusCode': 200, 'HTTPHeaders': {'x-amzn-requestid': '67d1a144-1447-43f3-ba00-b7f2c3a99d11', 'content-type': 'application/x-amz-json-1.1', 'content-length': '41', 'date': 'Sat, 26 Sep 2020 21:20:35 GMT'}, 'RetryAttempts': 0}}\n"
     ]
    }
   ],
   "source": [
    "print(response)"
   ]
  },
  {
   "cell_type": "markdown",
   "metadata": {},
   "source": [
    "# Check Number of StepFunction Invocations **Before** the S3 Trigger"
   ]
  },
  {
   "cell_type": "code",
   "execution_count": 59,
   "metadata": {},
   "outputs": [
    {
     "name": "stdout",
     "output_type": "stream",
     "text": [
      "1\n"
     ]
    }
   ],
   "source": [
    "execution_list_before_uploading = sfn.list_executions(stateMachineArn=stepfunction_arn)\n",
    "\n",
    "number_of_executions_before_uploading = len(execution_list_before_uploading['executions'])\n",
    "\n",
    "print(number_of_executions_before_uploading)"
   ]
  },
  {
   "cell_type": "markdown",
   "metadata": {},
   "source": [
    "# Upload to S3 and Trigger a StepFunction Invocation"
   ]
  },
  {
   "cell_type": "code",
   "execution_count": 60,
   "metadata": {},
   "outputs": [],
   "source": [
    "import time\n",
    "time.sleep(15)"
   ]
  },
  {
   "cell_type": "code",
   "execution_count": 61,
   "metadata": {},
   "outputs": [
    {
     "name": "stdout",
     "output_type": "stream",
     "text": [
      "Uploading training data to \"s3://dsoaws-test-upload-085964654406/watched_input/\" to trigger a new training pipeline.\n"
     ]
    }
   ],
   "source": [
    "watched_s3_uri = 's3://{}/watched_input/'.format(watched_bucket)\n",
    "\n",
    "print('Uploading training data to \"{}\" to trigger a new training pipeline.'.format(watched_s3_uri))"
   ]
  },
  {
   "cell_type": "code",
   "execution_count": 62,
   "metadata": {},
   "outputs": [
    {
     "name": "stdout",
     "output_type": "stream",
     "text": [
      "Completed 10.5 KiB/10.5 KiB (105.5 KiB/s) with 1 file(s) remaining\r",
      "upload: data-tfrecord/bert-train/part-algo-1-amazon_reviews_us_Digital_Software_v1_00.tfrecord to s3://dsoaws-test-upload-085964654406/watched_input/part-algo-1-amazon_reviews_us_Digital_Software_v1_00.tfrecord\r\n"
     ]
    }
   ],
   "source": [
    "!aws s3 cp ./data-tfrecord/bert-train/part-algo-1-amazon_reviews_us_Digital_Software_v1_00.tfrecord $watched_s3_uri"
   ]
  },
  {
   "cell_type": "code",
   "execution_count": 63,
   "metadata": {},
   "outputs": [],
   "source": [
    "time.sleep(30)"
   ]
  },
  {
   "cell_type": "code",
   "execution_count": 64,
   "metadata": {},
   "outputs": [
    {
     "name": "stdout",
     "output_type": "stream",
     "text": [
      "Completed 10.5 KiB/10.5 KiB (89.9 KiB/s) with 1 file(s) remaining\r",
      "upload: data-tfrecord/bert-train/part-algo-1-amazon_reviews_us_Digital_Software_v1_00.tfrecord to s3://dsoaws-test-upload-085964654406/watched_input/part-algo-1-amazon_reviews_us_Digital_Software_v1_00.tfrecord\r\n"
     ]
    }
   ],
   "source": [
    "!aws s3 cp ./data-tfrecord/bert-train/part-algo-1-amazon_reviews_us_Digital_Software_v1_00.tfrecord $watched_s3_uri"
   ]
  },
  {
   "cell_type": "markdown",
   "metadata": {},
   "source": [
    "# Check Number of StepFunction Invocations **After** the S3 Trigger (Wait for 60 seconds)"
   ]
  },
  {
   "cell_type": "code",
   "execution_count": 65,
   "metadata": {},
   "outputs": [],
   "source": [
    "time.sleep(60)"
   ]
  },
  {
   "cell_type": "code",
   "execution_count": 66,
   "metadata": {},
   "outputs": [
    {
     "name": "stdout",
     "output_type": "stream",
     "text": [
      "{'executions': [{'executionArn': 'arn:aws:states:us-west-2:085964654406:execution:training-pipeline-2020-09-26-20-24-49:training-pipeline-2020-09-26-20-25-01', 'stateMachineArn': 'arn:aws:states:us-west-2:085964654406:stateMachine:training-pipeline-2020-09-26-20-24-49', 'name': 'training-pipeline-2020-09-26-20-25-01', 'status': 'SUCCEEDED', 'startDate': datetime.datetime(2020, 9, 26, 20, 25, 1, 489000, tzinfo=tzlocal()), 'stopDate': datetime.datetime(2020, 9, 26, 21, 6, 1, 22000, tzinfo=tzlocal())}], 'ResponseMetadata': {'RequestId': '7900c635-69a0-4e27-9e79-568bda606ac7', 'HTTPStatusCode': 200, 'HTTPHeaders': {'x-amzn-requestid': '7900c635-69a0-4e27-9e79-568bda606ac7', 'content-type': 'application/x-amz-json-1.0', 'content-length': '393'}, 'RetryAttempts': 0}}\n"
     ]
    }
   ],
   "source": [
    "execution_list_after_uploading = sfn.list_executions(stateMachineArn=stepfunction_arn)\n",
    "\n",
    "print(execution_list_after_uploading)"
   ]
  },
  {
   "cell_type": "code",
   "execution_count": 67,
   "metadata": {},
   "outputs": [
    {
     "name": "stdout",
     "output_type": "stream",
     "text": [
      "1\n"
     ]
    }
   ],
   "source": [
    "number_of_executions_after_uploading = len(execution_list_after_uploading['executions'])\n",
    "\n",
    "print(number_of_executions_after_uploading)"
   ]
  },
  {
   "cell_type": "code",
   "execution_count": 68,
   "metadata": {},
   "outputs": [
    {
     "name": "stdout",
     "output_type": "stream",
     "text": [
      "arn:aws:states:us-west-2:085964654406:execution:training-pipeline-2020-09-26-20-24-49:training-pipeline-2020-09-26-20-25-01\n"
     ]
    }
   ],
   "source": [
    "current_execution = execution_list_after_uploading['executions'][0]\n",
    "\n",
    "current_execution_arn = current_execution['executionArn']\n",
    "\n",
    "print(current_execution_arn)"
   ]
  },
  {
   "cell_type": "code",
   "execution_count": 69,
   "metadata": {},
   "outputs": [
    {
     "data": {
      "text/html": [
       "<b>Review <a target=\"blank\" href=\"https://console.aws.amazon.com/states/home?region=us-west-2#/executions/details/arn:aws:states:us-west-2:085964654406:execution:training-pipeline-2020-09-26-20-24-49:training-pipeline-2020-09-26-20-25-01\">Step Functions Pipeline</a></b>"
      ],
      "text/plain": [
       "<IPython.core.display.HTML object>"
      ]
     },
     "metadata": {},
     "output_type": "display_data"
    }
   ],
   "source": [
    "from IPython.core.display import display, HTML\n",
    "\n",
    "display(HTML('<b>Review <a target=\"blank\" href=\"https://console.aws.amazon.com/states/home?region={}#/executions/details/{}\">Step Functions Pipeline</a></b>'.format(region, current_execution_arn)))\n"
   ]
  },
  {
   "cell_type": "code",
   "execution_count": null,
   "metadata": {},
   "outputs": [],
   "source": [
    "%%javascript\n",
    "Jupyter.notebook.save_checkpoint();\n",
    "Jupyter.notebook.session.delete();"
   ]
  }
 ],
 "metadata": {
  "kernelspec": {
   "display_name": "conda_python3",
   "language": "python",
   "name": "conda_python3"
  },
  "language_info": {
   "codemirror_mode": {
    "name": "ipython",
    "version": 3
   },
   "file_extension": ".py",
   "mimetype": "text/x-python",
   "name": "python",
   "nbconvert_exporter": "python",
   "pygments_lexer": "ipython3",
   "version": "3.6.10"
  }
 },
 "nbformat": 4,
 "nbformat_minor": 4
}
