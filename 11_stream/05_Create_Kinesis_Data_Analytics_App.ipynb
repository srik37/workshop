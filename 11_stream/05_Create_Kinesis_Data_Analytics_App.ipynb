{
 "cells": [
  {
   "cell_type": "markdown",
   "metadata": {},
   "source": [
    "# Kinesis Data Analytics for SQL Applications\n",
    "\n",
    "To get started with Kinesis Data Analytics, you create a Kinesis data analytics application that continuously reads and processes streaming data."
   ]
  },
  {
   "cell_type": "markdown",
   "metadata": {},
   "source": [
    "<img src=\"img/use_case_1_analytics.png\" width=\"80%\" align=\"left\">"
   ]
  },
  {
   "cell_type": "code",
   "execution_count": 1,
   "metadata": {},
   "outputs": [],
   "source": [
    "import boto3\n",
    "import sagemaker\n",
    "import pandas as pd\n",
    "import json\n",
    "\n",
    "sess   = sagemaker.Session()\n",
    "bucket = sess.default_bucket()\n",
    "role = sagemaker.get_execution_role()\n",
    "region = boto3.Session().region_name\n",
    "\n",
    "sts = boto3.Session().client(service_name='sts', region_name=region)\n",
    "account_id = sts.get_caller_identity()['Account']\n",
    "\n",
    "sm = boto3.Session().client(service_name='sagemaker', region_name=region)\n",
    "firehose = boto3.Session().client(service_name='firehose', region_name=region)\n",
    "kinesis_analytics = boto3.Session().client(service_name='kinesisanalytics', region_name=region)"
   ]
  },
  {
   "cell_type": "code",
   "execution_count": 2,
   "metadata": {},
   "outputs": [],
   "source": [
    "%store -r firehose_name"
   ]
  },
  {
   "cell_type": "code",
   "execution_count": 3,
   "metadata": {},
   "outputs": [],
   "source": [
    "try:\n",
    "    firehose_name\n",
    "except NameError:\n",
    "    print('+++++++++++++++++++++++++++++++')\n",
    "    print('[ERROR] Please run all previous notebooks in this section before you continue.')\n",
    "    print('+++++++++++++++++++++++++++++++')"
   ]
  },
  {
   "cell_type": "code",
   "execution_count": 4,
   "metadata": {},
   "outputs": [
    {
     "name": "stdout",
     "output_type": "stream",
     "text": [
      "dsoaws-kinesis-data-firehose\n"
     ]
    }
   ],
   "source": [
    "print(firehose_name)"
   ]
  },
  {
   "cell_type": "code",
   "execution_count": 5,
   "metadata": {},
   "outputs": [],
   "source": [
    "%store -r firehose_arn"
   ]
  },
  {
   "cell_type": "code",
   "execution_count": 6,
   "metadata": {},
   "outputs": [],
   "source": [
    "try:\n",
    "    firehose_arn\n",
    "except NameError:\n",
    "    print('+++++++++++++++++++++++++++++++')\n",
    "    print('[ERROR] Please run all previous notebooks in this section before you continue.')\n",
    "    print('+++++++++++++++++++++++++++++++')"
   ]
  },
  {
   "cell_type": "code",
   "execution_count": 7,
   "metadata": {},
   "outputs": [
    {
     "name": "stdout",
     "output_type": "stream",
     "text": [
      "arn:aws:firehose:us-west-2:085964654406:deliverystream/dsoaws-kinesis-data-firehose\n"
     ]
    }
   ],
   "source": [
    "print(firehose_arn)"
   ]
  },
  {
   "cell_type": "code",
   "execution_count": 8,
   "metadata": {},
   "outputs": [],
   "source": [
    "%store -r iam_role_kinesis_arn"
   ]
  },
  {
   "cell_type": "code",
   "execution_count": 9,
   "metadata": {},
   "outputs": [],
   "source": [
    "try:\n",
    "    iam_role_kinesis_arn\n",
    "except NameError:\n",
    "    print('+++++++++++++++++++++++++++++++')\n",
    "    print('[ERROR] Please run all previous notebooks in this section before you continue.')\n",
    "    print('+++++++++++++++++++++++++++++++')"
   ]
  },
  {
   "cell_type": "code",
   "execution_count": 10,
   "metadata": {},
   "outputs": [
    {
     "name": "stdout",
     "output_type": "stream",
     "text": [
      "arn:aws:iam::085964654406:role/DSOAWS_Kinesis\n"
     ]
    }
   ],
   "source": [
    "print(iam_role_kinesis_arn)"
   ]
  },
  {
   "cell_type": "code",
   "execution_count": 11,
   "metadata": {},
   "outputs": [],
   "source": [
    "%store -r stream_arn"
   ]
  },
  {
   "cell_type": "code",
   "execution_count": 12,
   "metadata": {},
   "outputs": [],
   "source": [
    "try:\n",
    "    stream_arn\n",
    "except NameError:\n",
    "    print('+++++++++++++++++++++++++++++++')\n",
    "    print('[ERROR] Please run all previous notebooks in this section before you continue.')\n",
    "    print('+++++++++++++++++++++++++++++++')"
   ]
  },
  {
   "cell_type": "code",
   "execution_count": 13,
   "metadata": {},
   "outputs": [
    {
     "name": "stdout",
     "output_type": "stream",
     "text": [
      "arn:aws:kinesis:us-west-2:085964654406:stream/dsoaws-kinesis-data-stream\n"
     ]
    }
   ],
   "source": [
    "print(stream_arn)"
   ]
  },
  {
   "cell_type": "code",
   "execution_count": 14,
   "metadata": {},
   "outputs": [],
   "source": [
    "%store -r lambda_fn_arn"
   ]
  },
  {
   "cell_type": "code",
   "execution_count": 15,
   "metadata": {},
   "outputs": [],
   "source": [
    "try:\n",
    "    lambda_fn_arn\n",
    "except NameError:\n",
    "    print('+++++++++++++++++++++++++++++++')\n",
    "    print('[ERROR] Please run all previous notebooks in this section before you continue.')\n",
    "    print('+++++++++++++++++++++++++++++++')"
   ]
  },
  {
   "cell_type": "code",
   "execution_count": 16,
   "metadata": {},
   "outputs": [
    {
     "name": "stdout",
     "output_type": "stream",
     "text": [
      "arn:aws:lambda:us-west-2:085964654406:function:DeliverKinesisAnalyticsToCloudWatch\n"
     ]
    }
   ],
   "source": [
    "print(lambda_fn_arn)"
   ]
  },
  {
   "cell_type": "code",
   "execution_count": 17,
   "metadata": {},
   "outputs": [],
   "source": [
    "%store -r iam_role_lambda_arn"
   ]
  },
  {
   "cell_type": "code",
   "execution_count": 18,
   "metadata": {},
   "outputs": [],
   "source": [
    "try:\n",
    "    iam_role_lambda_arn\n",
    "except NameError:\n",
    "    print('+++++++++++++++++++++++++++++++')\n",
    "    print('[ERROR] Please run all previous notebooks in this section before you continue.')\n",
    "    print('+++++++++++++++++++++++++++++++')"
   ]
  },
  {
   "cell_type": "code",
   "execution_count": 19,
   "metadata": {},
   "outputs": [
    {
     "name": "stdout",
     "output_type": "stream",
     "text": [
      "arn:aws:iam::085964654406:role/DSOAWS_Lambda\n"
     ]
    }
   ],
   "source": [
    "print(iam_role_lambda_arn)"
   ]
  },
  {
   "cell_type": "markdown",
   "metadata": {},
   "source": [
    "# Create a Kinesis Data Analytics for SQL Application\n"
   ]
  },
  {
   "cell_type": "markdown",
   "metadata": {},
   "source": [
    "## Define the Kinesis Analytics Application Name"
   ]
  },
  {
   "cell_type": "code",
   "execution_count": 20,
   "metadata": {},
   "outputs": [],
   "source": [
    "kinesis_data_analytics_app_name = 'dsoaws-kinesis-data-analytics-sql-app'"
   ]
  },
  {
   "cell_type": "code",
   "execution_count": 21,
   "metadata": {},
   "outputs": [],
   "source": [
    "in_app_stream_name = 'firehose_001' # Default"
   ]
  },
  {
   "cell_type": "markdown",
   "metadata": {},
   "source": [
    "## Create Application"
   ]
  },
  {
   "cell_type": "code",
   "execution_count": 22,
   "metadata": {},
   "outputs": [],
   "source": [
    "window_seconds = 5"
   ]
  },
  {
   "cell_type": "code",
   "execution_count": 23,
   "metadata": {},
   "outputs": [
    {
     "name": "stdout",
     "output_type": "stream",
     "text": [
      "         CREATE OR REPLACE STREAM \"AVG_STAR_RATING_SQL_STREAM\" (             avg_star_rating DOUBLE);         CREATE OR REPLACE PUMP \"AVG_STAR_RATING_STREAM_PUMP\" AS             INSERT INTO \"AVG_STAR_RATING_SQL_STREAM\"                 SELECT STREAM AVG(CAST(\"star_rating\" AS DOUBLE)) AS avg_star_rating                 FROM \"firehose_001\"                 GROUP BY                 STEP(\"firehose_001\".ROWTIME BY INTERVAL '5' SECOND);                  CREATE OR REPLACE STREAM \"ANOMALY_SCORE_SQL_STREAM\" (anomaly_score DOUBLE);         CREATE OR REPLACE PUMP \"ANOMALY_SCORE_STREAM_PUMP\" AS             INSERT INTO \"ANOMALY_SCORE_SQL_STREAM\"             SELECT STREAM anomaly_score             FROM TABLE(RANDOM_CUT_FOREST(                 CURSOR(SELECT STREAM \"star_rating\"                     FROM \"firehose_001\"             )           )         );                  CREATE OR REPLACE STREAM \"APPROXIMATE_COUNT_SQL_STREAM\" (number_of_distinct_items BIGINT);         CREATE OR REPLACE PUMP \"APPROXIMATE_COUNT_STREAM_PUMP\" AS             INSERT INTO \"APPROXIMATE_COUNT_SQL_STREAM\"             SELECT STREAM number_of_distinct_items             FROM TABLE(COUNT_DISTINCT_ITEMS_TUMBLING(                 CURSOR(SELECT STREAM \"review_id\" FROM \"firehose_001\"),                 'review_id',                 5               )         );     \n"
     ]
    }
   ],
   "source": [
    "sql_code = ''' \\\n",
    "        CREATE OR REPLACE STREAM \"AVG_STAR_RATING_SQL_STREAM\" ( \\\n",
    "            avg_star_rating DOUBLE); \\\n",
    "        CREATE OR REPLACE PUMP \"AVG_STAR_RATING_STREAM_PUMP\" AS \\\n",
    "            INSERT INTO \"AVG_STAR_RATING_SQL_STREAM\" \\\n",
    "                SELECT STREAM AVG(CAST(\"star_rating\" AS DOUBLE)) AS avg_star_rating \\\n",
    "                FROM \"{}\" \\\n",
    "                GROUP BY \\\n",
    "                STEP(\"{}\".ROWTIME BY INTERVAL '{}' SECOND); \\\n",
    "         \\\n",
    "        CREATE OR REPLACE STREAM \"ANOMALY_SCORE_SQL_STREAM\" (anomaly_score DOUBLE); \\\n",
    "        CREATE OR REPLACE PUMP \"ANOMALY_SCORE_STREAM_PUMP\" AS \\\n",
    "            INSERT INTO \"ANOMALY_SCORE_SQL_STREAM\" \\\n",
    "            SELECT STREAM anomaly_score \\\n",
    "            FROM TABLE(RANDOM_CUT_FOREST( \\\n",
    "                CURSOR(SELECT STREAM \"star_rating\" \\\n",
    "                    FROM \"{}\" \\\n",
    "            ) \\\n",
    "          ) \\\n",
    "        ); \\\n",
    "         \\\n",
    "        CREATE OR REPLACE STREAM \"APPROXIMATE_COUNT_SQL_STREAM\" (number_of_distinct_items BIGINT); \\\n",
    "        CREATE OR REPLACE PUMP \"APPROXIMATE_COUNT_STREAM_PUMP\" AS \\\n",
    "            INSERT INTO \"APPROXIMATE_COUNT_SQL_STREAM\" \\\n",
    "            SELECT STREAM number_of_distinct_items \\\n",
    "            FROM TABLE(COUNT_DISTINCT_ITEMS_TUMBLING( \\\n",
    "                CURSOR(SELECT STREAM \"review_id\" FROM \"{}\"), \\\n",
    "                'review_id', \\\n",
    "                {} \\\n",
    "              ) \\\n",
    "        ); \\\n",
    "    '''.format(in_app_stream_name, \n",
    "             in_app_stream_name, \n",
    "             window_seconds,\n",
    "             in_app_stream_name, \n",
    "             in_app_stream_name, \n",
    "             window_seconds)\n",
    "\n",
    "print(sql_code)"
   ]
  },
  {
   "cell_type": "code",
   "execution_count": 24,
   "metadata": {},
   "outputs": [
    {
     "name": "stdout",
     "output_type": "stream",
     "text": [
      "SQL application dsoaws-kinesis-data-analytics-sql-app successfully created.\n",
      "{\n",
      "    \"ApplicationSummary\": {\n",
      "        \"ApplicationARN\": \"arn:aws:kinesisanalytics:us-west-2:085964654406:application/dsoaws-kinesis-data-analytics-sql-app\",\n",
      "        \"ApplicationName\": \"dsoaws-kinesis-data-analytics-sql-app\",\n",
      "        \"ApplicationStatus\": \"READY\"\n",
      "    },\n",
      "    \"ResponseMetadata\": {\n",
      "        \"HTTPHeaders\": {\n",
      "            \"content-length\": \"227\",\n",
      "            \"content-type\": \"application/x-amz-json-1.1\",\n",
      "            \"date\": \"Sat, 26 Sep 2020 20:52:28 GMT\",\n",
      "            \"x-amzn-requestid\": \"795a6d7b-f0bb-42d3-ab0d-32e6462fa29a\"\n",
      "        },\n",
      "        \"HTTPStatusCode\": 200,\n",
      "        \"RequestId\": \"795a6d7b-f0bb-42d3-ab0d-32e6462fa29a\",\n",
      "        \"RetryAttempts\": 0\n",
      "    }\n",
      "}\n"
     ]
    }
   ],
   "source": [
    "from botocore.exceptions import ClientError\n",
    "\n",
    "try: \n",
    "    response = kinesis_analytics.create_application(\n",
    "        ApplicationName=kinesis_data_analytics_app_name,\n",
    "        Inputs=[\n",
    "            {\n",
    "                'NamePrefix': 'firehose',\n",
    "                'KinesisFirehoseInput': {\n",
    "                    'ResourceARN': '{}'.format(firehose_arn),\n",
    "                    'RoleARN': '{}'.format(iam_role_kinesis_arn)\n",
    "                },\n",
    "                'InputSchema': {\n",
    "                    'RecordFormat': {\n",
    "                        'RecordFormatType': 'CSV',\n",
    "                        'MappingParameters': {\n",
    "                            'CSVMappingParameters': {\n",
    "                                'RecordRowDelimiter': '\\n',\n",
    "                                'RecordColumnDelimiter': '\\t'\n",
    "                            }\n",
    "                        }\n",
    "                    },\n",
    "                    'RecordColumns': [\n",
    "                        {\n",
    "                            'Name': 'review_id',\n",
    "                            'Mapping': 'review_id',\n",
    "                            'SqlType': 'VARCHAR(14)'\n",
    "                        },                    \n",
    "                        {\n",
    "                            'Name': 'star_rating',\n",
    "                            'Mapping': 'star_rating',\n",
    "                            'SqlType': 'INTEGER'\n",
    "                        },\n",
    "                        {\n",
    "                            'Name': 'product_category',\n",
    "                            'Mapping': 'product_category',\n",
    "                            'SqlType': 'VARCHAR(24)'\n",
    "                        },                    \n",
    "                        {\n",
    "                            'Name': 'review_body',\n",
    "                            'Mapping': 'review_body',\n",
    "                            'SqlType': 'VARCHAR(65535)'\n",
    "                        }                    \n",
    "                    ]\n",
    "                }\n",
    "            },\n",
    "        ],\n",
    "        Outputs=[\n",
    "            {\n",
    "                'Name': 'AVG_STAR_RATING_STREAM',            \n",
    "                'KinesisStreamsOutput': {\n",
    "                    'ResourceARN': '{}'.format(stream_arn),\n",
    "                    'RoleARN': '{}'.format(iam_role_kinesis_arn)\n",
    "                },\n",
    "                'DestinationSchema': {\n",
    "                    'RecordFormatType': 'CSV'\n",
    "                }\n",
    "            },\n",
    "            {\n",
    "                'Name': 'AVG_STAR_RATING_SQL_STREAM',\n",
    "                'LambdaOutput': {\n",
    "                    'ResourceARN': '{}'.format(lambda_fn_arn),\n",
    "                    'RoleARN': '{}'.format(iam_role_lambda_arn)\n",
    "                },\n",
    "                'DestinationSchema': {\n",
    "                    'RecordFormatType': 'CSV'\n",
    "                }\n",
    "            }\n",
    "        ],\n",
    "        ApplicationCode=sql_code\n",
    "    )\n",
    "    print('SQL application {} successfully created.'.format(kinesis_data_analytics_app_name))\n",
    "    print(json.dumps(response, indent=4, sort_keys=True, default=str))\n",
    "except ClientError as e:\n",
    "    if e.response['Error']['Code'] == 'ResourceInUseException':\n",
    "        print('SQL App {} already exists.'.format(kinesis_data_analytics_app_name))\n",
    "    else:\n",
    "        print('Unexpected error: %s' % e)\n",
    "    "
   ]
  },
  {
   "cell_type": "code",
   "execution_count": 25,
   "metadata": {
    "scrolled": true
   },
   "outputs": [
    {
     "name": "stdout",
     "output_type": "stream",
     "text": [
      "{\n",
      "    \"ApplicationDetail\": {\n",
      "        \"ApplicationARN\": \"arn:aws:kinesisanalytics:us-west-2:085964654406:application/dsoaws-kinesis-data-analytics-sql-app\",\n",
      "        \"ApplicationCode\": \"CREATE OR REPLACE STREAM \\\"AVG_STAR_RATING_SQL_STREAM\\\" (             avg_star_rating DOUBLE);         CREATE OR REPLACE PUMP \\\"AVG_STAR_RATING_STREAM_PUMP\\\" AS             INSERT INTO \\\"AVG_STAR_RATING_SQL_STREAM\\\"                 SELECT STREAM AVG(CAST(\\\"star_rating\\\" AS DOUBLE)) AS avg_star_rating                 FROM \\\"firehose_001\\\"                 GROUP BY                 STEP(\\\"firehose_001\\\".ROWTIME BY INTERVAL '5' SECOND);                  CREATE OR REPLACE STREAM \\\"ANOMALY_SCORE_SQL_STREAM\\\" (anomaly_score DOUBLE);         CREATE OR REPLACE PUMP \\\"ANOMALY_SCORE_STREAM_PUMP\\\" AS             INSERT INTO \\\"ANOMALY_SCORE_SQL_STREAM\\\"             SELECT STREAM anomaly_score             FROM TABLE(RANDOM_CUT_FOREST(                 CURSOR(SELECT STREAM \\\"star_rating\\\"                     FROM \\\"firehose_001\\\"             )           )         );                  CREATE OR REPLACE STREAM \\\"APPROXIMATE_COUNT_SQL_STREAM\\\" (number_of_distinct_items BIGINT);         CREATE OR REPLACE PUMP \\\"APPROXIMATE_COUNT_STREAM_PUMP\\\" AS             INSERT INTO \\\"APPROXIMATE_COUNT_SQL_STREAM\\\"             SELECT STREAM number_of_distinct_items             FROM TABLE(COUNT_DISTINCT_ITEMS_TUMBLING(                 CURSOR(SELECT STREAM \\\"review_id\\\" FROM \\\"firehose_001\\\"),                 'review_id',                 5               )         );\\n\",\n",
      "        \"ApplicationName\": \"dsoaws-kinesis-data-analytics-sql-app\",\n",
      "        \"ApplicationStatus\": \"READY\",\n",
      "        \"ApplicationVersionId\": 1,\n",
      "        \"CreateTimestamp\": \"2020-09-26 20:52:28+00:00\",\n",
      "        \"InputDescriptions\": [\n",
      "            {\n",
      "                \"InAppStreamNames\": [\n",
      "                    \"firehose_001\"\n",
      "                ],\n",
      "                \"InputId\": \"1.1\",\n",
      "                \"InputParallelism\": {\n",
      "                    \"Count\": 1\n",
      "                },\n",
      "                \"InputSchema\": {\n",
      "                    \"RecordColumns\": [\n",
      "                        {\n",
      "                            \"Mapping\": \"review_id\",\n",
      "                            \"Name\": \"review_id\",\n",
      "                            \"SqlType\": \"VARCHAR(14)\"\n",
      "                        },\n",
      "                        {\n",
      "                            \"Mapping\": \"star_rating\",\n",
      "                            \"Name\": \"star_rating\",\n",
      "                            \"SqlType\": \"INTEGER\"\n",
      "                        },\n",
      "                        {\n",
      "                            \"Mapping\": \"product_category\",\n",
      "                            \"Name\": \"product_category\",\n",
      "                            \"SqlType\": \"VARCHAR(24)\"\n",
      "                        },\n",
      "                        {\n",
      "                            \"Mapping\": \"review_body\",\n",
      "                            \"Name\": \"review_body\",\n",
      "                            \"SqlType\": \"VARCHAR(65535)\"\n",
      "                        }\n",
      "                    ],\n",
      "                    \"RecordFormat\": {\n",
      "                        \"MappingParameters\": {\n",
      "                            \"CSVMappingParameters\": {\n",
      "                                \"RecordColumnDelimiter\": \"\\t\",\n",
      "                                \"RecordRowDelimiter\": \"\\n\"\n",
      "                            }\n",
      "                        },\n",
      "                        \"RecordFormatType\": \"CSV\"\n",
      "                    }\n",
      "                },\n",
      "                \"InputStartingPositionConfiguration\": {},\n",
      "                \"KinesisFirehoseInputDescription\": {\n",
      "                    \"ResourceARN\": \"arn:aws:firehose:us-west-2:085964654406:deliverystream/dsoaws-kinesis-data-firehose\",\n",
      "                    \"RoleARN\": \"arn:aws:iam::085964654406:role/DSOAWS_Kinesis\"\n",
      "                },\n",
      "                \"NamePrefix\": \"firehose\"\n",
      "            }\n",
      "        ],\n",
      "        \"LastUpdateTimestamp\": \"2020-09-26 20:52:28+00:00\",\n",
      "        \"OutputDescriptions\": [\n",
      "            {\n",
      "                \"DestinationSchema\": {\n",
      "                    \"RecordFormatType\": \"CSV\"\n",
      "                },\n",
      "                \"KinesisStreamsOutputDescription\": {\n",
      "                    \"ResourceARN\": \"arn:aws:kinesis:us-west-2:085964654406:stream/dsoaws-kinesis-data-stream\",\n",
      "                    \"RoleARN\": \"arn:aws:iam::085964654406:role/DSOAWS_Kinesis\"\n",
      "                },\n",
      "                \"Name\": \"AVG_STAR_RATING_STREAM\",\n",
      "                \"OutputId\": \"1.1\"\n",
      "            },\n",
      "            {\n",
      "                \"DestinationSchema\": {\n",
      "                    \"RecordFormatType\": \"CSV\"\n",
      "                },\n",
      "                \"LambdaOutputDescription\": {\n",
      "                    \"ResourceARN\": \"arn:aws:lambda:us-west-2:085964654406:function:DeliverKinesisAnalyticsToCloudWatch\",\n",
      "                    \"RoleARN\": \"arn:aws:iam::085964654406:role/DSOAWS_Lambda\"\n",
      "                },\n",
      "                \"Name\": \"AVG_STAR_RATING_SQL_STREAM\",\n",
      "                \"OutputId\": \"1.2\"\n",
      "            }\n",
      "        ]\n",
      "    },\n",
      "    \"ResponseMetadata\": {\n",
      "        \"HTTPHeaders\": {\n",
      "            \"content-length\": \"3114\",\n",
      "            \"content-type\": \"application/x-amz-json-1.1\",\n",
      "            \"date\": \"Sat, 26 Sep 2020 20:52:28 GMT\",\n",
      "            \"x-amzn-requestid\": \"a4f624a1-5192-4d02-b4a6-73b2f3083af7\"\n",
      "        },\n",
      "        \"HTTPStatusCode\": 200,\n",
      "        \"RequestId\": \"a4f624a1-5192-4d02-b4a6-73b2f3083af7\",\n",
      "        \"RetryAttempts\": 0\n",
      "    }\n",
      "}\n"
     ]
    }
   ],
   "source": [
    "response = kinesis_analytics.describe_application(ApplicationName=kinesis_data_analytics_app_name)\n",
    "print(json.dumps(response, indent=4, sort_keys=True, default=str))"
   ]
  },
  {
   "cell_type": "code",
   "execution_count": 26,
   "metadata": {},
   "outputs": [
    {
     "name": "stdout",
     "output_type": "stream",
     "text": [
      "1.1\n"
     ]
    }
   ],
   "source": [
    "input_id = response['ApplicationDetail']['InputDescriptions'][0]['InputId']\n",
    "print(input_id)"
   ]
  },
  {
   "cell_type": "markdown",
   "metadata": {},
   "source": [
    "# Start the Kinesis Data Analytics App"
   ]
  },
  {
   "cell_type": "code",
   "execution_count": 27,
   "metadata": {},
   "outputs": [
    {
     "name": "stdout",
     "output_type": "stream",
     "text": [
      "{\n",
      "    \"ResponseMetadata\": {\n",
      "        \"HTTPHeaders\": {\n",
      "            \"content-length\": \"2\",\n",
      "            \"content-type\": \"application/x-amz-json-1.1\",\n",
      "            \"date\": \"Sat, 26 Sep 2020 20:52:28 GMT\",\n",
      "            \"x-amzn-requestid\": \"23608d5a-95c6-4978-a3e8-e0e2c8aad044\"\n",
      "        },\n",
      "        \"HTTPStatusCode\": 200,\n",
      "        \"RequestId\": \"23608d5a-95c6-4978-a3e8-e0e2c8aad044\",\n",
      "        \"RetryAttempts\": 0\n",
      "    }\n",
      "}\n"
     ]
    }
   ],
   "source": [
    "try: \n",
    "    response = kinesis_analytics.start_application(\n",
    "        ApplicationName=kinesis_data_analytics_app_name,\n",
    "        InputConfigurations=[\n",
    "            {\n",
    "                'Id': input_id,\n",
    "                'InputStartingPositionConfiguration': {\n",
    "                    'InputStartingPosition': 'NOW'\n",
    "                }\n",
    "            }\n",
    "        ]\n",
    "    )\n",
    "    print(json.dumps(response, indent=4, sort_keys=True, default=str))\n",
    "except ClientError as e:\n",
    "    if e.response['Error']['Code'] == 'ResourceInUseException':\n",
    "        print('Application {} is already starting.'.format(kinesis_data_analytics_app_name))\n",
    "    else:\n",
    "        print('Error: {}'.format(e))"
   ]
  },
  {
   "cell_type": "code",
   "execution_count": 28,
   "metadata": {},
   "outputs": [
    {
     "name": "stdout",
     "output_type": "stream",
     "text": [
      "Stored 'kinesis_data_analytics_app_name' (str)\n"
     ]
    }
   ],
   "source": [
    "%store kinesis_data_analytics_app_name"
   ]
  },
  {
   "cell_type": "markdown",
   "metadata": {},
   "source": [
    "# Explore Kinesis Data Analytics App"
   ]
  },
  {
   "cell_type": "code",
   "execution_count": 29,
   "metadata": {},
   "outputs": [
    {
     "data": {
      "text/html": [
       "<b>Review <a target=\"blank\" href=\"https://console.aws.amazon.com/kinesisanalytics/home?region=us-west-2#/wizard/hub?applicationName=dsoaws-kinesis-data-analytics-sql-app\"> Kinesis Data Analytics App</a></b>"
      ],
      "text/plain": [
       "<IPython.core.display.HTML object>"
      ]
     },
     "metadata": {},
     "output_type": "display_data"
    }
   ],
   "source": [
    "from IPython.core.display import display, HTML\n",
    "        \n",
    "display(HTML('<b>Review <a target=\"blank\" href=\"https://console.aws.amazon.com/kinesisanalytics/home?region={}#/wizard/hub?applicationName={}\"> Kinesis Data Analytics App</a></b>'.format(region, kinesis_data_analytics_app_name)))\n"
   ]
  },
  {
   "cell_type": "code",
   "execution_count": 30,
   "metadata": {},
   "outputs": [],
   "source": [
    "response = kinesis_analytics.describe_application(ApplicationName=kinesis_data_analytics_app_name)"
   ]
  },
  {
   "cell_type": "code",
   "execution_count": 31,
   "metadata": {},
   "outputs": [
    {
     "name": "stdout",
     "output_type": "stream",
     "text": [
      "Application status STARTING\n",
      "Application status STARTING\n",
      "Application status STARTING\n",
      "Application status STARTING\n",
      "Application status STARTING\n",
      "Application status STARTING\n",
      "Application status STARTING\n",
      "Application status STARTING\n",
      "Application status STARTING\n",
      "Application status STARTING\n",
      "Application status STARTING\n",
      "Application status STARTING\n",
      "Application status STARTING\n",
      "Application status STARTING\n",
      "Application status STARTING\n",
      "Application status STARTING\n",
      "Application status STARTING\n",
      "Application status STARTING\n",
      "Application status STARTING\n",
      "Application status STARTING\n",
      "Application status STARTING\n",
      "Application status STARTING\n",
      "Application status STARTING\n",
      "Application status STARTING\n",
      "Application status STARTING\n",
      "Application status STARTING\n",
      "Application status STARTING\n",
      "Application status STARTING\n",
      "Application status STARTING\n",
      "Application status STARTING\n",
      "Application status STARTING\n",
      "Application status STARTING\n",
      "Application status STARTING\n",
      "Application status STARTING\n",
      "Application status STARTING\n",
      "Application status STARTING\n",
      "Application status STARTING\n",
      "Application status STARTING\n",
      "Application status STARTING\n",
      "Application status STARTING\n",
      "Application status STARTING\n",
      "Application status STARTING\n",
      "Application status STARTING\n",
      "Application status RUNNING\n",
      "Application status RUNNING\n",
      "CPU times: user 141 ms, sys: 3.64 ms, total: 145 ms\n",
      "Wall time: 3min 36s\n"
     ]
    }
   ],
   "source": [
    "%%time\n",
    "\n",
    "import time\n",
    "\n",
    "app_status = response['ApplicationDetail']['ApplicationStatus']\n",
    "print('Application status {}'.format(app_status))\n",
    "\n",
    "while app_status != 'RUNNING':\n",
    "    time.sleep(5)\n",
    "    response = kinesis_analytics.describe_application(\n",
    "        ApplicationName=kinesis_data_analytics_app_name)\n",
    "    app_status = response['ApplicationDetail']['ApplicationStatus']\n",
    "    print('Application status {}'.format(app_status))\n",
    "\n",
    "print('Application status {}'.format(app_status))"
   ]
  },
  {
   "cell_type": "markdown",
   "metadata": {},
   "source": [
    "# _Please be patient.  ^^ This may take a few minutes. ^^_"
   ]
  },
  {
   "cell_type": "markdown",
   "metadata": {},
   "source": [
    "# Store Variables for Next Notebooks"
   ]
  },
  {
   "cell_type": "code",
   "execution_count": 32,
   "metadata": {
    "scrolled": true
   },
   "outputs": [
    {
     "name": "stdout",
     "output_type": "stream",
     "text": [
      "Stored variables and their in-db values:\n",
      "auto_ml_job_name                                      -> 'automl-dm-26-16-00-25'\n",
      "autopilot_endpoint_name                               -> 'automl-dm-ep-26-16-21-49'\n",
      "autopilot_train_s3_uri                                -> 's3://sagemaker-us-west-2-085964654406/data/amazon\n",
      "balance_dataset                                       -> True\n",
      "experiment_name                                       -> 'Amazon-Customer-Reviews-BERT-Experiment-160114585\n",
      "firehose_arn                                          -> 'arn:aws:firehose:us-west-2:085964654406:deliverys\n",
      "firehose_name                                         -> 'dsoaws-kinesis-data-firehose'\n",
      "iam_kinesis_role_name                                 -> 'DSOAWS_Kinesis'\n",
      "iam_kinesis_role_passed                               -> True\n",
      "iam_lambda_role_name                                  -> 'DSOAWS_Lambda'\n",
      "iam_lambda_role_passed                                -> True\n",
      "iam_role_kinesis_arn                                  -> 'arn:aws:iam::085964654406:role/DSOAWS_Kinesis'\n",
      "iam_role_lambda_arn                                   -> 'arn:aws:iam::085964654406:role/DSOAWS_Lambda'\n",
      "ingest_create_athena_db_passed                        -> True\n",
      "ingest_create_athena_table_parquet_passed             -> True\n",
      "ingest_create_athena_table_tsv_passed                 -> True\n",
      "kinesis_data_analytics_app_name                       -> 'dsoaws-kinesis-data-analytics-sql-app'\n",
      "lambda_fn_arn                                         -> 'arn:aws:lambda:us-west-2:085964654406:function:De\n",
      "lambda_fn_name                                        -> 'DeliverKinesisAnalyticsToCloudWatch'\n",
      "max_seq_length                                        -> 64\n",
      "prepare_trial_component_name                          -> 'TrialComponent-2020-09-26-184417-oahc'\n",
      "processed_test_data_s3_uri                            -> 's3://sagemaker-us-west-2-085964654406/sagemaker-s\n",
      "processed_train_data_s3_uri                           -> 's3://sagemaker-us-west-2-085964654406/sagemaker-s\n",
      "processed_validation_data_s3_uri                      -> 's3://sagemaker-us-west-2-085964654406/sagemaker-s\n",
      "processing_code_s3_prefix                             -> 'pipeline_sklearn_processing/1601151884/code'\n",
      "pytorch_endpoint_name                                 -> 'tensorflow-training-2020-09-26-18-44-25-975-pt-16\n",
      "pytorch_model_name                                    -> 'tensorflow-training-2020-09-26-18-44-25-975-pt-16\n",
      "raw_input_data_s3_uri                                 -> 's3://sagemaker-us-west-2-085964654406/amazon-revi\n",
      "s3_private_path_tsv                                   -> 's3://sagemaker-us-west-2-085964654406/amazon-revi\n",
      "s3_public_path_tsv                                    -> 's3://amazon-reviews-pds/tsv'\n",
      "setup_dependencies_passed                             -> True\n",
      "setup_iam_roles_passed                                -> True\n",
      "setup_instance_check_passed                           -> True\n",
      "setup_s3_bucket_passed                                -> True\n",
      "stepfunction_arn                                      -> 'arn:aws:states:us-west-2:085964654406:stateMachin\n",
      "stepfunction_name                                     -> 'training-pipeline-2020-09-26-20-24-49'\n",
      "stream_arn                                            -> 'arn:aws:kinesis:us-west-2:085964654406:stream/dso\n",
      "stream_name                                           -> 'dsoaws-kinesis-data-stream'\n",
      "tensorflow_endpoint_name                              -> 'tensorflow-training-2020-09-26-18-44-25-975-tf-16\n",
      "tensorflow_model_name                                 -> 'tensorflow-training-2020-09-26-18-44-25-975-tf-16\n",
      "test_split_percentage                                 -> 0.05\n",
      "train_split_percentage                                -> 0.9\n",
      "training_job_debugger_artifacts_path                  -> 's3://sagemaker-us-west-2-085964654406/tensorflow-\n",
      "training_job_name                                     -> 'tensorflow-training-2020-09-26-18-44-25-975'\n",
      "transformer_pytorch_model_name                        -> 'pytorch_model.bin'\n",
      "transformer_pytorch_model_s3_uri                      -> 's3://sagemaker-us-west-2-085964654406/models/tran\n",
      "trial_name                                            -> 'trial-1601145857'\n",
      "tuning_job_name                                       -> 'tensorflow-training-200926-1943'\n",
      "validation_split_percentage                           -> 0.05\n"
     ]
    }
   ],
   "source": [
    "%store"
   ]
  },
  {
   "cell_type": "code",
   "execution_count": null,
   "metadata": {},
   "outputs": [],
   "source": [
    "%%javascript\n",
    "Jupyter.notebook.save_checkpoint();\n",
    "Jupyter.notebook.session.delete();"
   ]
  }
 ],
 "metadata": {
  "kernelspec": {
   "display_name": "conda_python3",
   "language": "python",
   "name": "conda_python3"
  },
  "language_info": {
   "codemirror_mode": {
    "name": "ipython",
    "version": 3
   },
   "file_extension": ".py",
   "mimetype": "text/x-python",
   "name": "python",
   "nbconvert_exporter": "python",
   "pygments_lexer": "ipython3",
   "version": "3.6.10"
  }
 },
 "nbformat": 4,
 "nbformat_minor": 4
}
