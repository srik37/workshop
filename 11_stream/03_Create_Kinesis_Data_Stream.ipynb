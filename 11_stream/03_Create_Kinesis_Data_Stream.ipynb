{
 "cells": [
  {
   "cell_type": "markdown",
   "metadata": {},
   "source": [
    "# Amazon Kinesis Data Stream\n",
    "\n",
    "Amazon Kinesis Data Streams ingests a large amount of data in real time, durably stores the data, and makes the data available for consumption. The unit of data stored by Kinesis Data Streams is a data record. A data stream represents a group of data records. The data records in a data stream are distributed into shards.\n",
    "\n",
    "A shard has a sequence of data records in a stream. When you create a stream, you specify the number of shards for the stream. The total capacity of a stream is the sum of the capacities of its shards. You can increase or decrease the number of shards in a stream as needed. However, you are charged on a per-shard basis. \n",
    "\n",
    "The producers continually push data to Kinesis Data Streams, and the consumers process the data in real time. Consumers (such as a custom application running on Amazon EC2 or an Amazon Kinesis Data Firehose delivery stream) can store their results using an AWS service such as Amazon DynamoDB, Amazon Redshift, or Amazon S3.\n",
    "\n",
    "<img src=\"img/kinesis_data_stream_docs.png\" width=\"90%\" align=\"left\">"
   ]
  },
  {
   "cell_type": "code",
   "execution_count": 1,
   "metadata": {},
   "outputs": [],
   "source": [
    "import boto3\n",
    "import sagemaker\n",
    "import pandas as pd\n",
    "import json\n",
    "\n",
    "sess   = sagemaker.Session()\n",
    "bucket = sess.default_bucket()\n",
    "role = sagemaker.get_execution_role()\n",
    "region = boto3.Session().region_name\n",
    "\n",
    "sm = boto3.Session().client(service_name='sagemaker', region_name=region)\n",
    "kinesis = boto3.Session().client(service_name='kinesis', region_name=region)\n",
    "sts = boto3.Session().client(service_name='sts', region_name=region)"
   ]
  },
  {
   "cell_type": "markdown",
   "metadata": {},
   "source": [
    "# Create a Kinesis Data Stream"
   ]
  },
  {
   "cell_type": "code",
   "execution_count": 2,
   "metadata": {},
   "outputs": [],
   "source": [
    "%store -r stream_name"
   ]
  },
  {
   "cell_type": "code",
   "execution_count": 3,
   "metadata": {},
   "outputs": [],
   "source": [
    "try:\n",
    "    stream_name\n",
    "except NameError:\n",
    "    print('+++++++++++++++++++++++++++++++')\n",
    "    print('[ERROR] Please run all previous notebooks in this section before you continue.')\n",
    "    print('+++++++++++++++++++++++++++++++')"
   ]
  },
  {
   "cell_type": "code",
   "execution_count": 4,
   "metadata": {},
   "outputs": [
    {
     "name": "stdout",
     "output_type": "stream",
     "text": [
      "dsoaws-kinesis-data-stream\n"
     ]
    }
   ],
   "source": [
    "print(stream_name)"
   ]
  },
  {
   "cell_type": "code",
   "execution_count": 5,
   "metadata": {},
   "outputs": [],
   "source": [
    "shard_count = 2"
   ]
  },
  {
   "cell_type": "code",
   "execution_count": 6,
   "metadata": {},
   "outputs": [
    {
     "name": "stdout",
     "output_type": "stream",
     "text": [
      "Data Stream dsoaws-kinesis-data-stream successfully created.\n",
      "{\n",
      "    \"ResponseMetadata\": {\n",
      "        \"HTTPHeaders\": {\n",
      "            \"content-length\": \"0\",\n",
      "            \"content-type\": \"application/x-amz-json-1.1\",\n",
      "            \"date\": \"Sat, 26 Sep 2020 20:51:14 GMT\",\n",
      "            \"x-amz-id-2\": \"B8xm/QIXjNiaoLFKcAZoIJvfQA0YB52BzSouvPD6M/dccIDS5b1inX1SdaWr8ZnLqKaFLdI2zSrPpEMQC3HroFeV/f02xPbhNjUQdeoGVJs=\",\n",
      "            \"x-amzn-requestid\": \"fe89d536-3843-e7bd-a960-7934c5453f7c\"\n",
      "        },\n",
      "        \"HTTPStatusCode\": 200,\n",
      "        \"RequestId\": \"fe89d536-3843-e7bd-a960-7934c5453f7c\",\n",
      "        \"RetryAttempts\": 0\n",
      "    }\n",
      "}\n"
     ]
    }
   ],
   "source": [
    "from botocore.exceptions import ClientError\n",
    "\n",
    "try: \n",
    "    response = kinesis.create_stream(\n",
    "        StreamName=stream_name, \n",
    "        ShardCount=shard_count\n",
    "    )\n",
    "    print('Data Stream {} successfully created.'.format(stream_name))\n",
    "    print(json.dumps(response, indent=4, sort_keys=True, default=str))\n",
    "    \n",
    "except ClientError as e:\n",
    "    if e.response['Error']['Code'] == 'ResourceInUseException':\n",
    "        print('Data Stream {} already exists.'.format(stream_name))\n",
    "    else:\n",
    "        print('Unexpected error: %s' % e)"
   ]
  },
  {
   "cell_type": "code",
   "execution_count": 7,
   "metadata": {},
   "outputs": [
    {
     "name": "stdout",
     "output_type": "stream",
     "text": [
      "Stream dsoaws-kinesis-data-stream is active\n"
     ]
    }
   ],
   "source": [
    "import time\n",
    "\n",
    "status = ''\n",
    "while status != 'ACTIVE':    \n",
    "    r = kinesis.describe_stream(StreamName=stream_name)\n",
    "    description = r.get('StreamDescription')\n",
    "    status = description.get('StreamStatus')\n",
    "    time.sleep(5)\n",
    "    \n",
    "print('Stream {} is active'.format(stream_name))"
   ]
  },
  {
   "cell_type": "markdown",
   "metadata": {},
   "source": [
    "## _This may take a minute.  Please be patient._"
   ]
  },
  {
   "cell_type": "code",
   "execution_count": 8,
   "metadata": {},
   "outputs": [
    {
     "name": "stdout",
     "output_type": "stream",
     "text": [
      "{\n",
      "    \"ResponseMetadata\": {\n",
      "        \"HTTPHeaders\": {\n",
      "            \"content-length\": \"865\",\n",
      "            \"content-type\": \"application/x-amz-json-1.1\",\n",
      "            \"date\": \"Sat, 26 Sep 2020 20:51:24 GMT\",\n",
      "            \"x-amz-id-2\": \"aWFO4dWyTL90TrnTWFO+zRK+H1LHvaniyizaSCxqUz7E0zNfPIp1fVlqNQ5j4EyXjJ9HrhAoIUNgpKsvGJRv1lzrd6gpAE+Z45Qy/YveuE8=\",\n",
      "            \"x-amzn-requestid\": \"e98bc2d7-6610-8350-be62-6edb9b165b91\"\n",
      "        },\n",
      "        \"HTTPStatusCode\": 200,\n",
      "        \"RequestId\": \"e98bc2d7-6610-8350-be62-6edb9b165b91\",\n",
      "        \"RetryAttempts\": 0\n",
      "    },\n",
      "    \"StreamDescription\": {\n",
      "        \"EncryptionType\": \"NONE\",\n",
      "        \"EnhancedMonitoring\": [\n",
      "            {\n",
      "                \"ShardLevelMetrics\": []\n",
      "            }\n",
      "        ],\n",
      "        \"HasMoreShards\": false,\n",
      "        \"RetentionPeriodHours\": 24,\n",
      "        \"Shards\": [\n",
      "            {\n",
      "                \"HashKeyRange\": {\n",
      "                    \"EndingHashKey\": \"170141183460469231731687303715884105727\",\n",
      "                    \"StartingHashKey\": \"0\"\n",
      "                },\n",
      "                \"SequenceNumberRange\": {\n",
      "                    \"StartingSequenceNumber\": \"49611167956639853805776420331868987267671920043593039874\"\n",
      "                },\n",
      "                \"ShardId\": \"shardId-000000000000\"\n",
      "            },\n",
      "            {\n",
      "                \"HashKeyRange\": {\n",
      "                    \"EndingHashKey\": \"340282366920938463463374607431768211455\",\n",
      "                    \"StartingHashKey\": \"170141183460469231731687303715884105728\"\n",
      "                },\n",
      "                \"SequenceNumberRange\": {\n",
      "                    \"StartingSequenceNumber\": \"49611167956662154550974950955010522985944568405099020306\"\n",
      "                },\n",
      "                \"ShardId\": \"shardId-000000000001\"\n",
      "            }\n",
      "        ],\n",
      "        \"StreamARN\": \"arn:aws:kinesis:us-west-2:085964654406:stream/dsoaws-kinesis-data-stream\",\n",
      "        \"StreamCreationTimestamp\": \"2020-09-26 20:51:13+00:00\",\n",
      "        \"StreamName\": \"dsoaws-kinesis-data-stream\",\n",
      "        \"StreamStatus\": \"ACTIVE\"\n",
      "    }\n",
      "}\n"
     ]
    }
   ],
   "source": [
    "stream_response = kinesis.describe_stream(\n",
    "    StreamName=stream_name\n",
    ")\n",
    "\n",
    "print(json.dumps(stream_response, indent=4, sort_keys=True, default=str))"
   ]
  },
  {
   "cell_type": "code",
   "execution_count": 9,
   "metadata": {
    "scrolled": true
   },
   "outputs": [
    {
     "name": "stdout",
     "output_type": "stream",
     "text": [
      "arn:aws:kinesis:us-west-2:085964654406:stream/dsoaws-kinesis-data-stream\n"
     ]
    }
   ],
   "source": [
    "stream_arn = stream_response['StreamDescription']['StreamARN']\n",
    "print(stream_arn)"
   ]
  },
  {
   "cell_type": "code",
   "execution_count": 10,
   "metadata": {},
   "outputs": [
    {
     "name": "stdout",
     "output_type": "stream",
     "text": [
      "Stored 'stream_arn' (str)\n"
     ]
    }
   ],
   "source": [
    "%store stream_arn"
   ]
  },
  {
   "cell_type": "markdown",
   "metadata": {},
   "source": [
    "# Review Kinesis Data Stream"
   ]
  },
  {
   "cell_type": "code",
   "execution_count": 11,
   "metadata": {},
   "outputs": [
    {
     "data": {
      "text/html": [
       "<b>Review <a target=\"blank\" href=\"https://console.aws.amazon.com/kinesis/home?region=us-west-2#/streams/details/dsoaws-kinesis-data-stream/details\"> Kinesis Data Stream</a></b>"
      ],
      "text/plain": [
       "<IPython.core.display.HTML object>"
      ]
     },
     "metadata": {},
     "output_type": "display_data"
    }
   ],
   "source": [
    "from IPython.core.display import display, HTML\n",
    "    \n",
    "display(HTML('<b>Review <a target=\"blank\" href=\"https://console.aws.amazon.com/kinesis/home?region={}#/streams/details/{}/details\"> Kinesis Data Stream</a></b>'.format(region, stream_name)))\n"
   ]
  },
  {
   "cell_type": "markdown",
   "metadata": {},
   "source": [
    "# Store Variables for the Next Notebooks"
   ]
  },
  {
   "cell_type": "code",
   "execution_count": 12,
   "metadata": {},
   "outputs": [
    {
     "name": "stdout",
     "output_type": "stream",
     "text": [
      "Stored variables and their in-db values:\n",
      "auto_ml_job_name                                      -> 'automl-dm-26-16-00-25'\n",
      "autopilot_endpoint_name                               -> 'automl-dm-ep-26-16-21-49'\n",
      "autopilot_train_s3_uri                                -> 's3://sagemaker-us-west-2-085964654406/data/amazon\n",
      "balance_dataset                                       -> True\n",
      "experiment_name                                       -> 'Amazon-Customer-Reviews-BERT-Experiment-160114585\n",
      "firehose_arn                                          -> 'arn:aws:firehose:us-west-2:085964654406:deliverys\n",
      "firehose_name                                         -> 'dsoaws-kinesis-data-firehose'\n",
      "iam_kinesis_role_name                                 -> 'DSOAWS_Kinesis'\n",
      "iam_kinesis_role_passed                               -> True\n",
      "iam_lambda_role_name                                  -> 'DSOAWS_Lambda'\n",
      "iam_lambda_role_passed                                -> True\n",
      "iam_role_kinesis_arn                                  -> 'arn:aws:iam::085964654406:role/DSOAWS_Kinesis'\n",
      "iam_role_lambda_arn                                   -> 'arn:aws:iam::085964654406:role/DSOAWS_Lambda'\n",
      "ingest_create_athena_db_passed                        -> True\n",
      "ingest_create_athena_table_parquet_passed             -> True\n",
      "ingest_create_athena_table_tsv_passed                 -> True\n",
      "lambda_fn_name                                        -> 'DeliverKinesisAnalyticsToCloudWatch'\n",
      "max_seq_length                                        -> 64\n",
      "prepare_trial_component_name                          -> 'TrialComponent-2020-09-26-184417-oahc'\n",
      "processed_test_data_s3_uri                            -> 's3://sagemaker-us-west-2-085964654406/sagemaker-s\n",
      "processed_train_data_s3_uri                           -> 's3://sagemaker-us-west-2-085964654406/sagemaker-s\n",
      "processed_validation_data_s3_uri                      -> 's3://sagemaker-us-west-2-085964654406/sagemaker-s\n",
      "processing_code_s3_prefix                             -> 'pipeline_sklearn_processing/1601151884/code'\n",
      "pytorch_endpoint_name                                 -> 'tensorflow-training-2020-09-26-18-44-25-975-pt-16\n",
      "pytorch_model_name                                    -> 'tensorflow-training-2020-09-26-18-44-25-975-pt-16\n",
      "raw_input_data_s3_uri                                 -> 's3://sagemaker-us-west-2-085964654406/amazon-revi\n",
      "s3_private_path_tsv                                   -> 's3://sagemaker-us-west-2-085964654406/amazon-revi\n",
      "s3_public_path_tsv                                    -> 's3://amazon-reviews-pds/tsv'\n",
      "setup_dependencies_passed                             -> True\n",
      "setup_iam_roles_passed                                -> True\n",
      "setup_instance_check_passed                           -> True\n",
      "setup_s3_bucket_passed                                -> True\n",
      "stepfunction_arn                                      -> 'arn:aws:states:us-west-2:085964654406:stateMachin\n",
      "stepfunction_name                                     -> 'training-pipeline-2020-09-26-20-24-49'\n",
      "stream_arn                                            -> 'arn:aws:kinesis:us-west-2:085964654406:stream/dso\n",
      "stream_name                                           -> 'dsoaws-kinesis-data-stream'\n",
      "tensorflow_endpoint_name                              -> 'tensorflow-training-2020-09-26-18-44-25-975-tf-16\n",
      "tensorflow_model_name                                 -> 'tensorflow-training-2020-09-26-18-44-25-975-tf-16\n",
      "test_split_percentage                                 -> 0.05\n",
      "train_split_percentage                                -> 0.9\n",
      "training_job_debugger_artifacts_path                  -> 's3://sagemaker-us-west-2-085964654406/tensorflow-\n",
      "training_job_name                                     -> 'tensorflow-training-2020-09-26-18-44-25-975'\n",
      "transformer_pytorch_model_name                        -> 'pytorch_model.bin'\n",
      "transformer_pytorch_model_s3_uri                      -> 's3://sagemaker-us-west-2-085964654406/models/tran\n",
      "trial_name                                            -> 'trial-1601145857'\n",
      "tuning_job_name                                       -> 'tensorflow-training-200926-1943'\n",
      "validation_split_percentage                           -> 0.05\n"
     ]
    }
   ],
   "source": [
    "%store"
   ]
  },
  {
   "cell_type": "code",
   "execution_count": 13,
   "metadata": {},
   "outputs": [],
   "source": [
    "%%javascript\n",
    "Jupyter.notebook.save_checkpoint();\n",
    "Jupyter.notebook.session.delete();"
   ]
  }
 ],
 "metadata": {
  "kernelspec": {
   "display_name": "conda_python3",
   "language": "python",
   "name": "conda_python3"
  },
  "language_info": {
   "codemirror_mode": {
    "name": "ipython",
    "version": 3
   },
   "file_extension": ".py",
   "mimetype": "text/x-python",
   "name": "python",
   "nbconvert_exporter": "python",
   "pygments_lexer": "ipython3",
   "version": "3.6.10"
  }
 },
 "nbformat": 4,
 "nbformat_minor": 4
}
