{
 "cells": [
  {
   "cell_type": "markdown",
   "metadata": {},
   "source": [
    "# Amazon Kinesis Data Firehose\n",
    "\n",
    "Amazon Kinesis Data Firehose is a fully managed service for delivering real-time streaming data to destinations such as Amazon S3, Amazon Redshift, Amazon Elasticsearch Service (Amazon ES), Splunk, and any custom HTTP endpoint. "
   ]
  },
  {
   "cell_type": "markdown",
   "metadata": {},
   "source": [
    "<img src=\"img/firehose_input_stream.png\" width=\"30%\" align=\"left\">"
   ]
  },
  {
   "cell_type": "code",
   "execution_count": 1,
   "metadata": {},
   "outputs": [],
   "source": [
    "import boto3\n",
    "import sagemaker\n",
    "import pandas as pd\n",
    "import json\n",
    "\n",
    "sess   = sagemaker.Session()\n",
    "bucket = sess.default_bucket()\n",
    "role = sagemaker.get_execution_role()\n",
    "region = boto3.Session().region_name\n",
    "\n",
    "sm = boto3.Session().client(service_name='sagemaker', region_name=region)\n",
    "firehose = boto3.Session().client(service_name='firehose', region_name=region)"
   ]
  },
  {
   "cell_type": "code",
   "execution_count": 2,
   "metadata": {},
   "outputs": [],
   "source": [
    "%store -r firehose_name"
   ]
  },
  {
   "cell_type": "code",
   "execution_count": 3,
   "metadata": {},
   "outputs": [],
   "source": [
    "try:\n",
    "    firehose_name\n",
    "except NameError:\n",
    "    print('+++++++++++++++++++++++++++++++')\n",
    "    print('[ERROR] Please run all previous notebooks in this section before you continue.')\n",
    "    print('+++++++++++++++++++++++++++++++')"
   ]
  },
  {
   "cell_type": "code",
   "execution_count": 4,
   "metadata": {},
   "outputs": [
    {
     "name": "stdout",
     "output_type": "stream",
     "text": [
      "dsoaws-kinesis-data-firehose\n"
     ]
    }
   ],
   "source": [
    "print(firehose_name)"
   ]
  },
  {
   "cell_type": "markdown",
   "metadata": {},
   "source": [
    "## Check IAM Roles Are In Place"
   ]
  },
  {
   "cell_type": "code",
   "execution_count": 5,
   "metadata": {},
   "outputs": [],
   "source": [
    "%store -r iam_kinesis_role_name"
   ]
  },
  {
   "cell_type": "code",
   "execution_count": 6,
   "metadata": {},
   "outputs": [],
   "source": [
    "try:\n",
    "    iam_kinesis_role_name\n",
    "except NameError:\n",
    "    print('+++++++++++++++++++++++++++++++')\n",
    "    print('[ERROR] Please run all previous notebooks in this section before you continue.')\n",
    "    print('+++++++++++++++++++++++++++++++')"
   ]
  },
  {
   "cell_type": "code",
   "execution_count": 7,
   "metadata": {},
   "outputs": [
    {
     "name": "stdout",
     "output_type": "stream",
     "text": [
      "DSOAWS_Kinesis\n"
     ]
    }
   ],
   "source": [
    "print(iam_kinesis_role_name)"
   ]
  },
  {
   "cell_type": "code",
   "execution_count": 8,
   "metadata": {},
   "outputs": [],
   "source": [
    "%store -r iam_role_kinesis_arn"
   ]
  },
  {
   "cell_type": "code",
   "execution_count": 9,
   "metadata": {},
   "outputs": [],
   "source": [
    "try:\n",
    "    iam_role_kinesis_arn\n",
    "except NameError:\n",
    "    print('+++++++++++++++++++++++++++++++')\n",
    "    print('[ERROR] Please run all previous notebooks in this section before you continue.')\n",
    "    print('+++++++++++++++++++++++++++++++')"
   ]
  },
  {
   "cell_type": "code",
   "execution_count": 10,
   "metadata": {},
   "outputs": [
    {
     "name": "stdout",
     "output_type": "stream",
     "text": [
      "arn:aws:iam::085964654406:role/DSOAWS_Kinesis\n"
     ]
    }
   ],
   "source": [
    "print(iam_role_kinesis_arn)"
   ]
  },
  {
   "cell_type": "code",
   "execution_count": 11,
   "metadata": {},
   "outputs": [],
   "source": [
    "%store -r iam_kinesis_role_passed"
   ]
  },
  {
   "cell_type": "code",
   "execution_count": 12,
   "metadata": {},
   "outputs": [],
   "source": [
    "try:\n",
    "    iam_kinesis_role_passed\n",
    "except NameError:\n",
    "    print('+++++++++++++++++++++++++++++++')\n",
    "    print('[ERROR] Please run all previous notebooks in this section before you continue.')\n",
    "    print('+++++++++++++++++++++++++++++++')"
   ]
  },
  {
   "cell_type": "code",
   "execution_count": 13,
   "metadata": {},
   "outputs": [
    {
     "name": "stdout",
     "output_type": "stream",
     "text": [
      "True\n"
     ]
    }
   ],
   "source": [
    "print(iam_kinesis_role_passed)"
   ]
  },
  {
   "cell_type": "code",
   "execution_count": 14,
   "metadata": {},
   "outputs": [
    {
     "name": "stdout",
     "output_type": "stream",
     "text": [
      "[OK]\n"
     ]
    }
   ],
   "source": [
    "if not iam_kinesis_role_passed:\n",
    "    print('+++++++++++++++++++++++++++++++')\n",
    "    print('[ERROR] Please run all previous notebooks in this section before you continue.')\n",
    "    print('+++++++++++++++++++++++++++++++')\n",
    "else:\n",
    "    print('[OK]')"
   ]
  },
  {
   "cell_type": "markdown",
   "metadata": {},
   "source": [
    "# Create a Kinesis Data Firehose Delivery Stream"
   ]
  },
  {
   "cell_type": "code",
   "execution_count": 15,
   "metadata": {},
   "outputs": [
    {
     "name": "stdout",
     "output_type": "stream",
     "text": [
      "Delivery stream dsoaws-kinesis-data-firehose successfully created.\n",
      "{\n",
      "    \"DeliveryStreamARN\": \"arn:aws:firehose:us-west-2:085964654406:deliverystream/dsoaws-kinesis-data-firehose\",\n",
      "    \"ResponseMetadata\": {\n",
      "        \"HTTPHeaders\": {\n",
      "            \"content-length\": \"107\",\n",
      "            \"content-type\": \"application/x-amz-json-1.1\",\n",
      "            \"date\": \"Sat, 26 Sep 2020 20:39:07 GMT\",\n",
      "            \"x-amz-id-2\": \"YmwJR6ybI7lemWn7rPpw2uKqm+RFk2NCipL0OBXsJxzl287Vtu7rnSewgohXQu92VnHF6ofwNW3G9xQ7TZv7rh/IBeLclnb7\",\n",
      "            \"x-amzn-requestid\": \"ea0bad80-dc7a-029e-bde2-04abaa80ff4b\"\n",
      "        },\n",
      "        \"HTTPStatusCode\": 200,\n",
      "        \"RequestId\": \"ea0bad80-dc7a-029e-bde2-04abaa80ff4b\",\n",
      "        \"RetryAttempts\": 0\n",
      "    }\n",
      "}\n"
     ]
    }
   ],
   "source": [
    "from botocore.exceptions import ClientError\n",
    "\n",
    "try: \n",
    "    response = firehose.create_delivery_stream(\n",
    "        DeliveryStreamName=firehose_name,\n",
    "        DeliveryStreamType='DirectPut',\n",
    "        S3DestinationConfiguration={\n",
    "            'RoleARN': iam_role_kinesis_arn,\n",
    "            'BucketARN': 'arn:aws:s3:::{}'.format(bucket),\n",
    "            'Prefix': 'kinesis-data-firehose',        \n",
    "        }\n",
    "    )\n",
    "    print('Delivery stream {} successfully created.'.format(firehose_name))\n",
    "    print(json.dumps(response, indent=4, sort_keys=True, default=str))\n",
    "except ClientError as e:\n",
    "    if e.response['Error']['Code'] == 'ResourceInUseException':\n",
    "        print('Delivery stream {} already exists.'.format(firehose_name))\n",
    "    else:\n",
    "        print('Unexpected error: %s' % e)\n",
    "    "
   ]
  },
  {
   "cell_type": "code",
   "execution_count": 16,
   "metadata": {},
   "outputs": [
    {
     "name": "stdout",
     "output_type": "stream",
     "text": [
      "Delivery Stream dsoaws-kinesis-data-firehose is active\n"
     ]
    }
   ],
   "source": [
    "import time\n",
    "\n",
    "status = ''\n",
    "while status != 'ACTIVE':    \n",
    "    r = firehose.describe_delivery_stream(DeliveryStreamName=firehose_name)\n",
    "    description = r.get('DeliveryStreamDescription')\n",
    "    status = description.get('DeliveryStreamStatus')\n",
    "    time.sleep(5)\n",
    "    \n",
    "print('Delivery Stream {} is active'.format(firehose_name))"
   ]
  },
  {
   "cell_type": "markdown",
   "metadata": {},
   "source": [
    "## _This may take 1-2 minutes.  Please be patient._"
   ]
  },
  {
   "cell_type": "code",
   "execution_count": 17,
   "metadata": {},
   "outputs": [
    {
     "name": "stdout",
     "output_type": "stream",
     "text": [
      "ACTIVE\n",
      "\n",
      "{\n",
      "    \"CreateTimestamp\": \"2020-09-26 20:39:08.017000+00:00\",\n",
      "    \"DeliveryStreamARN\": \"arn:aws:firehose:us-west-2:085964654406:deliverystream/dsoaws-kinesis-data-firehose\",\n",
      "    \"DeliveryStreamEncryptionConfiguration\": {\n",
      "        \"Status\": \"DISABLED\"\n",
      "    },\n",
      "    \"DeliveryStreamName\": \"dsoaws-kinesis-data-firehose\",\n",
      "    \"DeliveryStreamStatus\": \"ACTIVE\",\n",
      "    \"DeliveryStreamType\": \"DirectPut\",\n",
      "    \"Destinations\": [\n",
      "        {\n",
      "            \"DestinationId\": \"destinationId-000000000001\",\n",
      "            \"ExtendedS3DestinationDescription\": {\n",
      "                \"BucketARN\": \"arn:aws:s3:::sagemaker-us-west-2-085964654406\",\n",
      "                \"BufferingHints\": {\n",
      "                    \"IntervalInSeconds\": 300,\n",
      "                    \"SizeInMBs\": 5\n",
      "                },\n",
      "                \"CloudWatchLoggingOptions\": {\n",
      "                    \"Enabled\": false\n",
      "                },\n",
      "                \"CompressionFormat\": \"UNCOMPRESSED\",\n",
      "                \"EncryptionConfiguration\": {\n",
      "                    \"NoEncryptionConfig\": \"NoEncryption\"\n",
      "                },\n",
      "                \"Prefix\": \"kinesis-data-firehose\",\n",
      "                \"RoleARN\": \"arn:aws:iam::085964654406:role/DSOAWS_Kinesis\",\n",
      "                \"S3BackupMode\": \"Disabled\"\n",
      "            },\n",
      "            \"S3DestinationDescription\": {\n",
      "                \"BucketARN\": \"arn:aws:s3:::sagemaker-us-west-2-085964654406\",\n",
      "                \"BufferingHints\": {\n",
      "                    \"IntervalInSeconds\": 300,\n",
      "                    \"SizeInMBs\": 5\n",
      "                },\n",
      "                \"CloudWatchLoggingOptions\": {\n",
      "                    \"Enabled\": false\n",
      "                },\n",
      "                \"CompressionFormat\": \"UNCOMPRESSED\",\n",
      "                \"EncryptionConfiguration\": {\n",
      "                    \"NoEncryptionConfig\": \"NoEncryption\"\n",
      "                },\n",
      "                \"Prefix\": \"kinesis-data-firehose\",\n",
      "                \"RoleARN\": \"arn:aws:iam::085964654406:role/DSOAWS_Kinesis\"\n",
      "            }\n",
      "        }\n",
      "    ],\n",
      "    \"HasMoreDestinations\": false,\n",
      "    \"VersionId\": \"1\"\n",
      "}\n"
     ]
    }
   ],
   "source": [
    "r = firehose.describe_delivery_stream(DeliveryStreamName=firehose_name)\n",
    "\n",
    "status = description.get('DeliveryStreamStatus')\n",
    "print(status)\n",
    "\n",
    "print()\n",
    "\n",
    "description = r.get('DeliveryStreamDescription')\n",
    "print(json.dumps(description, indent=4, sort_keys=True, default=str))"
   ]
  },
  {
   "cell_type": "code",
   "execution_count": 18,
   "metadata": {},
   "outputs": [
    {
     "name": "stdout",
     "output_type": "stream",
     "text": [
      "arn:aws:firehose:us-west-2:085964654406:deliverystream/dsoaws-kinesis-data-firehose\n"
     ]
    }
   ],
   "source": [
    "firehose_arn = r['DeliveryStreamDescription']['DeliveryStreamARN']\n",
    "print(firehose_arn)"
   ]
  },
  {
   "cell_type": "code",
   "execution_count": 19,
   "metadata": {},
   "outputs": [
    {
     "name": "stdout",
     "output_type": "stream",
     "text": [
      "Stored 'firehose_arn' (str)\n"
     ]
    }
   ],
   "source": [
    "%store firehose_arn"
   ]
  },
  {
   "cell_type": "markdown",
   "metadata": {},
   "source": [
    "# Review Kinesis Data Firehose Delivery Stream"
   ]
  },
  {
   "cell_type": "code",
   "execution_count": 20,
   "metadata": {},
   "outputs": [
    {
     "data": {
      "text/html": [
       "<b>Review <a target=\"blank\" href=\"https://console.aws.amazon.com/firehose/home?region=us-west-2#/details/dsoaws-kinesis-data-firehose/details\"> Firehose</a></b>"
      ],
      "text/plain": [
       "<IPython.core.display.HTML object>"
      ]
     },
     "metadata": {},
     "output_type": "display_data"
    }
   ],
   "source": [
    "from IPython.core.display import display, HTML\n",
    "    \n",
    "display(HTML('<b>Review <a target=\"blank\" href=\"https://console.aws.amazon.com/firehose/home?region={}#/details/{}/details\"> Firehose</a></b>'.format(region, firehose_name)))\n"
   ]
  },
  {
   "cell_type": "markdown",
   "metadata": {},
   "source": [
    "# Store Variables for the Next Notebooks"
   ]
  },
  {
   "cell_type": "code",
   "execution_count": 21,
   "metadata": {},
   "outputs": [
    {
     "name": "stdout",
     "output_type": "stream",
     "text": [
      "Stored variables and their in-db values:\n",
      "auto_ml_job_name                                      -> 'automl-dm-26-16-00-25'\n",
      "autopilot_endpoint_name                               -> 'automl-dm-ep-26-16-21-49'\n",
      "autopilot_train_s3_uri                                -> 's3://sagemaker-us-west-2-085964654406/data/amazon\n",
      "balance_dataset                                       -> True\n",
      "experiment_name                                       -> 'Amazon-Customer-Reviews-BERT-Experiment-160114585\n",
      "firehose_arn                                          -> 'arn:aws:firehose:us-west-2:085964654406:deliverys\n",
      "firehose_name                                         -> 'dsoaws-kinesis-data-firehose'\n",
      "iam_kinesis_role_name                                 -> 'DSOAWS_Kinesis'\n",
      "iam_kinesis_role_passed                               -> True\n",
      "iam_lambda_role_name                                  -> 'DSOAWS_Lambda'\n",
      "iam_lambda_role_passed                                -> True\n",
      "iam_role_kinesis_arn                                  -> 'arn:aws:iam::085964654406:role/DSOAWS_Kinesis'\n",
      "iam_role_lambda_arn                                   -> 'arn:aws:iam::085964654406:role/DSOAWS_Lambda'\n",
      "ingest_create_athena_db_passed                        -> True\n",
      "ingest_create_athena_table_parquet_passed             -> True\n",
      "ingest_create_athena_table_tsv_passed                 -> True\n",
      "lambda_fn_name                                        -> 'DeliverKinesisAnalyticsToCloudWatch'\n",
      "max_seq_length                                        -> 64\n",
      "prepare_trial_component_name                          -> 'TrialComponent-2020-09-26-184417-oahc'\n",
      "processed_test_data_s3_uri                            -> 's3://sagemaker-us-west-2-085964654406/sagemaker-s\n",
      "processed_train_data_s3_uri                           -> 's3://sagemaker-us-west-2-085964654406/sagemaker-s\n",
      "processed_validation_data_s3_uri                      -> 's3://sagemaker-us-west-2-085964654406/sagemaker-s\n",
      "processing_code_s3_prefix                             -> 'pipeline_sklearn_processing/1601151884/code'\n",
      "pytorch_endpoint_name                                 -> 'tensorflow-training-2020-09-26-18-44-25-975-pt-16\n",
      "pytorch_model_name                                    -> 'tensorflow-training-2020-09-26-18-44-25-975-pt-16\n",
      "raw_input_data_s3_uri                                 -> 's3://sagemaker-us-west-2-085964654406/amazon-revi\n",
      "s3_private_path_tsv                                   -> 's3://sagemaker-us-west-2-085964654406/amazon-revi\n",
      "s3_public_path_tsv                                    -> 's3://amazon-reviews-pds/tsv'\n",
      "setup_dependencies_passed                             -> True\n",
      "setup_iam_roles_passed                                -> True\n",
      "setup_instance_check_passed                           -> True\n",
      "setup_s3_bucket_passed                                -> True\n",
      "stepfunction_arn                                      -> 'arn:aws:states:us-west-2:085964654406:stateMachin\n",
      "stepfunction_name                                     -> 'training-pipeline-2020-09-26-20-24-49'\n",
      "stream_name                                           -> 'dsoaws-kinesis-data-stream'\n",
      "tensorflow_endpoint_name                              -> 'tensorflow-training-2020-09-26-18-44-25-975-tf-16\n",
      "tensorflow_model_name                                 -> 'tensorflow-training-2020-09-26-18-44-25-975-tf-16\n",
      "test_split_percentage                                 -> 0.05\n",
      "train_split_percentage                                -> 0.9\n",
      "training_job_debugger_artifacts_path                  -> 's3://sagemaker-us-west-2-085964654406/tensorflow-\n",
      "training_job_name                                     -> 'tensorflow-training-2020-09-26-18-44-25-975'\n",
      "transformer_pytorch_model_name                        -> 'pytorch_model.bin'\n",
      "transformer_pytorch_model_s3_uri                      -> 's3://sagemaker-us-west-2-085964654406/models/tran\n",
      "trial_name                                            -> 'trial-1601145857'\n",
      "tuning_job_name                                       -> 'tensorflow-training-200926-1943'\n",
      "validation_split_percentage                           -> 0.05\n"
     ]
    }
   ],
   "source": [
    "%store"
   ]
  },
  {
   "cell_type": "code",
   "execution_count": null,
   "metadata": {},
   "outputs": [],
   "source": [
    "%%javascript\n",
    "Jupyter.notebook.save_checkpoint();\n",
    "Jupyter.notebook.session.delete();"
   ]
  }
 ],
 "metadata": {
  "kernelspec": {
   "display_name": "conda_python3",
   "language": "python",
   "name": "conda_python3"
  },
  "language_info": {
   "codemirror_mode": {
    "name": "ipython",
    "version": 3
   },
   "file_extension": ".py",
   "mimetype": "text/x-python",
   "name": "python",
   "nbconvert_exporter": "python",
   "pygments_lexer": "ipython3",
   "version": "3.6.10"
  }
 },
 "nbformat": 4,
 "nbformat_minor": 4
}
