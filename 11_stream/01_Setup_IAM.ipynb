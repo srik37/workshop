{
 "cells": [
  {
   "cell_type": "markdown",
   "metadata": {},
   "source": [
    "# Setup IAM for Kinesis"
   ]
  },
  {
   "cell_type": "code",
   "execution_count": 1,
   "metadata": {},
   "outputs": [],
   "source": [
    "import boto3\n",
    "import sagemaker\n",
    "import pandas as pd\n",
    "\n",
    "sess   = sagemaker.Session()\n",
    "bucket = sess.default_bucket()\n",
    "role = sagemaker.get_execution_role()\n",
    "region = boto3.Session().region_name\n",
    "\n",
    "sts = boto3.Session().client(service_name='sts', region_name=region)\n",
    "iam = boto3.Session().client(service_name='iam', region_name=region)"
   ]
  },
  {
   "cell_type": "markdown",
   "metadata": {},
   "source": [
    "# Create Kinesis Role"
   ]
  },
  {
   "cell_type": "code",
   "execution_count": 2,
   "metadata": {},
   "outputs": [],
   "source": [
    "iam_kinesis_role_name = 'DSOAWS_Kinesis'"
   ]
  },
  {
   "cell_type": "code",
   "execution_count": 3,
   "metadata": {},
   "outputs": [],
   "source": [
    "iam_kinesis_role_passed = False"
   ]
  },
  {
   "cell_type": "code",
   "execution_count": 4,
   "metadata": {},
   "outputs": [],
   "source": [
    "assume_role_policy_doc = {\n",
    "  \"Version\": \"2012-10-17\",\n",
    "  \"Statement\": [\n",
    "    {\n",
    "      \"Effect\": \"Allow\",\n",
    "      \"Principal\": {\n",
    "        \"Service\": \"kinesis.amazonaws.com\"\n",
    "      },\n",
    "      \"Action\": \"sts:AssumeRole\"\n",
    "    },\n",
    "    {\n",
    "      \"Effect\": \"Allow\",\n",
    "      \"Principal\": {\n",
    "        \"Service\": \"firehose.amazonaws.com\"\n",
    "      },\n",
    "      \"Action\": \"sts:AssumeRole\"\n",
    "    },\n",
    "    {\n",
    "      \"Effect\": \"Allow\",\n",
    "      \"Principal\": {\n",
    "        \"Service\": \"kinesisanalytics.amazonaws.com\"\n",
    "      },\n",
    "      \"Action\": \"sts:AssumeRole\"\n",
    "    }            \n",
    "  ]\n",
    "} "
   ]
  },
  {
   "cell_type": "code",
   "execution_count": 5,
   "metadata": {},
   "outputs": [
    {
     "name": "stdout",
     "output_type": "stream",
     "text": [
      "Role succesfully created.\n"
     ]
    }
   ],
   "source": [
    "import json\n",
    "import time\n",
    "\n",
    "from botocore.exceptions import ClientError\n",
    "\n",
    "try:\n",
    "    iam_role_kinesis = iam.create_role(\n",
    "        RoleName=iam_kinesis_role_name,\n",
    "        AssumeRolePolicyDocument=json.dumps(assume_role_policy_doc),\n",
    "        Description='DSOAWS Kinesis Role'\n",
    "    )\n",
    "    print('Role succesfully created.')\n",
    "    iam_kinesis_role_passed = True\n",
    "except ClientError as e:\n",
    "    if e.response['Error']['Code'] == 'EntityAlreadyExists':\n",
    "        iam_role_kinesis = iam.get_role(RoleName=iam_kinesis_role_name)\n",
    "        print('Role already exists. That is OK.')\n",
    "        iam_kinesis_role_passed = True\n",
    "    else:\n",
    "        print('Unexpected error: %s' % e)\n",
    "        \n",
    "time.sleep(30)"
   ]
  },
  {
   "cell_type": "code",
   "execution_count": 6,
   "metadata": {},
   "outputs": [
    {
     "name": "stdout",
     "output_type": "stream",
     "text": [
      "Role Name: DSOAWS_Kinesis\n"
     ]
    }
   ],
   "source": [
    "iam_role_kinesis_name = iam_role_kinesis['Role']['RoleName']\n",
    "print('Role Name: {}'.format(iam_role_kinesis_name))"
   ]
  },
  {
   "cell_type": "code",
   "execution_count": 7,
   "metadata": {},
   "outputs": [
    {
     "name": "stdout",
     "output_type": "stream",
     "text": [
      "Role ARN: arn:aws:iam::085964654406:role/DSOAWS_Kinesis\n"
     ]
    }
   ],
   "source": [
    "iam_role_kinesis_arn = iam_role_kinesis['Role']['Arn']\n",
    "print('Role ARN: {}'.format(iam_role_kinesis_arn))"
   ]
  },
  {
   "cell_type": "code",
   "execution_count": 8,
   "metadata": {},
   "outputs": [],
   "source": [
    "account_id = sts.get_caller_identity()['Account']"
   ]
  },
  {
   "cell_type": "markdown",
   "metadata": {},
   "source": [
    "# Specify Stream Name"
   ]
  },
  {
   "cell_type": "code",
   "execution_count": 9,
   "metadata": {},
   "outputs": [],
   "source": [
    "stream_name = 'dsoaws-kinesis-data-stream'"
   ]
  },
  {
   "cell_type": "markdown",
   "metadata": {},
   "source": [
    "# Specify Firehose Name"
   ]
  },
  {
   "cell_type": "code",
   "execution_count": 10,
   "metadata": {},
   "outputs": [],
   "source": [
    "firehose_name = 'dsoaws-kinesis-data-firehose'"
   ]
  },
  {
   "cell_type": "markdown",
   "metadata": {},
   "source": [
    "# Specify Lambda Function Name"
   ]
  },
  {
   "cell_type": "code",
   "execution_count": 11,
   "metadata": {},
   "outputs": [],
   "source": [
    "lambda_fn_name = 'DeliverKinesisAnalyticsToCloudWatch'"
   ]
  },
  {
   "cell_type": "markdown",
   "metadata": {},
   "source": [
    "# Create Policy"
   ]
  },
  {
   "cell_type": "code",
   "execution_count": 12,
   "metadata": {
    "scrolled": true
   },
   "outputs": [
    {
     "name": "stdout",
     "output_type": "stream",
     "text": [
      "{\n",
      "    \"Statement\": [\n",
      "        {\n",
      "            \"Action\": [\n",
      "                \"s3:AbortMultipartUpload\",\n",
      "                \"s3:GetBucketLocation\",\n",
      "                \"s3:GetObject\",\n",
      "                \"s3:ListBucket\",\n",
      "                \"s3:ListBucketMultipartUploads\",\n",
      "                \"s3:PutObject\"\n",
      "            ],\n",
      "            \"Effect\": \"Allow\",\n",
      "            \"Resource\": [\n",
      "                \"arn:aws:s3:::sagemaker-us-west-2-085964654406/kinesis-data-firehose\",\n",
      "                \"arn:aws:s3:::sagemaker-us-west-2-085964654406/kinesis-data-firehose/*\"\n",
      "            ]\n",
      "        },\n",
      "        {\n",
      "            \"Action\": [\n",
      "                \"logs:PutLogEvents\"\n",
      "            ],\n",
      "            \"Effect\": \"Allow\",\n",
      "            \"Resource\": [\n",
      "                \"arn:aws:logs:us-west-2:085964654406:log-group:/*\"\n",
      "            ]\n",
      "        },\n",
      "        {\n",
      "            \"Action\": [\n",
      "                \"kinesis:Get*\",\n",
      "                \"kinesis:DescribeStream\",\n",
      "                \"kinesis:Put*\",\n",
      "                \"kinesis:List*\"\n",
      "            ],\n",
      "            \"Effect\": \"Allow\",\n",
      "            \"Resource\": [\n",
      "                \"arn:aws:kinesis:us-west-2:085964654406:stream/dsoaws-kinesis-data-stream\"\n",
      "            ]\n",
      "        },\n",
      "        {\n",
      "            \"Action\": [\n",
      "                \"firehose:*\"\n",
      "            ],\n",
      "            \"Effect\": \"Allow\",\n",
      "            \"Resource\": [\n",
      "                \"arn:aws:firehose:us-west-2:085964654406:deliverystream/dsoaws-kinesis-data-firehose\"\n",
      "            ]\n",
      "        },\n",
      "        {\n",
      "            \"Action\": [\n",
      "                \"kinesisanalytics:*\"\n",
      "            ],\n",
      "            \"Effect\": \"Allow\",\n",
      "            \"Resource\": [\n",
      "                \"*\"\n",
      "            ]\n",
      "        },\n",
      "        {\n",
      "            \"Action\": [\n",
      "                \"lambda:InvokeFunction\",\n",
      "                \"lambda:GetFunctionConfiguration\"\n",
      "            ],\n",
      "            \"Effect\": \"Allow\",\n",
      "            \"Resource\": \"arn:aws:lambda:us-west-2:085964654406:function:DeliverKinesisAnalyticsToCloudWatch:$LATEST\",\n",
      "            \"Sid\": \"UseLambdaFunction\"\n",
      "        },\n",
      "        {\n",
      "            \"Action\": \"iam:PassRole\",\n",
      "            \"Effect\": \"Allow\",\n",
      "            \"Resource\": \"arn:aws:iam::*:role/service-role/kinesis-analytics*\"\n",
      "        }\n",
      "    ],\n",
      "    \"Version\": \"2012-10-17\"\n",
      "}\n"
     ]
    }
   ],
   "source": [
    "kinesis_policy_doc = {\n",
    "    \n",
    "    \"Version\": \"2012-10-17\",\n",
    "    \"Statement\": [\n",
    "        {      \n",
    "            \"Effect\": \"Allow\",      \n",
    "            \"Action\": [\n",
    "                \"s3:AbortMultipartUpload\",\n",
    "                \"s3:GetBucketLocation\",\n",
    "                \"s3:GetObject\",\n",
    "                \"s3:ListBucket\",\n",
    "                \"s3:ListBucketMultipartUploads\",\n",
    "                \"s3:PutObject\"\n",
    "            ],      \n",
    "            \"Resource\": [        \n",
    "                \"arn:aws:s3:::{}/kinesis-data-firehose\".format(bucket),\n",
    "                \"arn:aws:s3:::{}/kinesis-data-firehose/*\".format(bucket)\n",
    "            ]    \n",
    "        },\n",
    "        {\n",
    "            \"Effect\": \"Allow\",\n",
    "            \"Action\": [\n",
    "                \"logs:PutLogEvents\"\n",
    "            ],\n",
    "            \"Resource\": [\n",
    "                \"arn:aws:logs:{}:{}:log-group:/*\".format(region, account_id)\n",
    "            ]\n",
    "        },\n",
    "        {\n",
    "            \"Effect\": \"Allow\",\n",
    "            \"Action\": [\n",
    "                \"kinesis:Get*\",\n",
    "                \"kinesis:DescribeStream\",\n",
    "                \"kinesis:Put*\",\n",
    "                \"kinesis:List*\",\n",
    "            ],\n",
    "            \"Resource\": [\n",
    "                \"arn:aws:kinesis:{}:{}:stream/{}\".format(region, account_id, stream_name)\n",
    "            ]\n",
    "        },\n",
    "        {\n",
    "            \"Effect\": \"Allow\",\n",
    "            \"Action\": [\n",
    "                \"firehose:*\",\n",
    "            ],\n",
    "            \"Resource\": [\n",
    "                \"arn:aws:firehose:{}:{}:deliverystream/{}\".format(region, account_id, firehose_name)\n",
    "            ]\n",
    "        },\n",
    "        {\n",
    "            \"Effect\": \"Allow\",\n",
    "            \"Action\": [\n",
    "                \"kinesisanalytics:*\",\n",
    "            ],\n",
    "            \"Resource\": [\n",
    "                \"*\"\n",
    "            ]\n",
    "        },\n",
    "        {\n",
    "            \"Sid\": \"UseLambdaFunction\",\n",
    "            \"Effect\": \"Allow\",\n",
    "            \"Action\": [\n",
    "                \"lambda:InvokeFunction\",\n",
    "                \"lambda:GetFunctionConfiguration\"\n",
    "            ],\n",
    "            \"Resource\": \"arn:aws:lambda:{}:{}:function:{}:$LATEST\".format(region, account_id, lambda_fn_name)\n",
    "        },\n",
    "        {\n",
    "            \"Effect\": \"Allow\",\n",
    "            \"Action\": \"iam:PassRole\",\n",
    "            \"Resource\": \"arn:aws:iam::*:role/service-role/kinesis-analytics*\"\n",
    "        }\n",
    "    ]\n",
    "}\n",
    "\n",
    "print(json.dumps(kinesis_policy_doc, indent=4, sort_keys=True, default=str))"
   ]
  },
  {
   "cell_type": "markdown",
   "metadata": {},
   "source": [
    "# Update Policy"
   ]
  },
  {
   "cell_type": "code",
   "execution_count": 13,
   "metadata": {},
   "outputs": [],
   "source": [
    "import time\n",
    "\n",
    "response = iam.put_role_policy(\n",
    "    RoleName=iam_role_kinesis_name,\n",
    "    PolicyName='DSOAWS_KinesisPolicy',\n",
    "    PolicyDocument=json.dumps(kinesis_policy_doc)\n",
    ")\n",
    "\n",
    "time.sleep(30)"
   ]
  },
  {
   "cell_type": "code",
   "execution_count": 14,
   "metadata": {},
   "outputs": [
    {
     "name": "stdout",
     "output_type": "stream",
     "text": [
      "{\n",
      "    \"ResponseMetadata\": {\n",
      "        \"HTTPHeaders\": {\n",
      "            \"content-length\": \"206\",\n",
      "            \"content-type\": \"text/xml\",\n",
      "            \"date\": \"Sat, 26 Sep 2020 20:28:44 GMT\",\n",
      "            \"x-amzn-requestid\": \"99f32939-75d7-4cca-9e6b-675e7503b973\"\n",
      "        },\n",
      "        \"HTTPStatusCode\": 200,\n",
      "        \"RequestId\": \"99f32939-75d7-4cca-9e6b-675e7503b973\",\n",
      "        \"RetryAttempts\": 0\n",
      "    }\n",
      "}\n"
     ]
    }
   ],
   "source": [
    "print(json.dumps(response, indent=4, sort_keys=True, default=str))"
   ]
  },
  {
   "cell_type": "markdown",
   "metadata": {},
   "source": [
    "# Create AWS Lambda IAM Role"
   ]
  },
  {
   "cell_type": "code",
   "execution_count": 15,
   "metadata": {},
   "outputs": [],
   "source": [
    "iam_lambda_role_name = 'DSOAWS_Lambda'"
   ]
  },
  {
   "cell_type": "code",
   "execution_count": 16,
   "metadata": {},
   "outputs": [],
   "source": [
    "iam_lambda_role_passed = False"
   ]
  },
  {
   "cell_type": "code",
   "execution_count": 17,
   "metadata": {},
   "outputs": [],
   "source": [
    "assume_role_policy_doc = {\n",
    "    \"Version\": \"2012-10-17\",\n",
    "    \"Statement\": [\n",
    "        {\n",
    "            \"Effect\": \"Allow\",\n",
    "            \"Principal\": {\n",
    "                \"Service\": \"lambda.amazonaws.com\"\n",
    "            },\n",
    "            \"Action\": \"sts:AssumeRole\"\n",
    "        },\n",
    "        {\n",
    "            \"Effect\": \"Allow\",\n",
    "            \"Principal\": {\n",
    "                \"Service\": \"kinesisanalytics.amazonaws.com\"\n",
    "        },\n",
    "            \"Action\": \"sts:AssumeRole\"\n",
    "        }\n",
    "    ]\n",
    "}"
   ]
  },
  {
   "cell_type": "code",
   "execution_count": 18,
   "metadata": {},
   "outputs": [
    {
     "name": "stdout",
     "output_type": "stream",
     "text": [
      "Role succesfully created.\n"
     ]
    }
   ],
   "source": [
    "import time\n",
    "\n",
    "from botocore.exceptions import ClientError\n",
    "\n",
    "try:\n",
    "    iam_role_lambda = iam.create_role(\n",
    "        RoleName=iam_lambda_role_name,\n",
    "        AssumeRolePolicyDocument=json.dumps(assume_role_policy_doc),\n",
    "        Description='DSOAWS Lambda Role'\n",
    "    )\n",
    "    print('Role succesfully created.')\n",
    "    iam_lambda_role_passed = True\n",
    "except ClientError as e:\n",
    "    if e.response['Error']['Code'] == 'EntityAlreadyExists':\n",
    "        iam_role_lambda = iam.get_role(RoleName=iam_lambda_role_name)\n",
    "        print('Role already exists. This is OK.')\n",
    "        iam_lambda_role_passed = True\n",
    "    else:\n",
    "        print('Unexpected error: %s' % e)\n",
    "        \n",
    "time.sleep(30)"
   ]
  },
  {
   "cell_type": "code",
   "execution_count": 19,
   "metadata": {},
   "outputs": [
    {
     "name": "stdout",
     "output_type": "stream",
     "text": [
      "Role Name: DSOAWS_Lambda\n"
     ]
    }
   ],
   "source": [
    "iam_role_lambda_name = iam_role_lambda['Role']['RoleName']\n",
    "print('Role Name: {}'.format(iam_role_lambda_name))"
   ]
  },
  {
   "cell_type": "code",
   "execution_count": 20,
   "metadata": {},
   "outputs": [
    {
     "name": "stdout",
     "output_type": "stream",
     "text": [
      "Role ARN: arn:aws:iam::085964654406:role/DSOAWS_Lambda\n"
     ]
    }
   ],
   "source": [
    "iam_role_lambda_arn = iam_role_lambda['Role']['Arn']\n",
    "print('Role ARN: {}'.format(iam_role_lambda_arn))"
   ]
  },
  {
   "cell_type": "markdown",
   "metadata": {},
   "source": [
    "# Create AWS Lambda IAM Policy"
   ]
  },
  {
   "cell_type": "code",
   "execution_count": 21,
   "metadata": {},
   "outputs": [],
   "source": [
    "lambda_policy_doc = {\n",
    "    \"Version\": \"2012-10-17\",\n",
    "    \"Statement\": [\n",
    "        {\n",
    "            \"Sid\": \"UseLambdaFunction\",\n",
    "            \"Effect\": \"Allow\",\n",
    "            \"Action\": [\n",
    "                \"lambda:InvokeFunction\",\n",
    "                \"lambda:GetFunctionConfiguration\"\n",
    "            ],\n",
    "            \"Resource\": \"arn:aws:lambda:{}:{}:function:*\".format(region, account_id)\n",
    "        },\n",
    "        {\n",
    "            \"Effect\": \"Allow\",\n",
    "            \"Action\": \"cloudwatch:*\",\n",
    "            \"Resource\": \"*\"\n",
    "        },\n",
    "        {\n",
    "            \"Effect\": \"Allow\",\n",
    "            \"Action\": \"logs:CreateLogGroup\",\n",
    "            \"Resource\": \"arn:aws:logs:{}:{}:*\".format(region, account_id)\n",
    "        },\n",
    "        {\n",
    "            \"Effect\": \"Allow\",\n",
    "            \"Action\": [\n",
    "                \"logs:CreateLogStream\",\n",
    "                \"logs:PutLogEvents\"\n",
    "            ],\n",
    "            \"Resource\": \"arn:aws:logs:{}:{}:log-group:/aws/lambda/*\".format(region, account_id)\n",
    "        }\n",
    "    ]\n",
    "}"
   ]
  },
  {
   "cell_type": "code",
   "execution_count": 22,
   "metadata": {},
   "outputs": [
    {
     "name": "stdout",
     "output_type": "stream",
     "text": [
      "{\n",
      "    \"Statement\": [\n",
      "        {\n",
      "            \"Action\": [\n",
      "                \"lambda:InvokeFunction\",\n",
      "                \"lambda:GetFunctionConfiguration\"\n",
      "            ],\n",
      "            \"Effect\": \"Allow\",\n",
      "            \"Resource\": \"arn:aws:lambda:us-west-2:085964654406:function:*\",\n",
      "            \"Sid\": \"UseLambdaFunction\"\n",
      "        },\n",
      "        {\n",
      "            \"Action\": \"cloudwatch:*\",\n",
      "            \"Effect\": \"Allow\",\n",
      "            \"Resource\": \"*\"\n",
      "        },\n",
      "        {\n",
      "            \"Action\": \"logs:CreateLogGroup\",\n",
      "            \"Effect\": \"Allow\",\n",
      "            \"Resource\": \"arn:aws:logs:us-west-2:085964654406:*\"\n",
      "        },\n",
      "        {\n",
      "            \"Action\": [\n",
      "                \"logs:CreateLogStream\",\n",
      "                \"logs:PutLogEvents\"\n",
      "            ],\n",
      "            \"Effect\": \"Allow\",\n",
      "            \"Resource\": \"arn:aws:logs:us-west-2:085964654406:log-group:/aws/lambda/*\"\n",
      "        }\n",
      "    ],\n",
      "    \"Version\": \"2012-10-17\"\n",
      "}\n"
     ]
    }
   ],
   "source": [
    "print(json.dumps(lambda_policy_doc, indent=4, sort_keys=True, default=str))"
   ]
  },
  {
   "cell_type": "code",
   "execution_count": 23,
   "metadata": {},
   "outputs": [],
   "source": [
    "import time\n",
    "\n",
    "response = iam.put_role_policy(\n",
    "    RoleName=iam_role_lambda_name,\n",
    "    PolicyName='DSOAWS_LambdaPolicy',\n",
    "    PolicyDocument=json.dumps(lambda_policy_doc)\n",
    ")\n",
    "\n",
    "time.sleep(30)"
   ]
  },
  {
   "cell_type": "code",
   "execution_count": 24,
   "metadata": {},
   "outputs": [
    {
     "name": "stdout",
     "output_type": "stream",
     "text": [
      "{\n",
      "    \"ResponseMetadata\": {\n",
      "        \"HTTPHeaders\": {\n",
      "            \"content-length\": \"206\",\n",
      "            \"content-type\": \"text/xml\",\n",
      "            \"date\": \"Sat, 26 Sep 2020 20:29:44 GMT\",\n",
      "            \"x-amzn-requestid\": \"e05c6342-2335-4033-a358-1e8c761a19ec\"\n",
      "        },\n",
      "        \"HTTPStatusCode\": 200,\n",
      "        \"RequestId\": \"e05c6342-2335-4033-a358-1e8c761a19ec\",\n",
      "        \"RetryAttempts\": 0\n",
      "    }\n",
      "}\n"
     ]
    }
   ],
   "source": [
    "print(json.dumps(response, indent=4, sort_keys=True, default=str))"
   ]
  },
  {
   "cell_type": "markdown",
   "metadata": {},
   "source": [
    "# Store Variables for Next Notebooks"
   ]
  },
  {
   "cell_type": "code",
   "execution_count": 25,
   "metadata": {},
   "outputs": [
    {
     "name": "stdout",
     "output_type": "stream",
     "text": [
      "Stored 'stream_name' (str)\n"
     ]
    }
   ],
   "source": [
    "%store stream_name"
   ]
  },
  {
   "cell_type": "code",
   "execution_count": 26,
   "metadata": {},
   "outputs": [
    {
     "name": "stdout",
     "output_type": "stream",
     "text": [
      "Stored 'firehose_name' (str)\n"
     ]
    }
   ],
   "source": [
    "%store firehose_name"
   ]
  },
  {
   "cell_type": "code",
   "execution_count": 27,
   "metadata": {},
   "outputs": [
    {
     "name": "stdout",
     "output_type": "stream",
     "text": [
      "Stored 'iam_kinesis_role_name' (str)\n"
     ]
    }
   ],
   "source": [
    "%store iam_kinesis_role_name"
   ]
  },
  {
   "cell_type": "code",
   "execution_count": 28,
   "metadata": {},
   "outputs": [
    {
     "name": "stdout",
     "output_type": "stream",
     "text": [
      "Stored 'iam_role_kinesis_arn' (str)\n"
     ]
    }
   ],
   "source": [
    "%store iam_role_kinesis_arn"
   ]
  },
  {
   "cell_type": "code",
   "execution_count": 29,
   "metadata": {},
   "outputs": [
    {
     "name": "stdout",
     "output_type": "stream",
     "text": [
      "Stored 'iam_lambda_role_name' (str)\n"
     ]
    }
   ],
   "source": [
    "%store iam_lambda_role_name"
   ]
  },
  {
   "cell_type": "code",
   "execution_count": 30,
   "metadata": {},
   "outputs": [
    {
     "name": "stdout",
     "output_type": "stream",
     "text": [
      "Stored 'iam_role_lambda_arn' (str)\n"
     ]
    }
   ],
   "source": [
    "%store iam_role_lambda_arn"
   ]
  },
  {
   "cell_type": "code",
   "execution_count": 31,
   "metadata": {},
   "outputs": [
    {
     "name": "stdout",
     "output_type": "stream",
     "text": [
      "Stored 'lambda_fn_name' (str)\n"
     ]
    }
   ],
   "source": [
    "%store lambda_fn_name"
   ]
  },
  {
   "cell_type": "code",
   "execution_count": 32,
   "metadata": {},
   "outputs": [
    {
     "name": "stdout",
     "output_type": "stream",
     "text": [
      "Stored 'iam_kinesis_role_passed' (bool)\n"
     ]
    }
   ],
   "source": [
    "%store iam_kinesis_role_passed"
   ]
  },
  {
   "cell_type": "code",
   "execution_count": 33,
   "metadata": {},
   "outputs": [
    {
     "name": "stdout",
     "output_type": "stream",
     "text": [
      "Stored 'iam_lambda_role_passed' (bool)\n"
     ]
    }
   ],
   "source": [
    "%store iam_lambda_role_passed"
   ]
  },
  {
   "cell_type": "code",
   "execution_count": 34,
   "metadata": {},
   "outputs": [
    {
     "name": "stdout",
     "output_type": "stream",
     "text": [
      "Stored variables and their in-db values:\n",
      "auto_ml_job_name                                      -> 'automl-dm-26-16-00-25'\n",
      "autopilot_endpoint_name                               -> 'automl-dm-ep-26-16-21-49'\n",
      "autopilot_train_s3_uri                                -> 's3://sagemaker-us-west-2-085964654406/data/amazon\n",
      "balance_dataset                                       -> True\n",
      "experiment_name                                       -> 'Amazon-Customer-Reviews-BERT-Experiment-160114585\n",
      "firehose_name                                         -> 'dsoaws-kinesis-data-firehose'\n",
      "iam_kinesis_role_name                                 -> 'DSOAWS_Kinesis'\n",
      "iam_kinesis_role_passed                               -> True\n",
      "iam_lambda_role_name                                  -> 'DSOAWS_Lambda'\n",
      "iam_lambda_role_passed                                -> True\n",
      "iam_role_kinesis_arn                                  -> 'arn:aws:iam::085964654406:role/DSOAWS_Kinesis'\n",
      "iam_role_lambda_arn                                   -> 'arn:aws:iam::085964654406:role/DSOAWS_Lambda'\n",
      "ingest_create_athena_db_passed                        -> True\n",
      "ingest_create_athena_table_parquet_passed             -> True\n",
      "ingest_create_athena_table_tsv_passed                 -> True\n",
      "lambda_fn_name                                        -> 'DeliverKinesisAnalyticsToCloudWatch'\n",
      "max_seq_length                                        -> 64\n",
      "prepare_trial_component_name                          -> 'TrialComponent-2020-09-26-184417-oahc'\n",
      "processed_test_data_s3_uri                            -> 's3://sagemaker-us-west-2-085964654406/sagemaker-s\n",
      "processed_train_data_s3_uri                           -> 's3://sagemaker-us-west-2-085964654406/sagemaker-s\n",
      "processed_validation_data_s3_uri                      -> 's3://sagemaker-us-west-2-085964654406/sagemaker-s\n",
      "processing_code_s3_prefix                             -> 'pipeline_sklearn_processing/1601151884/code'\n",
      "pytorch_endpoint_name                                 -> 'tensorflow-training-2020-09-26-18-44-25-975-pt-16\n",
      "pytorch_model_name                                    -> 'tensorflow-training-2020-09-26-18-44-25-975-pt-16\n",
      "raw_input_data_s3_uri                                 -> 's3://sagemaker-us-west-2-085964654406/amazon-revi\n",
      "s3_private_path_tsv                                   -> 's3://sagemaker-us-west-2-085964654406/amazon-revi\n",
      "s3_public_path_tsv                                    -> 's3://amazon-reviews-pds/tsv'\n",
      "setup_dependencies_passed                             -> True\n",
      "setup_iam_roles_passed                                -> True\n",
      "setup_instance_check_passed                           -> True\n",
      "setup_s3_bucket_passed                                -> True\n",
      "stepfunction_arn                                      -> 'arn:aws:states:us-west-2:085964654406:stateMachin\n",
      "stepfunction_name                                     -> 'training-pipeline-2020-09-26-20-24-49'\n",
      "stream_name                                           -> 'dsoaws-kinesis-data-stream'\n",
      "tensorflow_endpoint_name                              -> 'tensorflow-training-2020-09-26-18-44-25-975-tf-16\n",
      "tensorflow_model_name                                 -> 'tensorflow-training-2020-09-26-18-44-25-975-tf-16\n",
      "test_split_percentage                                 -> 0.05\n",
      "train_split_percentage                                -> 0.9\n",
      "training_job_debugger_artifacts_path                  -> 's3://sagemaker-us-west-2-085964654406/tensorflow-\n",
      "training_job_name                                     -> 'tensorflow-training-2020-09-26-18-44-25-975'\n",
      "transformer_pytorch_model_name                        -> 'pytorch_model.bin'\n",
      "transformer_pytorch_model_s3_uri                      -> 's3://sagemaker-us-west-2-085964654406/models/tran\n",
      "trial_name                                            -> 'trial-1601145857'\n",
      "tuning_job_name                                       -> 'tensorflow-training-200926-1943'\n",
      "validation_split_percentage                           -> 0.05\n"
     ]
    }
   ],
   "source": [
    "%store"
   ]
  },
  {
   "cell_type": "code",
   "execution_count": null,
   "metadata": {},
   "outputs": [],
   "source": [
    "%%javascript\n",
    "Jupyter.notebook.save_checkpoint();\n",
    "Jupyter.notebook.session.delete();"
   ]
  }
 ],
 "metadata": {
  "kernelspec": {
   "display_name": "conda_python3",
   "language": "python",
   "name": "conda_python3"
  },
  "language_info": {
   "codemirror_mode": {
    "name": "ipython",
    "version": 3
   },
   "file_extension": ".py",
   "mimetype": "text/x-python",
   "name": "python",
   "nbconvert_exporter": "python",
   "pygments_lexer": "ipython3",
   "version": "3.6.10"
  }
 },
 "nbformat": 4,
 "nbformat_minor": 4
}
