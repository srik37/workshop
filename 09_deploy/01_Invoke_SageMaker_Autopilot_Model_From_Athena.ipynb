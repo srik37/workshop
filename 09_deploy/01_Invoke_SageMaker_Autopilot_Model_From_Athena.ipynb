{
 "cells": [
  {
   "cell_type": "markdown",
   "metadata": {},
   "source": [
    "# Invoke SageMaker Autopilot Model from Athena"
   ]
  },
  {
   "cell_type": "markdown",
   "metadata": {},
   "source": [
    "Machine Learning (ML) with Amazon Athena (Preview) lets you use Athena to write SQL statements that run Machine Learning (ML) inference using Amazon SageMaker. This feature simplifies access to ML models for data analysis, eliminating the need to use complex programming methods to run inference.\n",
    "\n",
    "To use ML with Athena (Preview), you define an ML with Athena (Preview) function with the `USING FUNCTION` clause. The function points to the Amazon SageMaker model endpoint that you want to use and specifies the variable names and data types to pass to the model. Subsequent clauses in the query reference the function to pass values to the model. The model runs inference based on the values that the query passes and then returns inference results."
   ]
  },
  {
   "cell_type": "markdown",
   "metadata": {},
   "source": [
    "<img src=\"img/athena_model.png\" width=\"50%\" align=\"left\">"
   ]
  },
  {
   "cell_type": "markdown",
   "metadata": {},
   "source": [
    "# Pre-Requisite\n",
    "\n",
    "## *Please note that ML with Athena is in Preview and will only work in the following regions that support Preview Functionality:*\n",
    "\n",
    "## *us-east-1,  us-west-2, ap-south-1, eu-west-1*\n"
   ]
  },
  {
   "cell_type": "markdown",
   "metadata": {},
   "source": [
    "### Check if you current regions supports AthenaML Preview"
   ]
  },
  {
   "cell_type": "code",
   "execution_count": 1,
   "metadata": {},
   "outputs": [],
   "source": [
    "import boto3\n",
    "import sagemaker\n",
    "import pandas as pd\n",
    "\n",
    "sess   = sagemaker.Session()\n",
    "bucket = sess.default_bucket()\n",
    "role = sagemaker.get_execution_role()\n",
    "region = boto3.Session().region_name\n",
    "\n",
    "sm = boto3.Session().client(service_name='sagemaker', region_name=region)"
   ]
  },
  {
   "cell_type": "code",
   "execution_count": 2,
   "metadata": {},
   "outputs": [
    {
     "name": "stdout",
     "output_type": "stream",
     "text": [
      " [OK] AthenaML IS SUPPORTED IN us-west-2\n",
      " [OK] Please proceed with this notebook.\n"
     ]
    }
   ],
   "source": [
    "if region in ['eu-west-1', 'ap-south-1', 'us-east-1', 'us-west-2']:\n",
    "    print(' [OK] AthenaML IS SUPPORTED IN {}'.format(region))\n",
    "    print(' [OK] Please proceed with this notebook.')\n",
    "else:\n",
    "    print('+++++++++++++++++++++++++++++++++++++++++++++++++++++++++++++++++++++++++' )\n",
    "    print(' [ERROR] AthenaML IS *NOT* SUPPORTED IN {} !!'.format(region))\n",
    "    print(' [INFO] This is OK. SKIP this notebook and move ahead with the workshop.' )\n",
    "    print(' [INFO] This notebook is not required for the rest of this workshop.' )\n",
    "    print('+++++++++++++++++++++++++++++++++++++++++++++++++++++++++++++++++++++++++' )"
   ]
  },
  {
   "cell_type": "markdown",
   "metadata": {},
   "source": [
    "# Pre-Requisite\n",
    "\n",
    "## _Please wait for the Autopilot Model to deploy!!  Otherwise, this notebook won't work properly._"
   ]
  },
  {
   "cell_type": "code",
   "execution_count": 3,
   "metadata": {},
   "outputs": [],
   "source": [
    "%store -r autopilot_endpoint_name"
   ]
  },
  {
   "cell_type": "code",
   "execution_count": 4,
   "metadata": {},
   "outputs": [
    {
     "name": "stdout",
     "output_type": "stream",
     "text": [
      "[OK]\n"
     ]
    }
   ],
   "source": [
    "try:\n",
    "    autopilot_endpoint_name\n",
    "    print('[OK]')    \n",
    "except NameError:\n",
    "    print('+++++++++++++++++++++++++++++++++++++++++++++++++++++++++++++++++++++++++' )\n",
    "    print('[ERROR] There is no Autopilot Model Endpoint deployed.')\n",
    "    print('[INFO] This is OK. Just skip this notebook and move ahead with the next notebook.')\n",
    "    print('[INFO] This notebook is not required for the rest of this workshop.')\n",
    "    print('+++++++++++++++++++++++++++++++++++++++++++++++++++++++++++++++++++++++++' ) "
   ]
  },
  {
   "cell_type": "code",
   "execution_count": 5,
   "metadata": {},
   "outputs": [
    {
     "name": "stdout",
     "output_type": "stream",
     "text": [
      "automl-dm-ep-26-16-21-49\n"
     ]
    }
   ],
   "source": [
    "print(autopilot_endpoint_name)"
   ]
  },
  {
   "cell_type": "code",
   "execution_count": 6,
   "metadata": {},
   "outputs": [
    {
     "name": "stdout",
     "output_type": "stream",
     "text": [
      "[OK] Your Autopilot Model Endpoint is in status: InService\n"
     ]
    }
   ],
   "source": [
    "try:\n",
    "    resp = sm.describe_endpoint(EndpointName=autopilot_endpoint_name)\n",
    "    status = resp['EndpointStatus']\n",
    "    if status == 'InService':\n",
    "        print('[OK] Your Autopilot Model Endpoint is in status: {}'.format(status))\n",
    "    elif status == 'Creating':\n",
    "        print('[INFO] Your Autopilot Model Endpoint is in status: {}'.format(status))\n",
    "        print('[INFO] Waiting for the endpoint to be InService. Please be patient. This might take a few minutes.')\n",
    "        sm.get_waiter('endpoint_in_service').wait(EndpointName=autopilot_endpoint_name)        \n",
    "    else: \n",
    "        print('+++++++++++++++++++++++++++++++++++++++++++++++++++++++++++++++++++++++++' )\n",
    "        print('[ERROR] Your Autopilot Model is in status: {}'.format(status))\n",
    "        print('[INFO] This is OK. Just skip this notebook and move ahead with the next notebook.')\n",
    "        print('[INFO] This notebook is not required for the rest of this workshop.')\n",
    "        print('+++++++++++++++++++++++++++++++++++++++++++++++++++++++++++++++++++++++++' )\n",
    "except:\n",
    "    print('+++++++++++++++++++++++++++++++++++++++++++++++++++++++++++++++++++++++++' )\n",
    "    print('[ERROR] There is no Autopilot Model Endpoint deployed.')\n",
    "    print('[INFO] This is OK. Just skip this notebook and move ahead with the next notebook.')\n",
    "    print('[INFO] This notebook is not required for the rest of this workshop.')\n",
    "    print('+++++++++++++++++++++++++++++++++++++++++++++++++++++++++++++++++++++++++' )   "
   ]
  },
  {
   "cell_type": "markdown",
   "metadata": {},
   "source": [
    "## Import PyAthena"
   ]
  },
  {
   "cell_type": "code",
   "execution_count": 7,
   "metadata": {},
   "outputs": [],
   "source": [
    "from pyathena import connect\n",
    "from pyathena.pandas_cursor import PandasCursor\n",
    "from pyathena.util import as_pandas"
   ]
  },
  {
   "cell_type": "markdown",
   "metadata": {},
   "source": [
    "# Create an Athena Table with Sample Reviews"
   ]
  },
  {
   "cell_type": "markdown",
   "metadata": {},
   "source": [
    "## Check for Athena TSV Table"
   ]
  },
  {
   "cell_type": "code",
   "execution_count": 8,
   "metadata": {},
   "outputs": [],
   "source": [
    "%store -r ingest_create_athena_table_tsv_passed"
   ]
  },
  {
   "cell_type": "code",
   "execution_count": 9,
   "metadata": {},
   "outputs": [],
   "source": [
    "try:\n",
    "    ingest_create_athena_table_tsv_passed\n",
    "except NameError:\n",
    "    print('++++++++++++++++++++++++++++++++++++++++++++++')\n",
    "    print('[ERROR] YOU HAVE TO RUN ALL NOTEBOOKS IN THE `INGEST` SECTION.')\n",
    "    print('++++++++++++++++++++++++++++++++++++++++++++++')"
   ]
  },
  {
   "cell_type": "code",
   "execution_count": 10,
   "metadata": {},
   "outputs": [
    {
     "name": "stdout",
     "output_type": "stream",
     "text": [
      "True\n"
     ]
    }
   ],
   "source": [
    "print(ingest_create_athena_table_tsv_passed)"
   ]
  },
  {
   "cell_type": "code",
   "execution_count": 11,
   "metadata": {},
   "outputs": [
    {
     "name": "stdout",
     "output_type": "stream",
     "text": [
      "[OK]\n"
     ]
    }
   ],
   "source": [
    "if not ingest_create_athena_table_tsv_passed:\n",
    "    print('++++++++++++++++++++++++++++++++++++++++++++++')\n",
    "    print('[ERROR] YOU HAVE TO RUN ALL NOTEBOOKS IN THE `INGEST` SECTION.')\n",
    "    print('++++++++++++++++++++++++++++++++++++++++++++++')\n",
    "else:\n",
    "    print('[OK]')"
   ]
  },
  {
   "cell_type": "code",
   "execution_count": 12,
   "metadata": {},
   "outputs": [],
   "source": [
    "tsv_prefix = 'amazon-reviews-pds/tsv'\n",
    "database_name = 'dsoaws'\n",
    "table_name_tsv = 'amazon_reviews_tsv'\n",
    "table_name = 'product_reviews'"
   ]
  },
  {
   "cell_type": "code",
   "execution_count": 13,
   "metadata": {},
   "outputs": [],
   "source": [
    "s3_staging_dir = 's3://{}/athena/staging'.format(bucket)"
   ]
  },
  {
   "cell_type": "code",
   "execution_count": 14,
   "metadata": {},
   "outputs": [
    {
     "name": "stdout",
     "output_type": "stream",
     "text": [
      "\n",
      "CREATE TABLE IF NOT EXISTS dsoaws.product_reviews AS \n",
      "SELECT review_id, review_body \n",
      "FROM dsoaws.amazon_reviews_tsv\n",
      "\n"
     ]
    }
   ],
   "source": [
    "statement = \"\"\"\n",
    "CREATE TABLE IF NOT EXISTS {}.{} AS \n",
    "SELECT review_id, review_body \n",
    "FROM {}.{}\n",
    "\"\"\".format(database_name, table_name, database_name, table_name_tsv)\n",
    "\n",
    "print(statement)"
   ]
  },
  {
   "cell_type": "code",
   "execution_count": 15,
   "metadata": {},
   "outputs": [
    {
     "name": "stdout",
     "output_type": "stream",
     "text": [
      "[OK]\n"
     ]
    }
   ],
   "source": [
    "if region in ['eu-west-1', 'ap-south-1', 'us-east-1', 'us-west-2']:\n",
    "    cursor = connect(region_name=region, s3_staging_dir=s3_staging_dir).cursor()\n",
    "    cursor.execute(statement)\n",
    "    print('[OK]')\n",
    "else: \n",
    "    print('+++++++++++++++++++++++++++++++++++++++++++++++++++++++++++++++++++++++++' )\n",
    "    print(' [ERROR] AthenaML IS *NOT* SUPPORTED IN {} !!'.format(region))\n",
    "    print(' [INFO] This is OK. SKIP this notebook and move ahead with the workshop.' )\n",
    "    print(' [INFO] This notebook is not required for the rest of this workshop.' )\n",
    "    print('+++++++++++++++++++++++++++++++++++++++++++++++++++++++++++++++++++++++++' )"
   ]
  },
  {
   "cell_type": "code",
   "execution_count": 16,
   "metadata": {},
   "outputs": [
    {
     "name": "stdout",
     "output_type": "stream",
     "text": [
      "        review_id                                        review_body\n",
      "0    RA3VAKVRPUFT  I am a avid book fan, and I absolutely love wh...\n",
      "1   RFKA1HJSDBOOM  I am only in the middle of this book but I had...\n",
      "2   RKDX6FKBANJUC  This is the first time I've read anything by M...\n",
      "3  R1IP9DE5AOK824  First off, I am LDS.  Mr Ridges' comments on t...\n",
      "4  R3AWE922II4D9O  I don't write reviews but this book was very g...\n",
      "5  R21Y4307BXBQXQ  I know that Dick Francis is now in his eightie...\n",
      "6   RU22TC97YCYSF  This was the best book ever I loved it so much...\n",
      "7  R3UTILZQT6ADX3  Private Investigator Monica McDowney inspects ...\n",
      "8  R3TXSYKL8I3YW6  I wish the story line what more interesting. T...\n",
      "9  R38DWLX5IEHAXK  Wonderful story if you like fantasy - a bit go...\n"
     ]
    }
   ],
   "source": [
    "if region in ['eu-west-1', 'ap-south-1', 'us-east-1', 'us-west-2']:\n",
    "    statement = 'SELECT * FROM {}.{} LIMIT 10'.format(database_name, table_name)\n",
    "    cursor = connect(region_name=region, s3_staging_dir=s3_staging_dir).cursor()\n",
    "    cursor.execute(statement)\n",
    "    df_table = as_pandas(cursor)\n",
    "    print(df_table)"
   ]
  },
  {
   "cell_type": "markdown",
   "metadata": {},
   "source": [
    "## Add the Required `AmazonAthenaPreviewFunctionality` Work Group to Use This Preview Feature"
   ]
  },
  {
   "cell_type": "code",
   "execution_count": 17,
   "metadata": {},
   "outputs": [
    {
     "name": "stdout",
     "output_type": "stream",
     "text": [
      "{'ResponseMetadata': {'RequestId': '22a55462-7874-4e87-bf79-dec99b344781', 'HTTPStatusCode': 200, 'HTTPHeaders': {'content-type': 'application/x-amz-json-1.1', 'date': 'Sat, 26 Sep 2020 20:09:44 GMT', 'x-amzn-requestid': '22a55462-7874-4e87-bf79-dec99b344781', 'content-length': '2', 'connection': 'keep-alive'}, 'RetryAttempts': 0}}\n"
     ]
    }
   ],
   "source": [
    "from botocore.exceptions import ClientError\n",
    "\n",
    "client = boto3.client('athena')\n",
    "\n",
    "if region in ['eu-west-1', 'ap-south-1', 'us-east-1', 'us-west-2']:\n",
    "    try:\n",
    "        response = client.create_work_group(Name='AmazonAthenaPreviewFunctionality') \n",
    "        print(response)\n",
    "    except ClientError as e:\n",
    "        if e.response['Error']['Code'] == 'InvalidRequestException':\n",
    "            print(\"[OK] Workgroup already exists.\")\n",
    "        else:\n",
    "            print('[ERROR] {}'.format(e))"
   ]
  },
  {
   "cell_type": "markdown",
   "metadata": {},
   "source": [
    "# Create SQL Query"
   ]
  },
  {
   "cell_type": "markdown",
   "metadata": {},
   "source": [
    "The `USING FUNCTION` clause specifies an ML with Athena (Preview) function or multiple functions that can be referenced by a subsequent `SELECT` statement in the query. You define the function name, variable names, and data types for the variables and return values."
   ]
  },
  {
   "cell_type": "code",
   "execution_count": 18,
   "metadata": {
    "scrolled": true
   },
   "outputs": [
    {
     "name": "stdout",
     "output_type": "stream",
     "text": [
      "\n",
      "USING FUNCTION predict_star_rating(review_body VARCHAR) \n",
      "    RETURNS VARCHAR TYPE\n",
      "    SAGEMAKER_INVOKE_ENDPOINT WITH (sagemaker_endpoint = 'automl-dm-ep-26-16-21-49'\n",
      ")\n",
      "SELECT review_id, review_body, predict_star_rating(REPLACE(review_body, ',', ' ')) AS predicted_star_rating \n",
      "    FROM dsoaws.product_reviews LIMIT 10\n",
      "    \n"
     ]
    }
   ],
   "source": [
    "statement = \"\"\"\n",
    "USING FUNCTION predict_star_rating(review_body VARCHAR) \n",
    "    RETURNS VARCHAR TYPE\n",
    "    SAGEMAKER_INVOKE_ENDPOINT WITH (sagemaker_endpoint = '{}'\n",
    ")\n",
    "SELECT review_id, review_body, predict_star_rating(REPLACE(review_body, ',', ' ')) AS predicted_star_rating \n",
    "    FROM {}.{} LIMIT 10\n",
    "    \"\"\".format(autopilot_endpoint_name, database_name, table_name)\n",
    "\n",
    "print(statement)"
   ]
  },
  {
   "cell_type": "markdown",
   "metadata": {},
   "source": [
    "# Query the Autopilot Endpoint using Data from the Athena Table"
   ]
  },
  {
   "cell_type": "code",
   "execution_count": 19,
   "metadata": {},
   "outputs": [
    {
     "name": "stdout",
     "output_type": "stream",
     "text": [
      "        review_id                                        review_body  \\\n",
      "0  R1QA7716M9I6ZJ  I loved the first two series such a good story...   \n",
      "1  R2RAJKI43FW1YH  Finshing this, I wondered, who is Abraham Verg...   \n",
      "2  R17X00B3FLMT4F  Another great effort by Ben Coes. I awaited in...   \n",
      "3  R3D7XN1J58EURM  An emotionally wounded FBI agent on the hunt f...   \n",
      "4  R1LG8ZZKD3XS6D  Becky Lower's The Reluctant Debutante is a wel...   \n",
      "5  R1RJJ60W6WC7MN  Harlequin romance with lots of sex and bondage...   \n",
      "6  R15DVN5OAMEJQ0  Henry is a thief, con artist, and a self-prese...   \n",
      "7  R1ZLK50SMNUMTW  The link to all the files is at the end of the...   \n",
      "8  R1ICB7HC6CHP5A  I could not put it down, a real page turner.  ...   \n",
      "9   RNBENM3KTGMB1  The Future, Imperfect is a superb collection o...   \n",
      "\n",
      "  predicted_star_rating  \n",
      "0                     4  \n",
      "1                     3  \n",
      "2                     5  \n",
      "3                     5  \n",
      "4                     5  \n",
      "5                     2  \n",
      "6                     2  \n",
      "7                     5  \n",
      "8                     2  \n",
      "9                     2  \n"
     ]
    }
   ],
   "source": [
    "if region in ['eu-west-1', 'ap-south-1', 'us-east-1', 'us-west-2']:\n",
    "    cursor = connect(region_name=region, s3_staging_dir=s3_staging_dir).cursor()\n",
    "    cursor.execute(statement, work_group='AmazonAthenaPreviewFunctionality')\n",
    "    df = as_pandas(cursor)\n",
    "    print(df)"
   ]
  },
  {
   "cell_type": "markdown",
   "metadata": {},
   "source": [
    "# Delete Endpoint"
   ]
  },
  {
   "cell_type": "code",
   "execution_count": 20,
   "metadata": {},
   "outputs": [],
   "source": [
    "sm = boto3.client('sagemaker')\n",
    "\n",
    "if autopilot_endpoint_name:\n",
    "    sm.delete_endpoint(\n",
    "        EndpointName=autopilot_endpoint_name\n",
    "    )"
   ]
  },
  {
   "cell_type": "code",
   "execution_count": null,
   "metadata": {},
   "outputs": [],
   "source": [
    "%%javascript\n",
    "Jupyter.notebook.save_checkpoint();\n",
    "Jupyter.notebook.session.delete();"
   ]
  }
 ],
 "metadata": {
  "kernelspec": {
   "display_name": "conda_python3",
   "language": "python",
   "name": "conda_python3"
  },
  "language_info": {
   "codemirror_mode": {
    "name": "ipython",
    "version": 3
   },
   "file_extension": ".py",
   "mimetype": "text/x-python",
   "name": "python",
   "nbconvert_exporter": "python",
   "pygments_lexer": "ipython3",
   "version": "3.6.10"
  }
 },
 "nbformat": 4,
 "nbformat_minor": 4
}
