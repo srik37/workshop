{
 "cells": [
  {
   "cell_type": "markdown",
   "metadata": {},
   "source": [
    "# Query Data with AWS Data Wrangler"
   ]
  },
  {
   "cell_type": "markdown",
   "metadata": {},
   "source": [
    "**AWS Data Wrangler** is an open-source Python library that extends the power of the Pandas library to AWS connecting DataFrames and AWS data related services (Amazon Redshift, AWS Glue, Amazon Athena, Amazon EMR, Amazon QuickSight, etc).\n",
    "\n",
    "* https://github.com/awslabs/aws-data-wrangler\n",
    "* https://aws-data-wrangler.readthedocs.io\n",
    "\n",
    "Built on top of other open-source projects like Pandas, Apache Arrow, Boto3, s3fs, SQLAlchemy, Psycopg2 and PyMySQL, it offers abstracted functions to execute usual ETL tasks like load/unload data from Data Lakes, Data Warehouses and Databases.\n",
    "\n",
    "_Note that AWS Data Wrangler is simply a Python library that uses existing AWS Services.  AWS Data Wrangler is not a separate AWS Service.  You install AWS Data Wrangler through `pip install` as we will see next._"
   ]
  },
  {
   "cell_type": "markdown",
   "metadata": {},
   "source": [
    "# _Pre-Requisite: Make Sure You Created an Athena Table for Both TSV and Parquet in Previous Notebooks_"
   ]
  },
  {
   "cell_type": "code",
   "execution_count": 1,
   "metadata": {},
   "outputs": [],
   "source": [
    "%store -r ingest_create_athena_table_tsv_passed"
   ]
  },
  {
   "cell_type": "code",
   "execution_count": 2,
   "metadata": {},
   "outputs": [],
   "source": [
    "try:\n",
    "    ingest_create_athena_table_tsv_passed\n",
    "except NameError:\n",
    "    print('++++++++++++++++++++++++++++++++++++++++++++++')\n",
    "    print('[ERROR] YOU HAVE TO RUN ALL PREVIOUS NOTEBOOKS.  You did not register the TSV Data.')\n",
    "    print('++++++++++++++++++++++++++++++++++++++++++++++')"
   ]
  },
  {
   "cell_type": "code",
   "execution_count": 3,
   "metadata": {},
   "outputs": [
    {
     "name": "stdout",
     "output_type": "stream",
     "text": [
      "True\n"
     ]
    }
   ],
   "source": [
    "print(ingest_create_athena_table_tsv_passed)"
   ]
  },
  {
   "cell_type": "code",
   "execution_count": 4,
   "metadata": {},
   "outputs": [
    {
     "name": "stdout",
     "output_type": "stream",
     "text": [
      "[OK]\n"
     ]
    }
   ],
   "source": [
    "if not ingest_create_athena_table_tsv_passed:\n",
    "    print('++++++++++++++++++++++++++++++++++++++++++++++')\n",
    "    print('[ERROR] YOU HAVE TO RUN ALL PREVIOUS NOTEBOOKS.  You did not register the TSV Data.')\n",
    "    print('++++++++++++++++++++++++++++++++++++++++++++++')\n",
    "else:\n",
    "    print('[OK]')"
   ]
  },
  {
   "cell_type": "code",
   "execution_count": 5,
   "metadata": {},
   "outputs": [],
   "source": [
    "%store -r ingest_create_athena_table_parquet_passed"
   ]
  },
  {
   "cell_type": "code",
   "execution_count": 6,
   "metadata": {},
   "outputs": [],
   "source": [
    "try:\n",
    "    ingest_create_athena_table_parquet_passed\n",
    "except NameError:\n",
    "    print('++++++++++++++++++++++++++++++++++++++++++++++')\n",
    "    print('[ERROR] YOU HAVE TO RUN ALL PREVIOUS NOTEBOOKS.  You did not convert into Parquet data.')\n",
    "    print('++++++++++++++++++++++++++++++++++++++++++++++')"
   ]
  },
  {
   "cell_type": "code",
   "execution_count": 7,
   "metadata": {},
   "outputs": [
    {
     "name": "stdout",
     "output_type": "stream",
     "text": [
      "True\n"
     ]
    }
   ],
   "source": [
    "print(ingest_create_athena_table_parquet_passed)"
   ]
  },
  {
   "cell_type": "code",
   "execution_count": 8,
   "metadata": {},
   "outputs": [
    {
     "name": "stdout",
     "output_type": "stream",
     "text": [
      "[OK]\n"
     ]
    }
   ],
   "source": [
    "if not ingest_create_athena_table_parquet_passed:\n",
    "    print('++++++++++++++++++++++++++++++++++++++++++++++')\n",
    "    print('[ERROR] YOU HAVE TO RUN ALL PREVIOUS NOTEBOOKS.  You did not convert into Parquet data.') \n",
    "    print('++++++++++++++++++++++++++++++++++++++++++++++')\n",
    "else:\n",
    "    print('[OK]')"
   ]
  },
  {
   "cell_type": "markdown",
   "metadata": {},
   "source": [
    "# Setup"
   ]
  },
  {
   "cell_type": "code",
   "execution_count": 9,
   "metadata": {},
   "outputs": [],
   "source": [
    "import sagemaker\n",
    "import boto3\n",
    "\n",
    "sagemaker_session = sagemaker.Session()\n",
    "role = sagemaker.get_execution_role()\n",
    "bucket = sagemaker_session.default_bucket()\n",
    "region = boto3.Session().region_name\n",
    "\n",
    "sm = boto3.Session().client(service_name='sagemaker', region_name=region)"
   ]
  },
  {
   "cell_type": "code",
   "execution_count": 10,
   "metadata": {},
   "outputs": [],
   "source": [
    "import awswrangler as wr"
   ]
  },
  {
   "cell_type": "markdown",
   "metadata": {},
   "source": [
    "# Query Parquet from S3 with Push-Down Filters\n",
    "\n",
    "Read Apache Parquet file(s) from from a received S3 prefix or list of S3 objects paths.\n",
    "\n",
    "The concept of Dataset goes beyond the simple idea of files and enable more complex features like partitioning and catalog integration (AWS Glue Catalog): \n",
    "\n",
    "_dataset (bool)_ – If True read a parquet dataset instead of simple file(s) loading all the related partitions as columns."
   ]
  },
  {
   "cell_type": "code",
   "execution_count": 11,
   "metadata": {},
   "outputs": [],
   "source": [
    "p_filter = lambda x: True if x[\"product_category\"] == \"Digital_Software\" else False"
   ]
  },
  {
   "cell_type": "code",
   "execution_count": 12,
   "metadata": {},
   "outputs": [
    {
     "data": {
      "text/plain": [
       "(102084, 3)"
      ]
     },
     "execution_count": 12,
     "metadata": {},
     "output_type": "execute_result"
    }
   ],
   "source": [
    "path = 's3://{}/amazon-reviews-pds/parquet/'.format(bucket)\n",
    "df_parquet_results = wr.s3.read_parquet(path,\n",
    "                                        columns=['star_rating', 'product_category', 'review_body'],\n",
    "                                        partition_filter=p_filter,\n",
    "                                        dataset=True)\n",
    "df_parquet_results.shape"
   ]
  },
  {
   "cell_type": "code",
   "execution_count": 13,
   "metadata": {},
   "outputs": [
    {
     "data": {
      "text/html": [
       "<div>\n",
       "<style scoped>\n",
       "    .dataframe tbody tr th:only-of-type {\n",
       "        vertical-align: middle;\n",
       "    }\n",
       "\n",
       "    .dataframe tbody tr th {\n",
       "        vertical-align: top;\n",
       "    }\n",
       "\n",
       "    .dataframe thead th {\n",
       "        text-align: right;\n",
       "    }\n",
       "</style>\n",
       "<table border=\"1\" class=\"dataframe\">\n",
       "  <thead>\n",
       "    <tr style=\"text-align: right;\">\n",
       "      <th></th>\n",
       "      <th>star_rating</th>\n",
       "      <th>review_body</th>\n",
       "      <th>product_category</th>\n",
       "    </tr>\n",
       "  </thead>\n",
       "  <tbody>\n",
       "    <tr>\n",
       "      <th>0</th>\n",
       "      <td>2</td>\n",
       "      <td>I chose the deluxe version CD because of mortg...</td>\n",
       "      <td>Digital_Software</td>\n",
       "    </tr>\n",
       "    <tr>\n",
       "      <th>1</th>\n",
       "      <td>4</td>\n",
       "      <td>Schedule C  IS for business, so figures it wou...</td>\n",
       "      <td>Digital_Software</td>\n",
       "    </tr>\n",
       "    <tr>\n",
       "      <th>2</th>\n",
       "      <td>2</td>\n",
       "      <td>I wish that companies can test several scenari...</td>\n",
       "      <td>Digital_Software</td>\n",
       "    </tr>\n",
       "    <tr>\n",
       "      <th>3</th>\n",
       "      <td>3</td>\n",
       "      <td>i just installed turbotax deluxe 2007. If you ...</td>\n",
       "      <td>Digital_Software</td>\n",
       "    </tr>\n",
       "    <tr>\n",
       "      <th>4</th>\n",
       "      <td>1</td>\n",
       "      <td>The description mentions that you can use this...</td>\n",
       "      <td>Digital_Software</td>\n",
       "    </tr>\n",
       "  </tbody>\n",
       "</table>\n",
       "</div>"
      ],
      "text/plain": [
       "   star_rating                                        review_body  \\\n",
       "0            2  I chose the deluxe version CD because of mortg...   \n",
       "1            4  Schedule C  IS for business, so figures it wou...   \n",
       "2            2  I wish that companies can test several scenari...   \n",
       "3            3  i just installed turbotax deluxe 2007. If you ...   \n",
       "4            1  The description mentions that you can use this...   \n",
       "\n",
       "   product_category  \n",
       "0  Digital_Software  \n",
       "1  Digital_Software  \n",
       "2  Digital_Software  \n",
       "3  Digital_Software  \n",
       "4  Digital_Software  "
      ]
     },
     "execution_count": 13,
     "metadata": {},
     "output_type": "execute_result"
    }
   ],
   "source": [
    "df_parquet_results.head(5)"
   ]
  },
  {
   "cell_type": "markdown",
   "metadata": {},
   "source": [
    "# Query Parquet from S3 in Chunks"
   ]
  },
  {
   "cell_type": "markdown",
   "metadata": {},
   "source": [
    "Batching (chunked argument) (Memory Friendly):\n",
    "\n",
    "Will enable the function to return a Iterable of DataFrames instead of a regular DataFrame.\n",
    "\n",
    "There are two batching strategies on Wrangler:\n",
    "* If chunked=True, a new DataFrame will be returned for each file in your path/dataset.\n",
    "* If chunked=INTEGER, Wrangler will iterate on the data by number of rows equal to the received INTEGER.\n",
    "\n",
    "P.S. chunked=True if faster and uses less memory while chunked=INTEGER is more precise in number of rows for each Dataframe."
   ]
  },
  {
   "cell_type": "code",
   "execution_count": 14,
   "metadata": {},
   "outputs": [],
   "source": [
    "path = 's3://{}/amazon-reviews-pds/parquet/'.format(bucket)\n",
    "chunk_iter = wr.s3.read_parquet(path,\n",
    "                                columns=['star_rating', 'product_category', 'review_body'],\n",
    "                                # filters=[(\"product_category\", \"=\", \"Digital_Software\")],\n",
    "                                partition_filter=p_filter,\n",
    "                                dataset=True,\n",
    "                                chunked=True)"
   ]
  },
  {
   "cell_type": "code",
   "execution_count": 15,
   "metadata": {
    "scrolled": true
   },
   "outputs": [
    {
     "name": "stdout",
     "output_type": "stream",
     "text": [
      "   star_rating                                        review_body  \\\n",
      "0            2  I chose the deluxe version CD because of mortg...   \n",
      "1            4  Schedule C  IS for business, so figures it wou...   \n",
      "2            2  I wish that companies can test several scenari...   \n",
      "3            3  i just installed turbotax deluxe 2007. If you ...   \n",
      "4            1  The description mentions that you can use this...   \n",
      "\n",
      "   product_category  \n",
      "0  Digital_Software  \n",
      "1  Digital_Software  \n",
      "2  Digital_Software  \n",
      "3  Digital_Software  \n",
      "4  Digital_Software  \n"
     ]
    }
   ],
   "source": [
    "print(next(chunk_iter))"
   ]
  },
  {
   "cell_type": "markdown",
   "metadata": {},
   "source": [
    "# Query the Glue Catalog (ie. Hive Metastore)\n",
    "Get an iterator of tables."
   ]
  },
  {
   "cell_type": "code",
   "execution_count": 16,
   "metadata": {},
   "outputs": [],
   "source": [
    "database_name = 'dsoaws'\n",
    "table_name_tsv = 'amazon_reviews_tsv'\n",
    "table_name_parquet = 'amazon_reviews_parquet'"
   ]
  },
  {
   "cell_type": "code",
   "execution_count": 17,
   "metadata": {},
   "outputs": [
    {
     "name": "stdout",
     "output_type": "stream",
     "text": [
      "amazon_reviews_parquet\n",
      "amazon_reviews_tsv\n"
     ]
    }
   ],
   "source": [
    "for table in wr.catalog.get_tables(database=\"dsoaws\"):\n",
    "    print(table['Name'])"
   ]
  },
  {
   "cell_type": "markdown",
   "metadata": {},
   "source": [
    "# Query from Athena\n",
    "Execute any SQL query on AWS Athena and return the results as a Pandas DataFrame.  \n"
   ]
  },
  {
   "cell_type": "code",
   "execution_count": 18,
   "metadata": {},
   "outputs": [
    {
     "name": "stdout",
     "output_type": "stream",
     "text": [
      "CPU times: user 456 ms, sys: 11.9 ms, total: 468 ms\n",
      "Wall time: 8.37 s\n"
     ]
    }
   ],
   "source": [
    "%%time\n",
    "df = wr.athena.read_sql_query(\n",
    "    sql='SELECT * FROM {} LIMIT 5000'.format(table_name_parquet),\n",
    "    database=database_name\n",
    ")"
   ]
  },
  {
   "cell_type": "code",
   "execution_count": 19,
   "metadata": {},
   "outputs": [
    {
     "data": {
      "text/html": [
       "<div>\n",
       "<style scoped>\n",
       "    .dataframe tbody tr th:only-of-type {\n",
       "        vertical-align: middle;\n",
       "    }\n",
       "\n",
       "    .dataframe tbody tr th {\n",
       "        vertical-align: top;\n",
       "    }\n",
       "\n",
       "    .dataframe thead th {\n",
       "        text-align: right;\n",
       "    }\n",
       "</style>\n",
       "<table border=\"1\" class=\"dataframe\">\n",
       "  <thead>\n",
       "    <tr style=\"text-align: right;\">\n",
       "      <th></th>\n",
       "      <th>marketplace</th>\n",
       "      <th>customer_id</th>\n",
       "      <th>review_id</th>\n",
       "      <th>product_id</th>\n",
       "      <th>product_parent</th>\n",
       "      <th>product_title</th>\n",
       "      <th>star_rating</th>\n",
       "      <th>helpful_votes</th>\n",
       "      <th>total_votes</th>\n",
       "      <th>vine</th>\n",
       "      <th>verified_purchase</th>\n",
       "      <th>review_headline</th>\n",
       "      <th>review_body</th>\n",
       "      <th>year</th>\n",
       "      <th>review_date</th>\n",
       "      <th>product_category</th>\n",
       "    </tr>\n",
       "  </thead>\n",
       "  <tbody>\n",
       "    <tr>\n",
       "      <th>0</th>\n",
       "      <td>US</td>\n",
       "      <td>41754720</td>\n",
       "      <td>R19OFJV91M7D8X</td>\n",
       "      <td>B000YMR61A</td>\n",
       "      <td>141393130</td>\n",
       "      <td>TurboTax Deluxe Federal + State 2007</td>\n",
       "      <td>2</td>\n",
       "      <td>12</td>\n",
       "      <td>13</td>\n",
       "      <td>N</td>\n",
       "      <td>N</td>\n",
       "      <td>Easy to use, 1 comment 1 serious problem</td>\n",
       "      <td>I chose the deluxe version CD because of mortg...</td>\n",
       "      <td>2008</td>\n",
       "      <td>2008-02-11</td>\n",
       "      <td>Digital_Software</td>\n",
       "    </tr>\n",
       "    <tr>\n",
       "      <th>1</th>\n",
       "      <td>US</td>\n",
       "      <td>51669529</td>\n",
       "      <td>R1I6G894K5AGG5</td>\n",
       "      <td>B000YMR61A</td>\n",
       "      <td>141393130</td>\n",
       "      <td>TurboTax Deluxe Federal + State 2007</td>\n",
       "      <td>4</td>\n",
       "      <td>6</td>\n",
       "      <td>9</td>\n",
       "      <td>N</td>\n",
       "      <td>N</td>\n",
       "      <td>Schedule C  IS for business- figures it would ...</td>\n",
       "      <td>Schedule C  IS for business, so figures it wou...</td>\n",
       "      <td>2008</td>\n",
       "      <td>2008-02-08</td>\n",
       "      <td>Digital_Software</td>\n",
       "    </tr>\n",
       "    <tr>\n",
       "      <th>2</th>\n",
       "      <td>US</td>\n",
       "      <td>24731012</td>\n",
       "      <td>R17OE43FFEP81I</td>\n",
       "      <td>B000YMR5X4</td>\n",
       "      <td>234295632</td>\n",
       "      <td>TurboTax Premier Federal + State 2007</td>\n",
       "      <td>2</td>\n",
       "      <td>9</td>\n",
       "      <td>16</td>\n",
       "      <td>N</td>\n",
       "      <td>N</td>\n",
       "      <td>Hassel to download</td>\n",
       "      <td>I wish that companies can test several scenari...</td>\n",
       "      <td>2008</td>\n",
       "      <td>2008-02-05</td>\n",
       "      <td>Digital_Software</td>\n",
       "    </tr>\n",
       "    <tr>\n",
       "      <th>3</th>\n",
       "      <td>US</td>\n",
       "      <td>16049580</td>\n",
       "      <td>R15MGDDK63B52Z</td>\n",
       "      <td>B000YMR61A</td>\n",
       "      <td>141393130</td>\n",
       "      <td>TurboTax Deluxe Federal + State 2007</td>\n",
       "      <td>3</td>\n",
       "      <td>14</td>\n",
       "      <td>14</td>\n",
       "      <td>N</td>\n",
       "      <td>N</td>\n",
       "      <td>beware of vista</td>\n",
       "      <td>i just installed turbotax deluxe 2007. If you ...</td>\n",
       "      <td>2008</td>\n",
       "      <td>2008-02-05</td>\n",
       "      <td>Digital_Software</td>\n",
       "    </tr>\n",
       "    <tr>\n",
       "      <th>4</th>\n",
       "      <td>US</td>\n",
       "      <td>46098046</td>\n",
       "      <td>R1GGJJA2R68033</td>\n",
       "      <td>B000YMNI2Q</td>\n",
       "      <td>847631772</td>\n",
       "      <td>TurboTax Basic 2007</td>\n",
       "      <td>1</td>\n",
       "      <td>54</td>\n",
       "      <td>60</td>\n",
       "      <td>N</td>\n",
       "      <td>N</td>\n",
       "      <td>don't waste your money</td>\n",
       "      <td>The description mentions that you can use this...</td>\n",
       "      <td>2008</td>\n",
       "      <td>2008-01-26</td>\n",
       "      <td>Digital_Software</td>\n",
       "    </tr>\n",
       "  </tbody>\n",
       "</table>\n",
       "</div>"
      ],
      "text/plain": [
       "  marketplace customer_id       review_id  product_id product_parent  \\\n",
       "0          US    41754720  R19OFJV91M7D8X  B000YMR61A      141393130   \n",
       "1          US    51669529  R1I6G894K5AGG5  B000YMR61A      141393130   \n",
       "2          US    24731012  R17OE43FFEP81I  B000YMR5X4      234295632   \n",
       "3          US    16049580  R15MGDDK63B52Z  B000YMR61A      141393130   \n",
       "4          US    46098046  R1GGJJA2R68033  B000YMNI2Q      847631772   \n",
       "\n",
       "                           product_title  star_rating  helpful_votes  \\\n",
       "0   TurboTax Deluxe Federal + State 2007            2             12   \n",
       "1   TurboTax Deluxe Federal + State 2007            4              6   \n",
       "2  TurboTax Premier Federal + State 2007            2              9   \n",
       "3   TurboTax Deluxe Federal + State 2007            3             14   \n",
       "4                    TurboTax Basic 2007            1             54   \n",
       "\n",
       "   total_votes vine verified_purchase  \\\n",
       "0           13    N                 N   \n",
       "1            9    N                 N   \n",
       "2           16    N                 N   \n",
       "3           14    N                 N   \n",
       "4           60    N                 N   \n",
       "\n",
       "                                     review_headline  \\\n",
       "0           Easy to use, 1 comment 1 serious problem   \n",
       "1  Schedule C  IS for business- figures it would ...   \n",
       "2                                 Hassel to download   \n",
       "3                                    beware of vista   \n",
       "4                             don't waste your money   \n",
       "\n",
       "                                         review_body  year review_date  \\\n",
       "0  I chose the deluxe version CD because of mortg...  2008  2008-02-11   \n",
       "1  Schedule C  IS for business, so figures it wou...  2008  2008-02-08   \n",
       "2  I wish that companies can test several scenari...  2008  2008-02-05   \n",
       "3  i just installed turbotax deluxe 2007. If you ...  2008  2008-02-05   \n",
       "4  The description mentions that you can use this...  2008  2008-01-26   \n",
       "\n",
       "   product_category  \n",
       "0  Digital_Software  \n",
       "1  Digital_Software  \n",
       "2  Digital_Software  \n",
       "3  Digital_Software  \n",
       "4  Digital_Software  "
      ]
     },
     "execution_count": 19,
     "metadata": {},
     "output_type": "execute_result"
    }
   ],
   "source": [
    "df.head(5)"
   ]
  },
  {
   "cell_type": "markdown",
   "metadata": {},
   "source": [
    "# Query from Athena in Chunks\n",
    "Retrieving in chunks can help reduce memory requirements.  \n",
    "\n",
    "_This will take a few seconds._"
   ]
  },
  {
   "cell_type": "code",
   "execution_count": 20,
   "metadata": {},
   "outputs": [
    {
     "name": "stdout",
     "output_type": "stream",
     "text": [
      "CPU times: user 193 ms, sys: 10.9 ms, total: 204 ms\n",
      "Wall time: 6.19 s\n"
     ]
    }
   ],
   "source": [
    "%%time\n",
    "\n",
    "chunk_iter = wr.athena.read_sql_query(\n",
    "    sql='SELECT * FROM {} LIMIT 5000'.format(table_name_parquet),\n",
    "    database='{}'.format(database_name),\n",
    "    chunksize=64_000  # 64 KB Chunks\n",
    ")"
   ]
  },
  {
   "cell_type": "code",
   "execution_count": 21,
   "metadata": {},
   "outputs": [
    {
     "name": "stdout",
     "output_type": "stream",
     "text": [
      "     marketplace customer_id       review_id  product_id product_parent  \\\n",
      "0             US    41754720  R19OFJV91M7D8X  B000YMR61A      141393130   \n",
      "1             US    51669529  R1I6G894K5AGG5  B000YMR61A      141393130   \n",
      "2             US    24731012  R17OE43FFEP81I  B000YMR5X4      234295632   \n",
      "3             US    16049580  R15MGDDK63B52Z  B000YMR61A      141393130   \n",
      "4             US    46098046  R1GGJJA2R68033  B000YMNI2Q      847631772   \n",
      "...          ...         ...             ...         ...            ...   \n",
      "4995          US    49184630  R2Z5HD93KKY3UF  B006WD9H9Y      503749355   \n",
      "4996          US    17204558  R3J638UEX1MB5T  B004VNHWEO      470252350   \n",
      "4997          US    51993618   RCFEXJ9O9AGS1  B0052YFO2S      572070203   \n",
      "4998          US    32307766  R1SND1KOPB3EAH  B007A5WCCC      618086229   \n",
      "4999          US    23079958  R2BDTB2PJ5QFF5  B005H40K7W      648253967   \n",
      "\n",
      "                                          product_title  star_rating  \\\n",
      "0                  TurboTax Deluxe Federal + State 2007            2   \n",
      "1                  TurboTax Deluxe Federal + State 2007            4   \n",
      "2                 TurboTax Premier Federal + State 2007            2   \n",
      "3                  TurboTax Deluxe Federal + State 2007            3   \n",
      "4                                   TurboTax Basic 2007            1   \n",
      "...                                                 ...          ...   \n",
      "4995  Total War: Shogun 2 - Fall of the Samurai [Dow...            5   \n",
      "4996      Supreme Commander: Forged Alliance [Download]            1   \n",
      "4997                             Red Faction Armageddon            4   \n",
      "4998    House of 1000 Doors: Family Secrets  [Download]            4   \n",
      "4999                     From Dust - PS3 [Digital Code]            1   \n",
      "\n",
      "      helpful_votes  total_votes vine verified_purchase  \\\n",
      "0                12           13    N                 N   \n",
      "1                 6            9    N                 N   \n",
      "2                 9           16    N                 N   \n",
      "3                14           14    N                 N   \n",
      "4                54           60    N                 N   \n",
      "...             ...          ...  ...               ...   \n",
      "4995              0            0    N                 N   \n",
      "4996              2            6    N                 Y   \n",
      "4997              0            0    N                 Y   \n",
      "4998              0            0    N                 Y   \n",
      "4999              2            6    N                 Y   \n",
      "\n",
      "                                        review_headline  \\\n",
      "0              Easy to use, 1 comment 1 serious problem   \n",
      "1     Schedule C  IS for business- figures it would ...   \n",
      "2                                    Hassel to download   \n",
      "3                                       beware of vista   \n",
      "4                                don't waste your money   \n",
      "...                                                 ...   \n",
      "4995                                      Like crack...   \n",
      "4996                              Crashes all the time.   \n",
      "4997                     great game with a decent story   \n",
      "4998                                           Fun game   \n",
      "4999                                     It doesnt work   \n",
      "\n",
      "                                            review_body  year review_date  \\\n",
      "0     I chose the deluxe version CD because of mortg...  2008  2008-02-11   \n",
      "1     Schedule C  IS for business, so figures it wou...  2008  2008-02-08   \n",
      "2     I wish that companies can test several scenari...  2008  2008-02-05   \n",
      "3     i just installed turbotax deluxe 2007. If you ...  2008  2008-02-05   \n",
      "4     The description mentions that you can use this...  2008  2008-01-26   \n",
      "...                                                 ...   ...         ...   \n",
      "4995  Love this game. It is like crack, and much bet...  2012  2012-04-19   \n",
      "4996  Looks like this game is not compatible on more...  2012  2012-04-19   \n",
      "4997  the best part about this game is the total des...  2012  2012-04-19   \n",
      "4998  This game was a lot of fun for $6.99.  Now tha...  2012  2012-04-19   \n",
      "4999  THIS GAME DOESNT WORK<br />I bought it and its...  2012  2012-04-19   \n",
      "\n",
      "         product_category  \n",
      "0        Digital_Software  \n",
      "1        Digital_Software  \n",
      "2        Digital_Software  \n",
      "3        Digital_Software  \n",
      "4        Digital_Software  \n",
      "...                   ...  \n",
      "4995  Digital_Video_Games  \n",
      "4996  Digital_Video_Games  \n",
      "4997  Digital_Video_Games  \n",
      "4998  Digital_Video_Games  \n",
      "4999  Digital_Video_Games  \n",
      "\n",
      "[5000 rows x 16 columns]\n"
     ]
    }
   ],
   "source": [
    "print(next(chunk_iter))"
   ]
  },
  {
   "cell_type": "code",
   "execution_count": null,
   "metadata": {},
   "outputs": [],
   "source": [
    "%%javascript\n",
    "Jupyter.notebook.save_checkpoint();\n",
    "Jupyter.notebook.session.delete();"
   ]
  }
 ],
 "metadata": {
  "kernelspec": {
   "display_name": "conda_python3",
   "language": "python",
   "name": "conda_python3"
  },
  "language_info": {
   "codemirror_mode": {
    "name": "ipython",
    "version": 3
   },
   "file_extension": ".py",
   "mimetype": "text/x-python",
   "name": "python",
   "nbconvert_exporter": "python",
   "pygments_lexer": "ipython3",
   "version": "3.6.10"
  }
 },
 "nbformat": 4,
 "nbformat_minor": 4
}
