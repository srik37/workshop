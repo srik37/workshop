{
 "cells": [
  {
   "cell_type": "markdown",
   "metadata": {},
   "source": [
    "# Convert TSV Data To Parquet with Athena"
   ]
  },
  {
   "cell_type": "markdown",
   "metadata": {},
   "source": [
    "In this notebook, we will show you how you can easily convert that data now into Apache Parquet file format."
   ]
  },
  {
   "cell_type": "markdown",
   "metadata": {},
   "source": [
    "<img src=\"img/athena_convert_parquet.png\" width=\"60%\" align=\"left\">"
   ]
  },
  {
   "cell_type": "code",
   "execution_count": 1,
   "metadata": {},
   "outputs": [],
   "source": [
    "import boto3\n",
    "import sagemaker\n",
    "\n",
    "session = boto3.session.Session()\n",
    "region = session.region_name\n",
    "sagemaker_session = sagemaker.Session()\n",
    "bucket = sagemaker_session.default_bucket()"
   ]
  },
  {
   "cell_type": "code",
   "execution_count": 2,
   "metadata": {},
   "outputs": [],
   "source": [
    "ingest_create_athena_table_parquet_passed = False"
   ]
  },
  {
   "cell_type": "code",
   "execution_count": 3,
   "metadata": {},
   "outputs": [],
   "source": [
    "%store -r ingest_create_athena_table_tsv_passed"
   ]
  },
  {
   "cell_type": "code",
   "execution_count": 4,
   "metadata": {},
   "outputs": [],
   "source": [
    "try:\n",
    "    ingest_create_athena_table_tsv_passed\n",
    "except NameError:\n",
    "    print('++++++++++++++++++++++++++++++++++++++++++++++')\n",
    "    print('[ERROR] YOU HAVE TO RUN ALL PREVIOUS NOTEBOOKS.  You did not register the TSV Data.')\n",
    "    print('++++++++++++++++++++++++++++++++++++++++++++++')"
   ]
  },
  {
   "cell_type": "code",
   "execution_count": 5,
   "metadata": {},
   "outputs": [
    {
     "name": "stdout",
     "output_type": "stream",
     "text": [
      "True\n"
     ]
    }
   ],
   "source": [
    "print(ingest_create_athena_table_tsv_passed)"
   ]
  },
  {
   "cell_type": "code",
   "execution_count": 6,
   "metadata": {},
   "outputs": [
    {
     "name": "stdout",
     "output_type": "stream",
     "text": [
      "[OK]\n"
     ]
    }
   ],
   "source": [
    "if not ingest_create_athena_table_tsv_passed:\n",
    "    print('++++++++++++++++++++++++++++++++++++++++++++++')\n",
    "    print('[ERROR] YOU HAVE TO RUN ALL PREVIOUS NOTEBOOKS.  You did not register the TSV Data.')\n",
    "    print('++++++++++++++++++++++++++++++++++++++++++++++')\n",
    "else:\n",
    "    print('[OK]')"
   ]
  },
  {
   "cell_type": "markdown",
   "metadata": {},
   "source": [
    "# Import PyAthena"
   ]
  },
  {
   "cell_type": "code",
   "execution_count": 7,
   "metadata": {},
   "outputs": [],
   "source": [
    "from pyathena import connect\n",
    "from pyathena.pandas_cursor import PandasCursor\n",
    "from pyathena.util import as_pandas"
   ]
  },
  {
   "cell_type": "markdown",
   "metadata": {},
   "source": [
    "# Create Parquet Files from TSV Table\n",
    "\n",
    "As you can see from the query below, we’re also adding a new `year` column to our dataset by converting the `review_date` string to a date format, and then cast the year out of the date. Let’s store the year value as an integer. And let's partition the Parquet data by `Product Category`."
   ]
  },
  {
   "cell_type": "code",
   "execution_count": 8,
   "metadata": {},
   "outputs": [],
   "source": [
    "# Set S3 path to Parquet data\n",
    "s3_path_parquet = 's3://{}/amazon-reviews-pds/parquet'.format(bucket)\n",
    "\n",
    "# Set Athena parameters\n",
    "database_name = 'dsoaws'\n",
    "table_name_tsv = 'amazon_reviews_tsv'\n",
    "table_name_parquet = 'amazon_reviews_parquet'"
   ]
  },
  {
   "cell_type": "code",
   "execution_count": 9,
   "metadata": {},
   "outputs": [],
   "source": [
    "# Set S3 staging directory -- this is a temporary directory used for Athena queries\n",
    "s3_staging_dir = 's3://{0}/athena/staging'.format(bucket)"
   ]
  },
  {
   "cell_type": "markdown",
   "metadata": {},
   "source": [
    "# Execute Statement\n",
    "_This can take a few minutes.  Please be patient._"
   ]
  },
  {
   "cell_type": "code",
   "execution_count": 10,
   "metadata": {
    "scrolled": true
   },
   "outputs": [
    {
     "name": "stdout",
     "output_type": "stream",
     "text": [
      "CREATE TABLE IF NOT EXISTS dsoaws.amazon_reviews_parquet\n",
      "WITH (format = 'PARQUET', external_location = 's3://sagemaker-us-west-2-085964654406/amazon-reviews-pds/parquet', partitioned_by = ARRAY['product_category']) AS\n",
      "SELECT marketplace,\n",
      "         customer_id,\n",
      "         review_id,\n",
      "         product_id,\n",
      "         product_parent,\n",
      "         product_title,\n",
      "         star_rating,\n",
      "         helpful_votes,\n",
      "         total_votes,\n",
      "         vine,\n",
      "         verified_purchase,\n",
      "         review_headline,\n",
      "         review_body,\n",
      "         CAST(YEAR(DATE(review_date)) AS INTEGER) AS year,\n",
      "         DATE(review_date) AS review_date,\n",
      "         product_category\n",
      "FROM dsoaws.amazon_reviews_tsv\n"
     ]
    }
   ],
   "source": [
    "# SQL statement to execute\n",
    "statement = \"\"\"CREATE TABLE IF NOT EXISTS {}.{}\n",
    "WITH (format = 'PARQUET', external_location = '{}', partitioned_by = ARRAY['product_category']) AS\n",
    "SELECT marketplace,\n",
    "         customer_id,\n",
    "         review_id,\n",
    "         product_id,\n",
    "         product_parent,\n",
    "         product_title,\n",
    "         star_rating,\n",
    "         helpful_votes,\n",
    "         total_votes,\n",
    "         vine,\n",
    "         verified_purchase,\n",
    "         review_headline,\n",
    "         review_body,\n",
    "         CAST(YEAR(DATE(review_date)) AS INTEGER) AS year,\n",
    "         DATE(review_date) AS review_date,\n",
    "         product_category\n",
    "FROM {}.{}\"\"\".format(database_name, table_name_parquet, s3_path_parquet, database_name, table_name_tsv)\n",
    "\n",
    "print(statement)"
   ]
  },
  {
   "cell_type": "code",
   "execution_count": 11,
   "metadata": {},
   "outputs": [
    {
     "data": {
      "text/plain": [
       "<pyathena.cursor.Cursor at 0x7fe10e3dd278>"
      ]
     },
     "execution_count": 11,
     "metadata": {},
     "output_type": "execute_result"
    }
   ],
   "source": [
    "cursor = connect(region_name=region, s3_staging_dir=s3_staging_dir).cursor()\n",
    "cursor.execute(statement)"
   ]
  },
  {
   "cell_type": "markdown",
   "metadata": {},
   "source": [
    "# Load partitions by running `MSCK REPAIR TABLE`"
   ]
  },
  {
   "cell_type": "markdown",
   "metadata": {},
   "source": [
    "As a last step, we need to load the Parquet partitions. To do so, just issue the following SQL command: "
   ]
  },
  {
   "cell_type": "code",
   "execution_count": 12,
   "metadata": {},
   "outputs": [
    {
     "name": "stdout",
     "output_type": "stream",
     "text": [
      "MSCK REPAIR TABLE dsoaws.amazon_reviews_parquet\n"
     ]
    }
   ],
   "source": [
    "statement = 'MSCK REPAIR TABLE {}.{}'.format(database_name, table_name_parquet)\n",
    "\n",
    "print(statement)"
   ]
  },
  {
   "cell_type": "code",
   "execution_count": 13,
   "metadata": {},
   "outputs": [
    {
     "data": {
      "text/plain": [
       "<pyathena.cursor.Cursor at 0x7fe10e0d6198>"
      ]
     },
     "execution_count": 13,
     "metadata": {},
     "output_type": "execute_result"
    }
   ],
   "source": [
    "cursor = connect(region_name=region, s3_staging_dir=s3_staging_dir).cursor()\n",
    "cursor.execute(statement)"
   ]
  },
  {
   "cell_type": "markdown",
   "metadata": {},
   "source": [
    "# Show the Partitions"
   ]
  },
  {
   "cell_type": "code",
   "execution_count": 14,
   "metadata": {},
   "outputs": [
    {
     "name": "stdout",
     "output_type": "stream",
     "text": [
      "SHOW PARTITIONS dsoaws.amazon_reviews_parquet\n"
     ]
    }
   ],
   "source": [
    "statement = 'SHOW PARTITIONS {}.{}'.format(database_name, table_name_parquet)\n",
    "\n",
    "print(statement)"
   ]
  },
  {
   "cell_type": "code",
   "execution_count": 15,
   "metadata": {},
   "outputs": [
    {
     "data": {
      "text/html": [
       "<div>\n",
       "<style scoped>\n",
       "    .dataframe tbody tr th:only-of-type {\n",
       "        vertical-align: middle;\n",
       "    }\n",
       "\n",
       "    .dataframe tbody tr th {\n",
       "        vertical-align: top;\n",
       "    }\n",
       "\n",
       "    .dataframe thead th {\n",
       "        text-align: right;\n",
       "    }\n",
       "</style>\n",
       "<table border=\"1\" class=\"dataframe\">\n",
       "  <thead>\n",
       "    <tr style=\"text-align: right;\">\n",
       "      <th></th>\n",
       "      <th>partition</th>\n",
       "    </tr>\n",
       "  </thead>\n",
       "  <tbody>\n",
       "    <tr>\n",
       "      <th>0</th>\n",
       "      <td>product_category=Digital_Software</td>\n",
       "    </tr>\n",
       "    <tr>\n",
       "      <th>1</th>\n",
       "      <td>product_category=Digital_Video_Games</td>\n",
       "    </tr>\n",
       "  </tbody>\n",
       "</table>\n",
       "</div>"
      ],
      "text/plain": [
       "                              partition\n",
       "0     product_category=Digital_Software\n",
       "1  product_category=Digital_Video_Games"
      ]
     },
     "execution_count": 15,
     "metadata": {},
     "output_type": "execute_result"
    }
   ],
   "source": [
    "cursor = connect(region_name=region, s3_staging_dir=s3_staging_dir).cursor()\n",
    "cursor.execute(statement)\n",
    "\n",
    "df_partitions = as_pandas(cursor)\n",
    "df_partitions.head(5)"
   ]
  },
  {
   "cell_type": "markdown",
   "metadata": {},
   "source": [
    "# Show the Tables"
   ]
  },
  {
   "cell_type": "code",
   "execution_count": 16,
   "metadata": {},
   "outputs": [
    {
     "data": {
      "text/html": [
       "<div>\n",
       "<style scoped>\n",
       "    .dataframe tbody tr th:only-of-type {\n",
       "        vertical-align: middle;\n",
       "    }\n",
       "\n",
       "    .dataframe tbody tr th {\n",
       "        vertical-align: top;\n",
       "    }\n",
       "\n",
       "    .dataframe thead th {\n",
       "        text-align: right;\n",
       "    }\n",
       "</style>\n",
       "<table border=\"1\" class=\"dataframe\">\n",
       "  <thead>\n",
       "    <tr style=\"text-align: right;\">\n",
       "      <th></th>\n",
       "      <th>tab_name</th>\n",
       "    </tr>\n",
       "  </thead>\n",
       "  <tbody>\n",
       "    <tr>\n",
       "      <th>0</th>\n",
       "      <td>amazon_reviews_parquet</td>\n",
       "    </tr>\n",
       "    <tr>\n",
       "      <th>1</th>\n",
       "      <td>amazon_reviews_tsv</td>\n",
       "    </tr>\n",
       "  </tbody>\n",
       "</table>\n",
       "</div>"
      ],
      "text/plain": [
       "                 tab_name\n",
       "0  amazon_reviews_parquet\n",
       "1      amazon_reviews_tsv"
      ]
     },
     "execution_count": 16,
     "metadata": {},
     "output_type": "execute_result"
    }
   ],
   "source": [
    "statement = 'SHOW TABLES in {}'.format(database_name)\n",
    "cursor.execute(statement)\n",
    "\n",
    "df_tables = as_pandas(cursor)\n",
    "df_tables.head(5)"
   ]
  },
  {
   "cell_type": "code",
   "execution_count": 17,
   "metadata": {},
   "outputs": [],
   "source": [
    "if table_name_parquet in df_tables.values:\n",
    "    ingest_create_athena_table_parquet_passed = True"
   ]
  },
  {
   "cell_type": "code",
   "execution_count": 18,
   "metadata": {},
   "outputs": [
    {
     "name": "stdout",
     "output_type": "stream",
     "text": [
      "Stored 'ingest_create_athena_table_parquet_passed' (bool)\n"
     ]
    }
   ],
   "source": [
    "%store ingest_create_athena_table_parquet_passed"
   ]
  },
  {
   "cell_type": "markdown",
   "metadata": {},
   "source": [
    "# Run Sample Query"
   ]
  },
  {
   "cell_type": "code",
   "execution_count": 19,
   "metadata": {},
   "outputs": [
    {
     "name": "stdout",
     "output_type": "stream",
     "text": [
      "SELECT * FROM dsoaws.amazon_reviews_parquet\n",
      "    WHERE product_category = 'Digital_Software' LIMIT 100\n"
     ]
    }
   ],
   "source": [
    "product_category = 'Digital_Software'\n",
    "\n",
    "statement = \"\"\"SELECT * FROM {}.{}\n",
    "    WHERE product_category = '{}' LIMIT 100\"\"\".format(database_name, table_name_parquet, product_category)\n",
    "\n",
    "print(statement)"
   ]
  },
  {
   "cell_type": "code",
   "execution_count": 20,
   "metadata": {},
   "outputs": [
    {
     "data": {
      "text/html": [
       "<div>\n",
       "<style scoped>\n",
       "    .dataframe tbody tr th:only-of-type {\n",
       "        vertical-align: middle;\n",
       "    }\n",
       "\n",
       "    .dataframe tbody tr th {\n",
       "        vertical-align: top;\n",
       "    }\n",
       "\n",
       "    .dataframe thead th {\n",
       "        text-align: right;\n",
       "    }\n",
       "</style>\n",
       "<table border=\"1\" class=\"dataframe\">\n",
       "  <thead>\n",
       "    <tr style=\"text-align: right;\">\n",
       "      <th></th>\n",
       "      <th>marketplace</th>\n",
       "      <th>customer_id</th>\n",
       "      <th>review_id</th>\n",
       "      <th>product_id</th>\n",
       "      <th>product_parent</th>\n",
       "      <th>product_title</th>\n",
       "      <th>star_rating</th>\n",
       "      <th>helpful_votes</th>\n",
       "      <th>total_votes</th>\n",
       "      <th>vine</th>\n",
       "      <th>verified_purchase</th>\n",
       "      <th>review_headline</th>\n",
       "      <th>review_body</th>\n",
       "      <th>year</th>\n",
       "      <th>review_date</th>\n",
       "      <th>product_category</th>\n",
       "    </tr>\n",
       "  </thead>\n",
       "  <tbody>\n",
       "    <tr>\n",
       "      <th>0</th>\n",
       "      <td>US</td>\n",
       "      <td>17747349</td>\n",
       "      <td>R2EI7QLPK4LF7U</td>\n",
       "      <td>B00U7LCE6A</td>\n",
       "      <td>106182406</td>\n",
       "      <td>CCleaner Free [Download]</td>\n",
       "      <td>4</td>\n",
       "      <td>0</td>\n",
       "      <td>0</td>\n",
       "      <td>N</td>\n",
       "      <td>Y</td>\n",
       "      <td>Four Stars</td>\n",
       "      <td>So far so good</td>\n",
       "      <td>2015</td>\n",
       "      <td>2015-08-31</td>\n",
       "      <td>Digital_Software</td>\n",
       "    </tr>\n",
       "    <tr>\n",
       "      <th>1</th>\n",
       "      <td>US</td>\n",
       "      <td>10956619</td>\n",
       "      <td>R1W5OMFK1Q3I3O</td>\n",
       "      <td>B00HRJMOM4</td>\n",
       "      <td>162269768</td>\n",
       "      <td>ResumeMaker Professional Deluxe 18</td>\n",
       "      <td>3</td>\n",
       "      <td>0</td>\n",
       "      <td>0</td>\n",
       "      <td>N</td>\n",
       "      <td>Y</td>\n",
       "      <td>Three Stars</td>\n",
       "      <td>Needs a little more work.....</td>\n",
       "      <td>2015</td>\n",
       "      <td>2015-08-31</td>\n",
       "      <td>Digital_Software</td>\n",
       "    </tr>\n",
       "    <tr>\n",
       "      <th>2</th>\n",
       "      <td>US</td>\n",
       "      <td>13132245</td>\n",
       "      <td>RPZWSYWRP92GI</td>\n",
       "      <td>B00P31G9PQ</td>\n",
       "      <td>831433899</td>\n",
       "      <td>Amazon Drive Desktop [PC]</td>\n",
       "      <td>1</td>\n",
       "      <td>1</td>\n",
       "      <td>2</td>\n",
       "      <td>N</td>\n",
       "      <td>Y</td>\n",
       "      <td>One Star</td>\n",
       "      <td>Please cancel.</td>\n",
       "      <td>2015</td>\n",
       "      <td>2015-08-31</td>\n",
       "      <td>Digital_Software</td>\n",
       "    </tr>\n",
       "    <tr>\n",
       "      <th>3</th>\n",
       "      <td>US</td>\n",
       "      <td>35717248</td>\n",
       "      <td>R2WQWM04XHD9US</td>\n",
       "      <td>B00FGDEPDY</td>\n",
       "      <td>991059534</td>\n",
       "      <td>Norton Internet Security 1 User 3 Licenses</td>\n",
       "      <td>5</td>\n",
       "      <td>0</td>\n",
       "      <td>0</td>\n",
       "      <td>N</td>\n",
       "      <td>Y</td>\n",
       "      <td>Works as Expected!</td>\n",
       "      <td>Works as Expected!</td>\n",
       "      <td>2015</td>\n",
       "      <td>2015-08-31</td>\n",
       "      <td>Digital_Software</td>\n",
       "    </tr>\n",
       "    <tr>\n",
       "      <th>4</th>\n",
       "      <td>US</td>\n",
       "      <td>17710652</td>\n",
       "      <td>R1WSPK2RA2PDEF</td>\n",
       "      <td>B00FZ0FK0U</td>\n",
       "      <td>574904556</td>\n",
       "      <td>SecureAnywhere Intermet Security Complete 5 De...</td>\n",
       "      <td>4</td>\n",
       "      <td>1</td>\n",
       "      <td>2</td>\n",
       "      <td>N</td>\n",
       "      <td>Y</td>\n",
       "      <td>Great antivirus. Worthless customer support</td>\n",
       "      <td>I've had Webroot for a few years. It expired a...</td>\n",
       "      <td>2015</td>\n",
       "      <td>2015-08-31</td>\n",
       "      <td>Digital_Software</td>\n",
       "    </tr>\n",
       "  </tbody>\n",
       "</table>\n",
       "</div>"
      ],
      "text/plain": [
       "  marketplace customer_id       review_id  product_id product_parent  \\\n",
       "0          US    17747349  R2EI7QLPK4LF7U  B00U7LCE6A      106182406   \n",
       "1          US    10956619  R1W5OMFK1Q3I3O  B00HRJMOM4      162269768   \n",
       "2          US    13132245   RPZWSYWRP92GI  B00P31G9PQ      831433899   \n",
       "3          US    35717248  R2WQWM04XHD9US  B00FGDEPDY      991059534   \n",
       "4          US    17710652  R1WSPK2RA2PDEF  B00FZ0FK0U      574904556   \n",
       "\n",
       "                                       product_title  star_rating  \\\n",
       "0                           CCleaner Free [Download]            4   \n",
       "1                 ResumeMaker Professional Deluxe 18            3   \n",
       "2                          Amazon Drive Desktop [PC]            1   \n",
       "3         Norton Internet Security 1 User 3 Licenses            5   \n",
       "4  SecureAnywhere Intermet Security Complete 5 De...            4   \n",
       "\n",
       "   helpful_votes  total_votes vine verified_purchase  \\\n",
       "0              0            0    N                 Y   \n",
       "1              0            0    N                 Y   \n",
       "2              1            2    N                 Y   \n",
       "3              0            0    N                 Y   \n",
       "4              1            2    N                 Y   \n",
       "\n",
       "                               review_headline  \\\n",
       "0                                   Four Stars   \n",
       "1                                  Three Stars   \n",
       "2                                     One Star   \n",
       "3                           Works as Expected!   \n",
       "4  Great antivirus. Worthless customer support   \n",
       "\n",
       "                                         review_body  year review_date  \\\n",
       "0                                     So far so good  2015  2015-08-31   \n",
       "1                      Needs a little more work.....  2015  2015-08-31   \n",
       "2                                     Please cancel.  2015  2015-08-31   \n",
       "3                                 Works as Expected!  2015  2015-08-31   \n",
       "4  I've had Webroot for a few years. It expired a...  2015  2015-08-31   \n",
       "\n",
       "   product_category  \n",
       "0  Digital_Software  \n",
       "1  Digital_Software  \n",
       "2  Digital_Software  \n",
       "3  Digital_Software  \n",
       "4  Digital_Software  "
      ]
     },
     "execution_count": 20,
     "metadata": {},
     "output_type": "execute_result"
    }
   ],
   "source": [
    "# Execute statement using connection cursor\n",
    "cursor = connect(region_name=region, s3_staging_dir=s3_staging_dir).cursor()\n",
    "cursor.execute(statement)\n",
    "\n",
    "df = as_pandas(cursor)\n",
    "df.head(5)"
   ]
  },
  {
   "cell_type": "code",
   "execution_count": 21,
   "metadata": {},
   "outputs": [
    {
     "name": "stdout",
     "output_type": "stream",
     "text": [
      "[OK]\n"
     ]
    }
   ],
   "source": [
    "if not df.empty:\n",
    "    print('[OK]')\n",
    "else:\n",
    "    print('++++++++++++++++++++++++++++++++++++++++++++++++++++++')\n",
    "    print('[ERROR] YOUR DATA HAS NOT BEEN CONVERTED TO PARQUET. LOOK IN PREVIOUS CELLS TO FIND THE ISSUE.')\n",
    "    print('++++++++++++++++++++++++++++++++++++++++++++++++++++++')"
   ]
  },
  {
   "cell_type": "markdown",
   "metadata": {},
   "source": [
    "# Review the New Athena Table in the Glue Catalog"
   ]
  },
  {
   "cell_type": "code",
   "execution_count": 22,
   "metadata": {},
   "outputs": [
    {
     "data": {
      "text/html": [
       "<b>Review <a target=\"top\" href=\"https://console.aws.amazon.com/glue/home?region=us-west-2#\">AWS Glue Catalog</a></b>"
      ],
      "text/plain": [
       "<IPython.core.display.HTML object>"
      ]
     },
     "metadata": {},
     "output_type": "display_data"
    }
   ],
   "source": [
    "from IPython.core.display import display, HTML\n",
    "\n",
    "display(HTML('<b>Review <a target=\"top\" href=\"https://console.aws.amazon.com/glue/home?region={}#\">AWS Glue Catalog</a></b>'.format(region)))\n"
   ]
  },
  {
   "cell_type": "markdown",
   "metadata": {},
   "source": [
    "In just a few steps we have set up Amazon Athena to connect to our Amazon Customer Reviews TSV files, and transformed them into Apache Parquet file format. \n",
    "\n",
    "You might have noticed that our second sample query finished in a fraction of the time compared to the one before we ran on the TSV table. We sped up our query results by leveraging our data being stored as Parquet and partitioned by `product_category`. \n"
   ]
  },
  {
   "cell_type": "markdown",
   "metadata": {},
   "source": [
    "# Store Variables for the Next Notebooks"
   ]
  },
  {
   "cell_type": "code",
   "execution_count": 23,
   "metadata": {},
   "outputs": [
    {
     "name": "stdout",
     "output_type": "stream",
     "text": [
      "Stored variables and their in-db values:\n",
      "auto_ml_job_name                                      -> 'automl-dm-26-16-00-25'\n",
      "autopilot_endpoint_name                               -> 'automl-dm-ep-26-16-21-49'\n",
      "autopilot_train_s3_uri                                -> 's3://sagemaker-us-west-2-085964654406/data/amazon\n",
      "ingest_create_athena_db_passed                        -> True\n",
      "ingest_create_athena_table_parquet_passed             -> True\n",
      "ingest_create_athena_table_tsv_passed                 -> True\n",
      "s3_private_path_tsv                                   -> 's3://sagemaker-us-west-2-085964654406/amazon-revi\n",
      "s3_public_path_tsv                                    -> 's3://amazon-reviews-pds/tsv'\n",
      "setup_dependencies_passed                             -> True\n",
      "setup_iam_roles_passed                                -> True\n",
      "setup_instance_check_passed                           -> True\n",
      "setup_s3_bucket_passed                                -> True\n"
     ]
    }
   ],
   "source": [
    "%store"
   ]
  },
  {
   "cell_type": "code",
   "execution_count": null,
   "metadata": {},
   "outputs": [],
   "source": [
    "%%javascript\n",
    "Jupyter.notebook.save_checkpoint();\n",
    "Jupyter.notebook.session.delete();"
   ]
  }
 ],
 "metadata": {
  "kernelspec": {
   "display_name": "conda_python3",
   "language": "python",
   "name": "conda_python3"
  },
  "language_info": {
   "codemirror_mode": {
    "name": "ipython",
    "version": 3
   },
   "file_extension": ".py",
   "mimetype": "text/x-python",
   "name": "python",
   "nbconvert_exporter": "python",
   "pygments_lexer": "ipython3",
   "version": "3.6.10"
  }
 },
 "nbformat": 4,
 "nbformat_minor": 4
}
